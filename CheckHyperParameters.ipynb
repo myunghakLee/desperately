{
 "cells": [
  {
   "cell_type": "code",
   "execution_count": 1,
   "id": "669a22a9",
   "metadata": {
    "ExecuteTime": {
     "end_time": "2022-10-16T20:49:04.530310Z",
     "start_time": "2022-10-16T20:49:04.522114Z"
    }
   },
   "outputs": [],
   "source": [
    "# import os\n",
    "\n",
    "# os.environ[\"CUDA_VISIBLE_DEVICES\"]= \"2,3\""
   ]
  },
  {
   "cell_type": "code",
   "execution_count": 1,
   "id": "ffc1b24f",
   "metadata": {
    "ExecuteTime": {
     "end_time": "2022-10-17T01:52:19.196131Z",
     "start_time": "2022-10-17T01:52:14.906568Z"
    }
   },
   "outputs": [
    {
     "name": "stderr",
     "output_type": "stream",
     "text": [
      "/home/M2021080/anaconda3/envs/cuda_11_3/lib/python3.8/site-packages/tqdm/auto.py:22: TqdmWarning: IProgress not found. Please update jupyter and ipywidgets. See https://ipywidgets.readthedocs.io/en/stable/user_install.html\n",
      "  from .autonotebook import tqdm as notebook_tqdm\n",
      "Using cache found in /home/M2021080/.cache/torch/hub/pytorch_vision_main\n",
      "/home/M2021080/.cache/torch/hub/pytorch_vision_main/torchvision/io/image.py:13: UserWarning: Failed to load image Python extension: \n",
      "  warn(f\"Failed to load image Python extension: {e}\")\n",
      "Using cache found in /home/M2021080/.cache/torch/hub/pytorch_vision_main\n",
      "/home/M2021080/.cache/torch/hub/pytorch_vision_main/torchvision/models/_utils.py:223: UserWarning: Arguments other than a weight enum or `None` for 'weights' are deprecated since 0.13 and may be removed in the future. The current behavior is equivalent to passing `weights=ResNet50_Weights.IMAGENET1K_V1`. You can also use `weights=ResNet50_Weights.DEFAULT` to get the most up-to-date weights.\n",
      "  warnings.warn(msg)\n"
     ]
    }
   ],
   "source": [
    "import torch\n",
    "model = torch.hub.load(\"pytorch/vision\", \"vit_b_16\")\n",
    "\n",
    "import torchvision\n",
    "from Models.transformer import VisionTransformer as vit\n",
    "import Models.Conv as conv\n",
    "\n",
    "from DataLoader import CIFAR100\n",
    "from tqdm import tqdm\n",
    "import torch.optim as optim\n",
    "import torch.nn as nn\n",
    "\n",
    "import utils\n",
    "\n",
    "import numpy as np\n",
    "import random"
   ]
  },
  {
   "cell_type": "code",
   "execution_count": 2,
   "id": "96edf20f",
   "metadata": {
    "ExecuteTime": {
     "end_time": "2022-10-17T01:52:21.998564Z",
     "start_time": "2022-10-17T01:52:19.729855Z"
    }
   },
   "outputs": [
    {
     "name": "stdout",
     "output_type": "stream",
     "text": [
      "Files already downloaded and verified\n",
      "Files already downloaded and verified\n"
     ]
    },
    {
     "name": "stderr",
     "output_type": "stream",
     "text": [
      "/home/M2021080/anaconda3/envs/cuda_11_3/lib/python3.8/site-packages/torch/utils/data/dataloader.py:563: UserWarning: This DataLoader will create 4 worker processes in total. Our suggested max number of worker in current system is 1, which is smaller than what this DataLoader is going to create. Please be aware that excessive worker creation might get DataLoader running slow or even freeze, lower the worker number to avoid potential slowness/freeze if necessary.\n",
      "  warnings.warn(_create_warning_msg(\n"
     ]
    }
   ],
   "source": [
    "train_loader, test_loader = CIFAR100.get_data(512, use_original=True)"
   ]
  },
  {
   "cell_type": "code",
   "execution_count": 3,
   "id": "59c68ad0",
   "metadata": {
    "ExecuteTime": {
     "end_time": "2022-10-17T01:52:22.027010Z",
     "start_time": "2022-10-17T01:52:22.004670Z"
    },
    "code_folding": [
     0
    ]
   },
   "outputs": [],
   "source": [
    "def get_network(name, device):\n",
    "    \"\"\" return given network\n",
    "    \"\"\"\n",
    "\n",
    "    if name == 'vgg16':\n",
    "        from models.vgg import vgg16_bn\n",
    "        net = vgg16_bn()\n",
    "    elif name == 'vgg13':\n",
    "        from models.vgg import vgg13_bn\n",
    "        net = vgg13_bn()\n",
    "    elif name == 'vgg11':\n",
    "        from models.vgg import vgg11_bn\n",
    "        net = vgg11_bn()\n",
    "    elif name == 'vgg19':\n",
    "        from models.vgg import vgg19_bn\n",
    "        net = vgg19_bn()\n",
    "    elif name == 'densenet121':\n",
    "        from models.densenet import densenet121\n",
    "        net = densenet121()\n",
    "    elif name == 'densenet161':\n",
    "        from models.densenet import densenet161\n",
    "        net = densenet161()\n",
    "    elif name == 'densenet169':\n",
    "        from models.densenet import densenet169\n",
    "        net = densenet169()\n",
    "    elif name == 'densenet201':\n",
    "        from models.densenet import densenet201\n",
    "        net = densenet201()\n",
    "    elif name == 'googlenet':\n",
    "        from models.googlenet import googlenet\n",
    "        net = googlenet()\n",
    "    elif name == 'inceptionv3':\n",
    "        from models.inceptionv3 import inceptionv3\n",
    "        net = inceptionv3()\n",
    "    elif name == 'inceptionv4':\n",
    "        from models.inceptionv4 import inceptionv4\n",
    "        net = inceptionv4()\n",
    "    elif name == 'inceptionresnetv2':\n",
    "        from models.inceptionv4 import inception_resnet_v2\n",
    "        net = inception_resnet_v2()\n",
    "    elif name == 'xception':\n",
    "        from models.xception import xception\n",
    "        net = xception()\n",
    "    elif name == 'resnet18':\n",
    "        from models.resnet import resnet18\n",
    "        net = resnet18()\n",
    "    elif name == 'resnet34':\n",
    "        from models.resnet import resnet34\n",
    "        net = resnet34()\n",
    "    elif name == 'resnet50':\n",
    "        from models.resnet import resnet50\n",
    "        net = resnet50()\n",
    "    elif name == 'resnet101':\n",
    "        from models.resnet import resnet101\n",
    "        net = resnet101()\n",
    "    elif name == 'resnet152':\n",
    "        from models.resnet import resnet152\n",
    "        net = resnet152()\n",
    "    elif name == 'preactresnet18':\n",
    "        from models.preactresnet import preactresnet18\n",
    "        net = preactresnet18()\n",
    "    elif name == 'preactresnet34':\n",
    "        from models.preactresnet import preactresnet34\n",
    "        net = preactresnet34()\n",
    "    elif name == 'preactresnet50':\n",
    "        from models.preactresnet import preactresnet50\n",
    "        net = preactresnet50()\n",
    "    elif name == 'preactresnet101':\n",
    "        from models.preactresnet import preactresnet101\n",
    "        net = preactresnet101()\n",
    "    elif name == 'preactresnet152':\n",
    "        from models.preactresnet import preactresnet152\n",
    "        net = preactresnet152()\n",
    "    elif name == 'resnext50':\n",
    "        from models.resnext import resnext50\n",
    "        net = resnext50()\n",
    "    elif name == 'resnext101':\n",
    "        from models.resnext import resnext101\n",
    "        net = resnext101()\n",
    "    elif name == 'resnext152':\n",
    "        from models.resnext import resnext152\n",
    "        net = resnext152()\n",
    "    elif name == 'shufflenet':\n",
    "        from models.shufflenet import shufflenet\n",
    "        net = shufflenet()\n",
    "    elif name == 'shufflenetv2':\n",
    "        from models.shufflenetv2 import shufflenetv2\n",
    "        net = shufflenetv2()\n",
    "    elif name == 'squeezenet':\n",
    "        from models.squeezenet import squeezenet\n",
    "        net = squeezenet()\n",
    "    elif name == 'mobilenet':\n",
    "        from models.mobilenet import mobilenet\n",
    "        net = mobilenet()\n",
    "    elif name == 'mobilenetv2':\n",
    "        from models.mobilenetv2 import mobilenetv2\n",
    "        net = mobilenetv2()\n",
    "    elif name == 'nasnet':\n",
    "        from models.nasnet import nasnet\n",
    "        net = nasnet()\n",
    "    elif name == 'attention56':\n",
    "        from models.attention import attention56\n",
    "        net = attention56()\n",
    "    elif name == 'attention92':\n",
    "        from models.attention import attention92\n",
    "        net = attention92()\n",
    "    elif name == 'seresnet18':\n",
    "        from models.senet import seresnet18\n",
    "        net = seresnet18()\n",
    "    elif name == 'seresnet34':\n",
    "        from models.senet import seresnet34\n",
    "        net = seresnet34()\n",
    "    elif name == 'seresnet50':\n",
    "        from models.senet import seresnet50\n",
    "        net = seresnet50()\n",
    "    elif name == 'seresnet101':\n",
    "        from models.senet import seresnet101\n",
    "        net = seresnet101()\n",
    "    elif name == 'seresnet152':\n",
    "        from models.senet import seresnet152\n",
    "        net = seresnet152()\n",
    "    elif name == 'wideresnet':\n",
    "        from models.wideresidual import wideresnet\n",
    "        net = wideresnet()\n",
    "    elif name == 'stochasticdepth18':\n",
    "        from models.stochasticdepth import stochastic_depth_resnet18\n",
    "        net = stochastic_depth_resnet18()\n",
    "    elif name == 'stochasticdepth34':\n",
    "        from models.stochasticdepth import stochastic_depth_resnet34\n",
    "        net = stochastic_depth_resnet34()\n",
    "    elif name == 'stochasticdepth50':\n",
    "        from models.stochasticdepth import stochastic_depth_resnet50\n",
    "        net = stochastic_depth_resnet50()\n",
    "    elif name == 'stochasticdepth101':\n",
    "        from models.stochasticdepth import stochastic_depth_resnet101\n",
    "        net = stochastic_depth_resnet101()\n",
    "\n",
    "    else:\n",
    "        print('the network name you have entered is not supported yet')\n",
    "        sys.exit()\n",
    "\n",
    "    net = net.to(device)\n",
    "\n",
    "    return net"
   ]
  },
  {
   "cell_type": "code",
   "execution_count": 4,
   "id": "1353d782",
   "metadata": {
    "ExecuteTime": {
     "end_time": "2022-10-17T01:52:27.173619Z",
     "start_time": "2022-10-17T01:52:24.488361Z"
    }
   },
   "outputs": [
    {
     "data": {
      "text/plain": [
       "<All keys matched successfully>"
      ]
     },
     "execution_count": 4,
     "metadata": {},
     "output_type": "execute_result"
    }
   ],
   "source": [
    "import models\n",
    "teacher = models.__dict__['resnet20'](num_classes=100)\n",
    "teacher.load_state_dict(torch.load(\"saved_models/resnet20/best.pth\").state_dict())\n",
    "\n",
    "# torch.load(\"saved_models/resnet20/best.pth\")\n",
    "# import models\n",
    "# # teacher = models.__dict__['resnet20'](num_classes=100)\n",
    "# teacher = torch.load(\"saved_models/resnet20/best.pth\")"
   ]
  },
  {
   "cell_type": "code",
   "execution_count": 5,
   "id": "072bcbda",
   "metadata": {
    "ExecuteTime": {
     "end_time": "2022-10-17T01:52:27.499048Z",
     "start_time": "2022-10-17T01:52:27.486052Z"
    }
   },
   "outputs": [],
   "source": [
    "device = \"cuda\"\n",
    "\n",
    "teacher = teacher.to(device)\n",
    "# teacher = torch.nn.DataParallel(teacher, device_ids=[0, 1])"
   ]
  },
  {
   "cell_type": "code",
   "execution_count": 6,
   "id": "593b24b3",
   "metadata": {
    "ExecuteTime": {
     "end_time": "2022-10-17T01:52:35.749508Z",
     "start_time": "2022-10-17T01:52:27.605800Z"
    }
   },
   "outputs": [
    {
     "name": "stderr",
     "output_type": "stream",
     "text": [
      "100%|██████████| 20/20 [00:08<00:00,  2.47it/s]"
     ]
    },
    {
     "name": "stdout",
     "output_type": "stream",
     "text": [
      "0 \t test acc : 0.6866999864578247\n"
     ]
    },
    {
     "name": "stderr",
     "output_type": "stream",
     "text": [
      "\n"
     ]
    },
    {
     "data": {
      "text/plain": [
       "tensor(0.6867, device='cuda:0')"
      ]
     },
     "execution_count": 6,
     "metadata": {},
     "output_type": "execute_result"
    }
   ],
   "source": [
    "utils.test(teacher, test_loader,device)\n"
   ]
  },
  {
   "cell_type": "code",
   "execution_count": 7,
   "id": "bb8cfd20",
   "metadata": {
    "ExecuteTime": {
     "end_time": "2022-10-17T01:52:53.485887Z",
     "start_time": "2022-10-17T01:52:53.478280Z"
    }
   },
   "outputs": [],
   "source": [
    "criterion_response = lambda a,b : criterion_KLD(torch.log_softmax(a, dim=1),torch.softmax(b, dim=1))\n",
    "criterion_KLD = torch.nn.KLDivLoss(reduction=\"batchmean\")\n",
    "criterion_L1 = lambda a,b: torch.sum(a-b)/len(a)\n",
    "criterion_onlylabel = lambda a,b : mse(a*b, b)\n",
    "criterion_CE = nn.CrossEntropyLoss()\n",
    "criterion_MSE = nn.MSELoss()\n",
    "\n",
    "\n",
    "softmax = torch.nn.Softmax(dim = 1)"
   ]
  },
  {
   "cell_type": "code",
   "execution_count": 8,
   "id": "696b6058",
   "metadata": {
    "ExecuteTime": {
     "end_time": "2022-10-17T01:53:33.245442Z",
     "start_time": "2022-10-17T01:53:33.238129Z"
    }
   },
   "outputs": [],
   "source": [
    "T_optimizer = optim.SGD(teacher.parameters(), lr=0.01, momentum=0.9)"
   ]
  },
  {
   "cell_type": "code",
   "execution_count": 2,
   "id": "ec48a0ad",
   "metadata": {
    "ExecuteTime": {
     "end_time": "2022-10-17T02:43:52.051199Z",
     "start_time": "2022-10-17T02:43:51.978985Z"
    }
   },
   "outputs": [
    {
     "data": {
      "application/vnd.jupyter.widget-view+json": {
       "model_id": "41e6fc6a7a7b464ca1d8869aca0b8005",
       "version_major": 2,
       "version_minor": 0
      },
      "text/plain": [
       "  0%|          | 0/3 [00:00<?, ?it/s]"
      ]
     },
     "metadata": {},
     "output_type": "display_data"
    }
   ],
   "source": [
    "import tqdm.notebook as tq\n",
    "\n",
    "for d in tq.tqdm([1,2,3]):\n",
    "    pass"
   ]
  },
  {
   "cell_type": "code",
   "execution_count": 10,
   "id": "8f200a19",
   "metadata": {
    "ExecuteTime": {
     "end_time": "2022-10-17T02:05:16.105069Z",
     "start_time": "2022-10-17T01:57:09.606902Z"
    },
    "scrolled": true
   },
   "outputs": [
    {
     "name": "stdout",
     "output_type": "stream",
     "text": [
      "mean : 0.5 \t std: 0.01\n"
     ]
    },
    {
     "name": "stderr",
     "output_type": "stream",
     "text": [
      "  0%|          | 0/98 [01:16<?, ?batch/s, TeacaherACC=tensor(0.9665, device='cuda:0')]\n"
     ]
    },
    {
     "name": "stdout",
     "output_type": "stream",
     "text": [
      "tensor(0.9665, device='cuda:0')\n",
      "mean : 0.5 \t std: 0.003\n"
     ]
    },
    {
     "name": "stderr",
     "output_type": "stream",
     "text": [
      "  0%|          | 0/98 [01:13<?, ?batch/s, TeacaherACC=tensor(0.9665, device='cuda:0')]\n"
     ]
    },
    {
     "name": "stdout",
     "output_type": "stream",
     "text": [
      "tensor(0.9665, device='cuda:0')\n",
      "mean : 0.5 \t std: 0.006\n"
     ]
    },
    {
     "name": "stderr",
     "output_type": "stream",
     "text": [
      "  0%|          | 0/98 [01:14<?, ?batch/s, TeacaherACC=tensor(0.9665, device='cuda:0')]\n"
     ]
    },
    {
     "name": "stdout",
     "output_type": "stream",
     "text": [
      "tensor(0.9665, device='cuda:0')\n",
      "mean : 0.5 \t std: 0.008\n"
     ]
    },
    {
     "name": "stderr",
     "output_type": "stream",
     "text": [
      "  0%|          | 0/98 [01:16<?, ?batch/s, TeacaherACC=tensor(0.9665, device='cuda:0')]\n"
     ]
    },
    {
     "name": "stdout",
     "output_type": "stream",
     "text": [
      "tensor(0.9665, device='cuda:0')\n",
      "mean : 0.5 \t std: 0.01\n"
     ]
    },
    {
     "name": "stderr",
     "output_type": "stream",
     "text": [
      "  0%|          | 0/98 [01:15<?, ?batch/s, TeacaherACC=tensor(0.9665, device='cuda:0')]\n"
     ]
    },
    {
     "name": "stdout",
     "output_type": "stream",
     "text": [
      "tensor(0.9665, device='cuda:0')\n",
      "mean : 0.5 \t std: 0.05\n"
     ]
    },
    {
     "name": "stderr",
     "output_type": "stream",
     "text": [
      "  0%|          | 0/98 [01:15<?, ?batch/s, TeacaherACC=tensor(0.9665, device='cuda:0')]\n"
     ]
    },
    {
     "name": "stdout",
     "output_type": "stream",
     "text": [
      "tensor(0.9665, device='cuda:0')\n",
      "mean : 0.5 \t std: 0.1\n"
     ]
    },
    {
     "name": "stderr",
     "output_type": "stream",
     "text": [
      "  0%|          | 0/98 [00:34<?, ?batch/s, TeacaherACC=tensor(0.9674, device='cuda:0')]\n",
      "\n",
      "KeyboardInterrupt\n",
      "\n"
     ]
    }
   ],
   "source": [
    "best_acc = 0.0\n",
    "stack = 0\n",
    "accs_train = []\n",
    "accs_test = []\n",
    "\n",
    "for mean in [0.5, 0.2, 0.3, 0.4, 0.5,0.6,0.7,0.8,0.9,1.0,1.1, 1.2,1.3,1.4,1.5,1.6,1.7,1.8,1.9]:\n",
    "    for std in [0.01, 0.003, 0.006, 0.008, 0.01, 0.05, 0.1, 0.2]:\n",
    "        T_correct = 0\n",
    "        all_data = 0\n",
    "        utils.set_seed()\n",
    "        print(f\"mean : {mean} \\t std: {std}\")\n",
    "        with tqdm(train_loader, unit='batch') as pbar:\n",
    "            for i, (img, label) in enumerate(train_loader):\n",
    "                teacher.train()\n",
    "                input_data = img.to(device)\n",
    "                label = label.to(device)\n",
    "\n",
    "\n",
    "                all_data += len(input_data)\n",
    "                input_lrp = utils.get_LRP_img(input_data, label, teacher, criterion_CE, T_optimizer, mean=0.5, std = 0.01, mult = 0.4).cuda()\n",
    "                T_optimizer.zero_grad()\n",
    "\n",
    "        #         layer = random.randint(0,  2+encoder_length)\n",
    "                wiㅁpbar.set_postfix(TeacaherACC = T_correct / all_data)\n",
    "            print(T_correct / all_data)\n",
    "        accs_train.append((T_correct / all_data).item())"
   ]
  },
  {
   "cell_type": "code",
   "execution_count": 11,
   "id": "7de8e901",
   "metadata": {
    "ExecuteTime": {
     "end_time": "2022-10-16T23:51:05.229912Z",
     "start_time": "2022-10-16T23:51:05.223606Z"
    }
   },
   "outputs": [],
   "source": [
    "# train data \n",
    "# acc : tensor(0.9537, device='cuda:0')\n",
    "# mean : 0.5 \t std: 0.01\n",
    "\n",
    "# test도 mean이 0.5 std가 0.01일때가 최대인듯\n",
    "\n"
   ]
  },
  {
   "cell_type": "code",
   "execution_count": 3,
   "id": "0cc05a61",
   "metadata": {
    "ExecuteTime": {
     "end_time": "2022-10-17T02:44:05.970749Z",
     "start_time": "2022-10-17T02:44:05.913936Z"
    },
    "scrolled": true
   },
   "outputs": [
    {
     "name": "stdout",
     "output_type": "stream",
     "text": [
      "mult : 0.001\n"
     ]
    },
    {
     "ename": "NameError",
     "evalue": "name 'test_loader' is not defined",
     "output_type": "error",
     "traceback": [
      "\u001b[0;31m---------------------------------------------------------------------------\u001b[0m",
      "\u001b[0;31mNameError\u001b[0m                                 Traceback (most recent call last)",
      "Cell \u001b[0;32mIn [3], line 11\u001b[0m\n\u001b[1;32m      8\u001b[0m all_data \u001b[38;5;241m=\u001b[39m \u001b[38;5;241m0\u001b[39m\n\u001b[1;32m     10\u001b[0m \u001b[38;5;28mprint\u001b[39m(\u001b[38;5;124mf\u001b[39m\u001b[38;5;124m\"\u001b[39m\u001b[38;5;124mmult : \u001b[39m\u001b[38;5;132;01m{\u001b[39;00mmult\u001b[38;5;132;01m}\u001b[39;00m\u001b[38;5;124m\"\u001b[39m)\n\u001b[0;32m---> 11\u001b[0m \u001b[38;5;28;01mwith\u001b[39;00m tq\u001b[38;5;241m.\u001b[39mtqdm(\u001b[43mtest_loader\u001b[49m, unit\u001b[38;5;241m=\u001b[39m\u001b[38;5;124m'\u001b[39m\u001b[38;5;124mbatch\u001b[39m\u001b[38;5;124m'\u001b[39m) \u001b[38;5;28;01mas\u001b[39;00m pbar:\n\u001b[1;32m     12\u001b[0m     \u001b[38;5;28;01mfor\u001b[39;00m i, (img, label) \u001b[38;5;129;01min\u001b[39;00m \u001b[38;5;28menumerate\u001b[39m(test_loader):\n\u001b[1;32m     13\u001b[0m         teacher\u001b[38;5;241m.\u001b[39meval()\n",
      "\u001b[0;31mNameError\u001b[0m: name 'test_loader' is not defined"
     ]
    }
   ],
   "source": [
    "best_acc = 0.0\n",
    "stack = 0\n",
    "accs_train = []\n",
    "accs_test = []\n",
    "\n",
    "for mult in [0.001, 0.002, 0.003, 0.004, 0.005, 0.006, 0.007, 0.008]:\n",
    "    T_correct = 0\n",
    "    all_data = 0\n",
    "\n",
    "    print(f\"mult : {mult}\")\n",
    "    with tqdm(test_loader, unit='batch') as pbar:\n",
    "        for i, (img, label) in enumerate(test_loader):\n",
    "            teacher.eval()\n",
    "            input_data = img.to(device)\n",
    "            label = label.to(device)\n",
    "\n",
    "\n",
    "            all_data += len(input_data)\n",
    "            input_lrp = utils.get_LRP_img_plus(input_data, label, teacher, criterion_CE, T_optimizer, mult).cuda()\n",
    "\n",
    "            T_optimizer.zero_grad()\n",
    "\n",
    "    #         layer = random.randint(0,  2+encoder_length)\n",
    "\n",
    "            output_T = teacher(input_lrp)\n",
    "            if isinstance(output_T, tuple):\n",
    "                output_T = output_T[0]\n",
    "\n",
    "            T_correct += sum(label == torch.argmax(output_T, dim=1))\n",
    "            pbar.set_postfix(TeacaherACC = T_correct / all_data)\n",
    "        print(T_correct / all_data)"
   ]
  },
  {
   "cell_type": "code",
   "execution_count": null,
   "id": "2abba4b7",
   "metadata": {},
   "outputs": [],
   "source": []
  }
 ],
 "metadata": {
  "kernelspec": {
   "display_name": "cuda_11_3",
   "language": "python",
   "name": "cuda_11_3"
  },
  "language_info": {
   "codemirror_mode": {
    "name": "ipython",
    "version": 3
   },
   "file_extension": ".py",
   "mimetype": "text/x-python",
   "name": "python",
   "nbconvert_exporter": "python",
   "pygments_lexer": "ipython3",
   "version": "3.8.0"
  },
  "latex_envs": {
   "LaTeX_envs_menu_present": true,
   "autoclose": false,
   "autocomplete": true,
   "bibliofile": "biblio.bib",
   "cite_by": "apalike",
   "current_citInitial": 1,
   "eqLabelWithNumbers": true,
   "eqNumInitial": 1,
   "hotkeys": {
    "equation": "Ctrl-E",
    "itemize": "Ctrl-I"
   },
   "labels_anchors": false,
   "latex_user_defs": false,
   "report_style_numbering": false,
   "user_envs_cfg": false
  },
  "toc": {
   "base_numbering": 1,
   "nav_menu": {},
   "number_sections": false,
   "sideBar": true,
   "skip_h1_title": false,
   "title_cell": "Table of Contents",
   "title_sidebar": "Contents",
   "toc_cell": false,
   "toc_position": {},
   "toc_section_display": true,
   "toc_window_display": false
  }
 },
 "nbformat": 4,
 "nbformat_minor": 5
}
