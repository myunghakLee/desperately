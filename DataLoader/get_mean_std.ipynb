{
 "cells": [
  {
   "cell_type": "code",
   "execution_count": 7,
   "metadata": {
    "ExecuteTime": {
     "end_time": "2022-08-15T23:44:00.818301Z",
     "start_time": "2022-08-15T23:44:00.802953Z"
    }
   },
   "outputs": [],
   "source": [
    "import torchvision.transforms as transforms\n",
    "from tqdm import tqdm\n",
    "import torchvision\n",
    "import torch\n",
    "\n",
    "def get_mean_std(data_loader):\n",
    "    device = 'cuda' if torch.cuda.is_available() else 'cpu'\n",
    "    h, w = 0, 0\n",
    "    for batch_idx, (inputs, targets) in enumerate(tqdm(data_loader)):\n",
    "        inputs = inputs.to(device)\n",
    "        if batch_idx == 0:\n",
    "            h, w = inputs.size(2), inputs.size(3)\n",
    "#             print(inputs.min(), inputs.max())\n",
    "            chsum = inputs.sum(dim=(0, 2, 3), keepdim=True)\n",
    "        else:\n",
    "            chsum += inputs.sum(dim=(0, 2, 3), keepdim=True)\n",
    "\n",
    "    mean = chsum/len(data)/h/w\n",
    "    print('mean: %s' % mean.view(-1))\n",
    "\n",
    "    chsum = None\n",
    "    for batch_idx, (inputs, targets) in enumerate(tqdm(data_loader)):\n",
    "        inputs = inputs.to(device)\n",
    "        if batch_idx == 0:\n",
    "            chsum = (inputs - mean).pow(2).sum(dim=(0, 2, 3), keepdim=True)\n",
    "        else:\n",
    "            chsum += (inputs - mean).pow(2).sum(dim=(0, 2, 3), keepdim=True)\n",
    "\n",
    "    std = torch.sqrt(chsum/(len(data) * h * w - 1))\n",
    "    print('std: %s' % std.view(-1))\n",
    "\n",
    "batch_size = 512\n",
    "    \n",
    "transform = transforms.Compose([\n",
    "        transforms.ToTensor(),\n",
    "])"
   ]
  },
  {
   "cell_type": "markdown",
   "metadata": {},
   "source": [
    "# CIFAR 100\n",
    "mean: tensor([0.5074, 0.4867, 0.4411], device='cuda:0')\\\n",
    "std: tensor([0.2675, 0.2566, 0.2763], device='cuda:0')"
   ]
  },
  {
   "cell_type": "code",
   "execution_count": 17,
   "metadata": {},
   "outputs": [
    {
     "name": "stdout",
     "output_type": "stream",
     "text": [
      "Files already downloaded and verified\n",
      "Files already downloaded and verified\n",
      "mean: tensor([0.5074, 0.4867, 0.4411], device='cuda:0')\n",
      "std: tensor([0.2675, 0.2566, 0.2763], device='cuda:0')\n"
     ]
    }
   ],
   "source": [
    "train_data = torchvision.datasets.CIFAR100(root=\"./../Dataset/\", train=True, transform=transform, download=True)\n",
    "test_data = torchvision.datasets.CIFAR100(root=\"./../Dataset/\", train=False, transform=transform, download=True)\n",
    "\n",
    "data = train_data + test_data\n",
    "\n",
    "data_loader = torch.utils.data.DataLoader(data, batch_size=batch_size, shuffle=True, num_workers=4)\n",
    "get_mean_std(data_loader)\n",
    "\n",
    "# mean: tensor([0.5074, 0.4867, 0.4411], device='cuda:0')\n",
    "# std: tensor([0.2675, 0.2566, 0.2763], device='cuda:0')"
   ]
  },
  {
   "cell_type": "markdown",
   "metadata": {},
   "source": [
    "# CIFAR 10\n",
    "\n",
    "mean: tensor([0.4919, 0.4827, 0.4472], device='cuda:0')\\\n",
    "std: tensor([0.2470, 0.2434, 0.2616], device='cuda:0')"
   ]
  },
  {
   "cell_type": "code",
   "execution_count": 9,
   "metadata": {},
   "outputs": [
    {
     "name": "stdout",
     "output_type": "stream",
     "text": [
      "Files already downloaded and verified\n",
      "Files already downloaded and verified\n",
      "mean: tensor([0.4919, 0.4827, 0.4472], device='cuda:0')\n",
      "std: tensor([0.2470, 0.2434, 0.2616], device='cuda:0')\n"
     ]
    }
   ],
   "source": [
    "train_data = torchvision.datasets.CIFAR10(root=\"./\", train=True, transform=transform, download=True)\n",
    "test_data = torchvision.datasets.CIFAR10(root=\"./\", train=False, transform=transform, download=True)\n",
    "\n",
    "data = train_data + test_data\n",
    "\n",
    "data_loader = torch.utils.data.DataLoader(data, batch_size=batch_size, shuffle=True, num_workers=4)\n",
    "get_mean_std(data_loader)\n",
    "\n",
    "# mean: tensor([0.4919, 0.4827, 0.4472], device='cuda:0')\n",
    "# std: tensor([0.2470, 0.2434, 0.2616], device='cuda:0')"
   ]
  },
  {
   "cell_type": "markdown",
   "metadata": {},
   "source": [
    "# Flower102\n",
    "mean: tensor([0.4464, 0.3856, 0.2927], device='cuda:0')\\\n",
    "std: tensor([0.3013, 0.2488, 0.2729], device='cuda:0')"
   ]
  },
  {
   "cell_type": "code",
   "execution_count": 15,
   "metadata": {},
   "outputs": [
    {
     "name": "stdout",
     "output_type": "stream",
     "text": [
      "mean: tensor([0.4464, 0.3856, 0.2927], device='cuda:0')\n",
      "std: tensor([0.3013, 0.2488, 0.2729], device='cuda:0')\n"
     ]
    }
   ],
   "source": [
    "dataset_val = torchvision.datasets.Flowers102(root=\"./\", split='val', download=True, transform=transform)\n",
    "dataset_train = torchvision.datasets.Flowers102(root=\"./\", split='test', download=True, transform=transform)\n",
    "\n",
    "data = dataset_val + dataset_train\n",
    "\n",
    "data_loader = torch.utils.data.DataLoader(data, batch_size=1, shuffle=True, num_workers=4)\n",
    "get_mean_std(data_loader)\n",
    "\n",
    "# mean: tensor([0.4464, 0.3856, 0.2927], device='cuda:0')\n",
    "# std: tensor([0.3013, 0.2488, 0.2729], device='cuda:0')"
   ]
  },
  {
   "cell_type": "markdown",
   "metadata": {},
   "source": [
    "# ImageNet\n",
    "\n",
    "\n",
    "### torchvision에서 제시한 수치\n",
    "https://pytorch.org/vision/0.8/models.html \\\n",
    "mean=[0.485, 0.456, 0.406] \\\n",
    "std=[0.229, 0.224, 0.225]\n",
    "\n",
    "\n",
    "### 실제 계산한 수치\n",
    "mean: tensor([0.5624, 0.5358, 0.4780], device='cuda:0')\\\n",
    "std: tensor([0.3167, 0.3082, 0.3206], device='cuda:0')"
   ]
  },
  {
   "cell_type": "code",
   "execution_count": 8,
   "metadata": {
    "ExecuteTime": {
     "end_time": "2022-08-16T10:37:49.425817Z",
     "start_time": "2022-08-15T23:44:03.238503Z"
    }
   },
   "outputs": [
    {
     "name": "stderr",
     "output_type": "stream",
     "text": [
      "100%|██████████| 1331167/1331167 [5:23:32<00:00, 68.57it/s]  \n",
      "  0%|          | 0/1331167 [00:00<?, ?it/s]"
     ]
    },
    {
     "name": "stdout",
     "output_type": "stream",
     "text": [
      "mean: tensor([0.5624, 0.5358, 0.4780], device='cuda:0')\n"
     ]
    },
    {
     "name": "stderr",
     "output_type": "stream",
     "text": [
      "100%|██████████| 1331167/1331167 [5:30:07<00:00, 67.20it/s]  "
     ]
    },
    {
     "name": "stdout",
     "output_type": "stream",
     "text": [
      "std: tensor([0.3167, 0.3082, 0.3206], device='cuda:0')\n"
     ]
    },
    {
     "name": "stderr",
     "output_type": "stream",
     "text": [
      "\n"
     ]
    }
   ],
   "source": [
    "dataset_val = torchvision.datasets.ImageNet(root=\"./../Dataset/ImageNet\", split='val', transform=transform)\n",
    "dataset_train = torchvision.datasets.ImageNet(root=\"./../Dataset/ImageNet\", split='train', transform=transform)\n",
    "\n",
    "data = dataset_val + dataset_train\n",
    "\n",
    "data_loader = torch.utils.data.DataLoader(data, batch_size=1, shuffle=True, num_workers=4)\n",
    "get_mean_std(data_loader)\n"
   ]
  },
  {
   "cell_type": "code",
   "execution_count": null,
   "metadata": {},
   "outputs": [],
   "source": []
  }
 ],
 "metadata": {
  "kernelspec": {
   "display_name": "Python 3",
   "language": "python",
   "name": "python3"
  },
  "language_info": {
   "codemirror_mode": {
    "name": "ipython",
    "version": 3
   },
   "file_extension": ".py",
   "mimetype": "text/x-python",
   "name": "python",
   "nbconvert_exporter": "python",
   "pygments_lexer": "ipython3",
   "version": "3.8.10"
  },
  "toc": {
   "base_numbering": 1,
   "nav_menu": {},
   "number_sections": false,
   "sideBar": true,
   "skip_h1_title": false,
   "title_cell": "Table of Contents",
   "title_sidebar": "Contents",
   "toc_cell": false,
   "toc_position": {},
   "toc_section_display": true,
   "toc_window_display": false
  }
 },
 "nbformat": 4,
 "nbformat_minor": 2
}
