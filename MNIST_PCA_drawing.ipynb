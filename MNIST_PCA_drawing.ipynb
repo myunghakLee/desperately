{
 "cells": [
  {
   "cell_type": "code",
   "execution_count": 1,
   "id": "c45b70ea",
   "metadata": {
    "ExecuteTime": {
     "end_time": "2022-09-21T13:33:41.566552Z",
     "start_time": "2022-09-21T13:33:36.072824Z"
    }
   },
   "outputs": [
    {
     "name": "stderr",
     "output_type": "stream",
     "text": [
      "/home/M2021080/anaconda3/envs/cuda_11_3/lib/python3.8/site-packages/tqdm/auto.py:22: TqdmWarning: IProgress not found. Please update jupyter and ipywidgets. See https://ipywidgets.readthedocs.io/en/stable/user_install.html\n",
      "  from .autonotebook import tqdm as notebook_tqdm\n",
      "Using cache found in /home/M2021080/.cache/torch/hub/pytorch_vision_main\n",
      "/home/M2021080/.cache/torch/hub/pytorch_vision_main/torchvision/io/image.py:13: UserWarning: Failed to load image Python extension: \n",
      "  warn(f\"Failed to load image Python extension: {e}\")\n",
      "Using cache found in /home/M2021080/.cache/torch/hub/pytorch_vision_main\n",
      "/home/M2021080/.cache/torch/hub/pytorch_vision_main/torchvision/models/_utils.py:223: UserWarning: Arguments other than a weight enum or `None` for 'weights' are deprecated since 0.13 and will be removed in 0.15. The current behavior is equivalent to passing `weights=ResNet50_Weights.IMAGENET1K_V1`. You can also use `weights=ResNet50_Weights.DEFAULT` to get the most up-to-date weights.\n",
      "  warnings.warn(msg)\n"
     ]
    }
   ],
   "source": [
    "import torch\n",
    "model = torch.hub.load(\"pytorch/vision\", \"vit_b_16\")\n",
    "\n",
    "import torchvision\n",
    "from Models.transformer import VisionTransformer as vit\n",
    "import Models.Conv as conv\n",
    "\n",
    "from DataLoader import CIFAR100\n",
    "from DataLoader import MNIST\n",
    "from tqdm import tqdm\n",
    "import torch.optim as optim\n",
    "import torch.nn as nn\n",
    "\n",
    "import utils\n",
    "\n",
    "import numpy as np\n",
    "import torch.backends.cudnn as cudnn\n",
    "import random"
   ]
  },
  {
   "cell_type": "code",
   "execution_count": 2,
   "id": "a33b6f0a",
   "metadata": {
    "ExecuteTime": {
     "end_time": "2022-09-21T13:33:41.656828Z",
     "start_time": "2022-09-21T13:33:41.572342Z"
    }
   },
   "outputs": [],
   "source": [
    "train_loader, test_loader = MNIST.get_data(70*3, percent = 1.0)"
   ]
  },
  {
   "cell_type": "code",
   "execution_count": 16,
   "id": "7d7822c2",
   "metadata": {
    "ExecuteTime": {
     "end_time": "2022-09-21T13:37:37.106311Z",
     "start_time": "2022-09-21T13:37:37.032410Z"
    }
   },
   "outputs": [],
   "source": [
    "model = torch.load(\"saved_models/MNIST/using_less_data_resnet18.pth\")\n",
    "model = model.cuda()"
   ]
  },
  {
   "cell_type": "code",
   "execution_count": 24,
   "id": "ac0cf621",
   "metadata": {
    "ExecuteTime": {
     "end_time": "2022-09-21T13:39:33.418948Z",
     "start_time": "2022-09-21T13:39:31.843163Z"
    }
   },
   "outputs": [],
   "source": [
    "for img, l in train_loader:\n",
    "    label = l\n",
    "    img = img.cuda()\n",
    "    output, fc = model(img)\n",
    "    break"
   ]
  },
  {
   "cell_type": "code",
   "execution_count": 25,
   "id": "3b6eeab6",
   "metadata": {
    "ExecuteTime": {
     "end_time": "2022-09-21T13:39:36.756416Z",
     "start_time": "2022-09-21T13:39:36.741700Z"
    }
   },
   "outputs": [
    {
     "data": {
      "text/plain": [
       "tensor([[17.0392, 10.6551, 21.8121,  ..., -1.5641, -2.2443, -2.1738],\n",
       "        [13.1128, 11.6002, 15.6070,  ..., -0.7101, -1.6270, -1.6324],\n",
       "        [ 8.1464,  6.9823, 10.8291,  ..., -1.1202, -1.3466, -1.3005],\n",
       "        ...,\n",
       "        [22.2057,  9.5520, 14.9266,  ..., -2.1085, -1.9973, -2.0730],\n",
       "        [12.0287, 14.8612, 15.4364,  ..., -1.8260, -2.8268, -2.6395],\n",
       "        [22.0500, 11.4726, 15.9844,  ..., -2.2030, -1.0831, -2.2108]],\n",
       "       device='cuda:0', grad_fn=<AddmmBackward0>)"
      ]
     },
     "execution_count": 25,
     "metadata": {},
     "output_type": "execute_result"
    }
   ],
   "source": [
    "output"
   ]
  }
 ],
 "metadata": {
  "kernelspec": {
   "display_name": "cuda_11_3",
   "language": "python",
   "name": "cuda_11_3"
  },
  "language_info": {
   "codemirror_mode": {
    "name": "ipython",
    "version": 3
   },
   "file_extension": ".py",
   "mimetype": "text/x-python",
   "name": "python",
   "nbconvert_exporter": "python",
   "pygments_lexer": "ipython3",
   "version": "3.8.0"
  },
  "latex_envs": {
   "LaTeX_envs_menu_present": true,
   "autoclose": false,
   "autocomplete": true,
   "bibliofile": "biblio.bib",
   "cite_by": "apalike",
   "current_citInitial": 1,
   "eqLabelWithNumbers": true,
   "eqNumInitial": 1,
   "hotkeys": {
    "equation": "Ctrl-E",
    "itemize": "Ctrl-I"
   },
   "labels_anchors": false,
   "latex_user_defs": false,
   "report_style_numbering": false,
   "user_envs_cfg": false
  }
 },
 "nbformat": 4,
 "nbformat_minor": 5
}
