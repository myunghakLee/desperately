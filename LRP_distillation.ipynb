{
 "cells": [
  {
   "cell_type": "code",
   "execution_count": 1,
   "id": "31fb0a75",
   "metadata": {
    "ExecuteTime": {
     "end_time": "2022-09-16T06:17:01.303731Z",
     "start_time": "2022-09-16T06:16:56.831593Z"
    }
   },
   "outputs": [
    {
     "name": "stderr",
     "output_type": "stream",
     "text": [
      "/opt/conda/envs/torch_11_6/lib/python3.8/site-packages/tqdm/auto.py:22: TqdmWarning: IProgress not found. Please update jupyter and ipywidgets. See https://ipywidgets.readthedocs.io/en/stable/user_install.html\n",
      "  from .autonotebook import tqdm as notebook_tqdm\n",
      "Using cache found in /root/.cache/torch/hub/pytorch_vision_main\n",
      "/root/.cache/torch/hub/pytorch_vision_main/torchvision/io/image.py:13: UserWarning: Failed to load image Python extension: \n",
      "  warn(f\"Failed to load image Python extension: {e}\")\n",
      "Using cache found in /root/.cache/torch/hub/pytorch_vision_main\n",
      "/root/.cache/torch/hub/pytorch_vision_main/torchvision/models/_utils.py:223: UserWarning: Arguments other than a weight enum or `None` for 'weights' are deprecated since 0.13 and will be removed in 0.15. The current behavior is equivalent to passing `weights=ResNet50_Weights.IMAGENET1K_V1`. You can also use `weights=ResNet50_Weights.DEFAULT` to get the most up-to-date weights.\n",
      "  warnings.warn(msg)\n",
      "Using cache found in /root/.cache/torch/hub/pytorch_vision_main\n",
      "/root/.cache/torch/hub/pytorch_vision_main/torchvision/models/_utils.py:208: UserWarning: The parameter 'pretrained' is deprecated since 0.13 and will be removed in 0.15, please use 'weights' instead.\n",
      "  warnings.warn(\n",
      "Using cache found in /root/.cache/torch/hub/pytorch_vision_main\n"
     ]
    }
   ],
   "source": [
    "import torch\n",
    "model = torch.hub.load(\"pytorch/vision\", \"vit_b_16\")\n",
    "\n",
    "import torchvision\n",
    "from Models.transformer import VisionTransformer as vit\n",
    "import Models.Conv as conv\n",
    "\n",
    "from DataLoader import CIFAR100\n",
    "from tqdm import tqdm\n",
    "import torch.optim as optim\n",
    "import torch.nn as nn\n",
    "\n",
    "import utils\n",
    "\n",
    "import numpy as np\n",
    "import torch.backends.cudnn as cudnn\n",
    "import random"
   ]
  },
  {
   "cell_type": "code",
   "execution_count": 2,
   "id": "0bb6e0ac",
   "metadata": {
    "ExecuteTime": {
     "end_time": "2022-09-16T06:17:03.352920Z",
     "start_time": "2022-09-16T06:17:01.306143Z"
    }
   },
   "outputs": [
    {
     "name": "stdout",
     "output_type": "stream",
     "text": [
      "Files already downloaded and verified\n",
      "Files already downloaded and verified\n"
     ]
    }
   ],
   "source": [
    "# train_loader, test_loader = CIFAR100.get_data(22*3)\n",
    "train_loader, test_loader = CIFAR100.get_data(64*3)"
   ]
  },
  {
   "cell_type": "code",
   "execution_count": 3,
   "id": "b196da65",
   "metadata": {
    "ExecuteTime": {
     "end_time": "2022-09-16T06:17:09.002326Z",
     "start_time": "2022-09-16T06:17:03.355027Z"
    }
   },
   "outputs": [],
   "source": [
    "layer_num = 16\n",
    "teacher = vit(class_num = 100, pretrained = True, layer = layer_num)\n",
    "# teacher.load_state_dict(torch.load(\"saved_models/vit/vit_b_16/vit_b_16.pth\").module.state_dict())\n",
    "teacher.load_state_dict(torch.load(\"saved_models/vit_b_teacher_16_88_00.pth\").module.state_dict())\n",
    "\n",
    "# student = vit(class_num = 100, pretrained = True, layer=32)\n",
    "student = vit(class_num = 100, pretrained = True, layer = layer_num)\n",
    "# student = vit(class_num = 100, pretrained = True, model = student)"
   ]
  },
  {
   "cell_type": "code",
   "execution_count": 4,
   "id": "35f1909d",
   "metadata": {
    "ExecuteTime": {
     "end_time": "2022-09-16T06:17:09.163029Z",
     "start_time": "2022-09-16T06:17:09.004123Z"
    }
   },
   "outputs": [],
   "source": [
    "device = \"cuda\"\n",
    "\n",
    "teacher = teacher.to(device)\n",
    "teacher = torch.nn.DataParallel(teacher, device_ids=[0, 1, 2])\n",
    "\n",
    "student = student.to(device)\n",
    "student = torch.nn.DataParallel(student, device_ids=[0, 1, 2])\n"
   ]
  },
  {
   "cell_type": "code",
   "execution_count": 5,
   "id": "fea623b9",
   "metadata": {
    "ExecuteTime": {
     "end_time": "2022-09-16T06:17:09.170066Z",
     "start_time": "2022-09-16T06:17:09.165889Z"
    }
   },
   "outputs": [],
   "source": [
    "criterion_onlylabel = lambda a,b : mse(a*b, b)\n",
    "criterion_CE = nn.CrossEntropyLoss()\n",
    "mse = nn.MSELoss()\n",
    "softmax = torch.nn.Softmax(dim = 1)\n",
    "criterion_KLD = torch.nn.KLDivLoss(reduction=\"batchmean\")\n",
    "criterion_response = lambda a,b : criterion_KLD(torch.log_softmax(a, dim=1),torch.softmax(b, dim=1))\n"
   ]
  },
  {
   "cell_type": "code",
   "execution_count": 6,
   "id": "d9a88d7b",
   "metadata": {
    "ExecuteTime": {
     "end_time": "2022-09-16T06:17:09.176522Z",
     "start_time": "2022-09-16T06:17:09.171523Z"
    }
   },
   "outputs": [],
   "source": [
    "S_optimizer = optim.SGD(student.parameters(), lr=0.01, momentum=0.9)\n",
    "T_optimizer = optim.SGD(teacher.parameters(), lr=0.01, momentum=0.9)\n",
    "CE_loss = nn.CrossEntropyLoss()"
   ]
  },
  {
   "cell_type": "code",
   "execution_count": 7,
   "id": "188a3b9a",
   "metadata": {
    "ExecuteTime": {
     "end_time": "2022-09-16T06:17:09.181944Z",
     "start_time": "2022-09-16T06:17:09.178352Z"
    }
   },
   "outputs": [],
   "source": [
    "S_scheduler = torch.optim.lr_scheduler.MultiStepLR(S_optimizer, milestones=[1,2,3,4,5,6,7], gamma=0.1)\n",
    "T_scheduler = torch.optim.lr_scheduler.MultiStepLR(T_optimizer, milestones=[1,2,3,4,5,6,7], gamma=0.1)"
   ]
  },
  {
   "cell_type": "code",
   "execution_count": 8,
   "id": "6f13fe1d",
   "metadata": {
    "ExecuteTime": {
     "end_time": "2022-09-16T06:17:09.187331Z",
     "start_time": "2022-09-16T06:17:09.183781Z"
    }
   },
   "outputs": [],
   "source": [
    "torch.manual_seed(0)\n",
    "torch.cuda.manual_seed(0)\n",
    "torch.cuda.manual_seed_all(0)\n",
    "np.random.seed(0)\n",
    "cudnn.benchmark = False\n",
    "cudnn.deterministic = True\n",
    "random.seed(0)\n",
    "best_acc = 0.0\n",
    "stack = 0\n",
    "\n",
    "accs_train = []\n",
    "accs_test = []"
   ]
  },
  {
   "cell_type": "code",
   "execution_count": 9,
   "id": "d665fad2",
   "metadata": {
    "ExecuteTime": {
     "end_time": "2022-09-15T12:04:54.060121Z",
     "start_time": "2022-09-15T12:04:07.104861Z"
    }
   },
   "outputs": [
    {
     "name": "stderr",
     "output_type": "stream",
     "text": [
      "100%|██████████| 53/53 [00:27<00:00,  1.96it/s]\n"
     ]
    },
    {
     "name": "stdout",
     "output_type": "stream",
     "text": [
      "0 \t test acc : 0.8799999952316284\n"
     ]
    },
    {
     "name": "stderr",
     "output_type": "stream",
     "text": [
      "100%|██████████| 53/53 [00:19<00:00,  2.67it/s]"
     ]
    },
    {
     "name": "stdout",
     "output_type": "stream",
     "text": [
      "0 \t test acc : 0.007899999618530273\n"
     ]
    },
    {
     "name": "stderr",
     "output_type": "stream",
     "text": [
      "\n"
     ]
    },
    {
     "data": {
      "text/plain": [
       "tensor(0.0079, device='cuda:0')"
      ]
     },
     "execution_count": 9,
     "metadata": {},
     "output_type": "execute_result"
    }
   ],
   "source": [
    "utils.test(teacher, test_loader,device) # student도 변하는거 확인 완료함\n",
    "utils.test(student, test_loader,device) # student도 변하는거 확인 완료함\n"
   ]
  },
  {
   "cell_type": "code",
   "execution_count": 10,
   "id": "92199a6b",
   "metadata": {
    "ExecuteTime": {
     "end_time": "2022-09-15T12:04:54.084183Z",
     "start_time": "2022-09-15T12:04:54.063661Z"
    }
   },
   "outputs": [],
   "source": [
    "torch.cuda.empty_cache()"
   ]
  },
  {
   "cell_type": "code",
   "execution_count": 11,
   "id": "349d386f",
   "metadata": {
    "ExecuteTime": {
     "end_time": "2022-09-15T12:04:54.088667Z",
     "start_time": "2022-09-15T12:04:54.085819Z"
    }
   },
   "outputs": [],
   "source": [
    "# torch.mean(fk, dim=2)에서 dim=1인 경우 잘 되지 않음"
   ]
  },
  {
   "cell_type": "code",
   "execution_count": null,
   "id": "726f478e",
   "metadata": {
    "ExecuteTime": {
     "start_time": "2022-09-16T06:16:51.522Z"
    }
   },
   "outputs": [
    {
     "name": "stdout",
     "output_type": "stream",
     "text": [
      "lr : [0.01]\n"
     ]
    },
    {
     "name": "stderr",
     "output_type": "stream",
     "text": [
      "100%|██████████| 261/261 [10:48<00:00,  2.49s/it]\n"
     ]
    },
    {
     "name": "stdout",
     "output_type": "stream",
     "text": [
      "distill loss :  0.001990463047101238\n",
      "general loss :  2.1608902339277596\n",
      "Teacher acc: 0.9528599977493286\n",
      "Student acc: 0.5006600022315979\n"
     ]
    },
    {
     "name": "stderr",
     "output_type": "stream",
     "text": [
      "100%|██████████| 53/53 [00:20<00:00,  2.65it/s]\n"
     ]
    },
    {
     "name": "stdout",
     "output_type": "stream",
     "text": [
      "0 \t test acc : 0.7795999646186829\n",
      "====================================================================================================\n",
      "lr : [0.01]\n"
     ]
    },
    {
     "name": "stderr",
     "output_type": "stream",
     "text": [
      "100%|██████████| 261/261 [10:41<00:00,  2.46s/it]\n"
     ]
    },
    {
     "name": "stdout",
     "output_type": "stream",
     "text": [
      "distill loss :  0.0019229258319731926\n",
      "general loss :  1.1770271935225447\n",
      "Teacher acc: 0.9537599682807922\n",
      "Student acc: 0.6809399724006653\n"
     ]
    },
    {
     "name": "stderr",
     "output_type": "stream",
     "text": [
      "100%|██████████| 53/53 [00:19<00:00,  2.66it/s]\n"
     ]
    },
    {
     "name": "stdout",
     "output_type": "stream",
     "text": [
      "1 \t test acc : 0.8141999840736389\n",
      "====================================================================================================\n",
      "lr : [0.01]\n"
     ]
    },
    {
     "name": "stderr",
     "output_type": "stream",
     "text": [
      "100%|██████████| 261/261 [10:43<00:00,  2.47s/it]\n"
     ]
    },
    {
     "name": "stdout",
     "output_type": "stream",
     "text": [
      "distill loss :  0.0018777668882138366\n",
      "general loss :  1.0218155009536452\n",
      "Teacher acc: 0.953499972820282\n",
      "Student acc: 0.7188000082969666\n"
     ]
    },
    {
     "name": "stderr",
     "output_type": "stream",
     "text": [
      "100%|██████████| 53/53 [00:20<00:00,  2.65it/s]\n"
     ]
    },
    {
     "name": "stdout",
     "output_type": "stream",
     "text": [
      "2 \t test acc : 0.8335999846458435\n",
      "====================================================================================================\n",
      "lr : [0.01]\n"
     ]
    },
    {
     "name": "stderr",
     "output_type": "stream",
     "text": [
      "100%|██████████| 261/261 [10:42<00:00,  2.46s/it]\n"
     ]
    },
    {
     "name": "stdout",
     "output_type": "stream",
     "text": [
      "distill loss :  0.0026926345292813286\n",
      "general loss :  0.9257803305812266\n",
      "Teacher acc: 0.9544399976730347\n",
      "Student acc: 0.7457599639892578\n"
     ]
    },
    {
     "name": "stderr",
     "output_type": "stream",
     "text": [
      "100%|██████████| 53/53 [00:20<00:00,  2.63it/s]\n"
     ]
    },
    {
     "name": "stdout",
     "output_type": "stream",
     "text": [
      "3 \t test acc : 0.8461999893188477\n",
      "====================================================================================================\n",
      "lr : [0.01]\n"
     ]
    },
    {
     "name": "stderr",
     "output_type": "stream",
     "text": [
      "100%|██████████| 261/261 [10:40<00:00,  2.45s/it]\n"
     ]
    },
    {
     "name": "stdout",
     "output_type": "stream",
     "text": [
      "distill loss :  0.003157756675083266\n",
      "general loss :  0.8522831119340042\n",
      "Teacher acc: 0.9540599584579468\n",
      "Student acc: 0.7617599964141846\n"
     ]
    },
    {
     "name": "stderr",
     "output_type": "stream",
     "text": [
      "100%|██████████| 53/53 [00:19<00:00,  2.66it/s]\n"
     ]
    },
    {
     "name": "stdout",
     "output_type": "stream",
     "text": [
      "4 \t test acc : 0.8529999852180481\n",
      "====================================================================================================\n",
      "lr : [0.01]\n"
     ]
    },
    {
     "name": "stderr",
     "output_type": "stream",
     "text": [
      "100%|██████████| 261/261 [10:45<00:00,  2.47s/it]\n"
     ]
    },
    {
     "name": "stdout",
     "output_type": "stream",
     "text": [
      "distill loss :  0.0019574249206333787\n",
      "general loss :  0.8102150196316599\n",
      "Teacher acc: 0.9544000029563904\n",
      "Student acc: 0.7747799754142761\n"
     ]
    },
    {
     "name": "stderr",
     "output_type": "stream",
     "text": [
      "100%|██████████| 53/53 [00:20<00:00,  2.65it/s]\n"
     ]
    },
    {
     "name": "stdout",
     "output_type": "stream",
     "text": [
      "5 \t test acc : 0.8598999977111816\n",
      "====================================================================================================\n",
      "lr : [0.01]\n"
     ]
    },
    {
     "name": "stderr",
     "output_type": "stream",
     "text": [
      "100%|██████████| 261/261 [10:42<00:00,  2.46s/it]\n"
     ]
    },
    {
     "name": "stdout",
     "output_type": "stream",
     "text": [
      "distill loss :  0.002651029734969923\n",
      "general loss :  0.7673440246746458\n",
      "Teacher acc: 0.9528200030326843\n",
      "Student acc: 0.786579966545105\n"
     ]
    },
    {
     "name": "stderr",
     "output_type": "stream",
     "text": [
      "100%|██████████| 53/53 [00:20<00:00,  2.64it/s]\n"
     ]
    },
    {
     "name": "stdout",
     "output_type": "stream",
     "text": [
      "6 \t test acc : 0.8586999773979187\n",
      "====================================================================================================\n",
      "lr : [0.01]\n"
     ]
    },
    {
     "name": "stderr",
     "output_type": "stream",
     "text": [
      "100%|██████████| 261/261 [10:40<00:00,  2.45s/it]\n"
     ]
    },
    {
     "name": "stdout",
     "output_type": "stream",
     "text": [
      "distill loss :  0.003207881880369826\n",
      "general loss :  0.7206315316002945\n",
      "Teacher acc: 0.9554999470710754\n",
      "Student acc: 0.7984600067138672\n"
     ]
    },
    {
     "name": "stderr",
     "output_type": "stream",
     "text": [
      "100%|██████████| 53/53 [00:19<00:00,  2.65it/s]\n"
     ]
    },
    {
     "name": "stdout",
     "output_type": "stream",
     "text": [
      "7 \t test acc : 0.8667999505996704\n",
      "====================================================================================================\n",
      "lr : [0.01]\n"
     ]
    },
    {
     "name": "stderr",
     "output_type": "stream",
     "text": [
      "100%|██████████| 261/261 [10:42<00:00,  2.46s/it]\n"
     ]
    },
    {
     "name": "stdout",
     "output_type": "stream",
     "text": [
      "distill loss :  0.001965988845187086\n",
      "general loss :  0.6939858472210237\n",
      "Teacher acc: 0.9546799659729004\n",
      "Student acc: 0.8063199520111084\n"
     ]
    },
    {
     "name": "stderr",
     "output_type": "stream",
     "text": [
      "100%|██████████| 53/53 [00:19<00:00,  2.65it/s]\n"
     ]
    },
    {
     "name": "stdout",
     "output_type": "stream",
     "text": [
      "8 \t test acc : 0.8682000041007996\n",
      "====================================================================================================\n",
      "lr : [0.01]\n"
     ]
    },
    {
     "name": "stderr",
     "output_type": "stream",
     "text": [
      "100%|██████████| 261/261 [10:45<00:00,  2.47s/it]\n"
     ]
    },
    {
     "name": "stdout",
     "output_type": "stream",
     "text": [
      "distill loss :  0.0021492907777207353\n",
      "general loss :  0.6725221382475447\n",
      "Teacher acc: 0.9537799954414368\n",
      "Student acc: 0.8134599924087524\n"
     ]
    },
    {
     "name": "stderr",
     "output_type": "stream",
     "text": [
      "100%|██████████| 53/53 [00:20<00:00,  2.63it/s]\n"
     ]
    },
    {
     "name": "stdout",
     "output_type": "stream",
     "text": [
      "9 \t test acc : 0.8682999610900879\n",
      "====================================================================================================\n",
      "lr : [0.001]\n"
     ]
    },
    {
     "name": "stderr",
     "output_type": "stream",
     "text": [
      "100%|██████████| 261/261 [10:41<00:00,  2.46s/it]\n"
     ]
    },
    {
     "name": "stdout",
     "output_type": "stream",
     "text": [
      "distill loss :  0.002055077106802974\n",
      "general loss :  0.5630237717052986\n",
      "Teacher acc: 0.9548400044441223\n",
      "Student acc: 0.8445199728012085\n"
     ]
    },
    {
     "name": "stderr",
     "output_type": "stream",
     "text": [
      "100%|██████████| 53/53 [00:19<00:00,  2.66it/s]\n"
     ]
    },
    {
     "name": "stdout",
     "output_type": "stream",
     "text": [
      "10 \t test acc : 0.8826999664306641\n",
      "====================================================================================================\n",
      "lr : [0.001]\n"
     ]
    },
    {
     "name": "stderr",
     "output_type": "stream",
     "text": [
      "100%|██████████| 261/261 [10:42<00:00,  2.46s/it]\n"
     ]
    },
    {
     "name": "stdout",
     "output_type": "stream",
     "text": [
      "distill loss :  0.0012663348627357765\n",
      "general loss :  0.5413253514017639\n",
      "Teacher acc: 0.9544399976730347\n",
      "Student acc: 0.8505199551582336\n"
     ]
    },
    {
     "name": "stderr",
     "output_type": "stream",
     "text": [
      "100%|██████████| 53/53 [00:20<00:00,  2.65it/s]\n"
     ]
    },
    {
     "name": "stdout",
     "output_type": "stream",
     "text": [
      "11 \t test acc : 0.8840999603271484\n",
      "====================================================================================================\n",
      "lr : [0.001]\n"
     ]
    },
    {
     "name": "stderr",
     "output_type": "stream",
     "text": [
      "100%|██████████| 261/261 [10:46<00:00,  2.48s/it]\n"
     ]
    },
    {
     "name": "stdout",
     "output_type": "stream",
     "text": [
      "distill loss :  0.0013802481755263712\n",
      "general loss :  0.528548932509404\n",
      "Teacher acc: 0.9546999931335449\n",
      "Student acc: 0.852899968624115\n"
     ]
    },
    {
     "name": "stderr",
     "output_type": "stream",
     "text": [
      "100%|██████████| 53/53 [00:19<00:00,  2.66it/s]\n"
     ]
    },
    {
     "name": "stdout",
     "output_type": "stream",
     "text": [
      "12 \t test acc : 0.8854999542236328\n",
      "====================================================================================================\n",
      "lr : [0.001]\n"
     ]
    },
    {
     "name": "stderr",
     "output_type": "stream",
     "text": [
      "100%|██████████| 261/261 [10:41<00:00,  2.46s/it]\n"
     ]
    },
    {
     "name": "stdout",
     "output_type": "stream",
     "text": [
      "distill loss :  0.0011240408628294435\n",
      "general loss :  0.5222694673985814\n",
      "Teacher acc: 0.9529399871826172\n",
      "Student acc: 0.8562999963760376\n"
     ]
    },
    {
     "name": "stderr",
     "output_type": "stream",
     "text": [
      "100%|██████████| 53/53 [00:20<00:00,  2.64it/s]\n"
     ]
    },
    {
     "name": "stdout",
     "output_type": "stream",
     "text": [
      "13 \t test acc : 0.882599949836731\n",
      "====================================================================================================\n",
      "lr : [0.001]\n"
     ]
    },
    {
     "name": "stderr",
     "output_type": "stream",
     "text": [
      "100%|██████████| 261/261 [10:43<00:00,  2.46s/it]\n"
     ]
    },
    {
     "name": "stdout",
     "output_type": "stream",
     "text": [
      "distill loss :  0.001884098504954016\n",
      "general loss :  0.5207407876449527\n",
      "Teacher acc: 0.9549199938774109\n",
      "Student acc: 0.8563999533653259\n"
     ]
    },
    {
     "name": "stderr",
     "output_type": "stream",
     "text": [
      "100%|██████████| 53/53 [00:19<00:00,  2.67it/s]\n"
     ]
    },
    {
     "name": "stdout",
     "output_type": "stream",
     "text": [
      "14 \t test acc : 0.8848999738693237\n",
      "====================================================================================================\n",
      "lr : [0.0001]\n"
     ]
    },
    {
     "name": "stderr",
     "output_type": "stream",
     "text": [
      "100%|██████████| 261/261 [10:43<00:00,  2.47s/it]\n"
     ]
    },
    {
     "name": "stdout",
     "output_type": "stream",
     "text": [
      "distill loss :  0.0008530143506415098\n",
      "general loss :  0.5050240197857677\n",
      "Teacher acc: 0.9546200037002563\n",
      "Student acc: 0.8611999750137329\n"
     ]
    },
    {
     "name": "stderr",
     "output_type": "stream",
     "text": [
      "100%|██████████| 53/53 [00:20<00:00,  2.65it/s]\n"
     ]
    },
    {
     "name": "stdout",
     "output_type": "stream",
     "text": [
      "15 \t test acc : 0.8865999579429626\n",
      "====================================================================================================\n",
      "lr : [0.0001]\n"
     ]
    },
    {
     "name": "stderr",
     "output_type": "stream",
     "text": [
      "100%|██████████| 261/261 [10:43<00:00,  2.47s/it]\n"
     ]
    },
    {
     "name": "stdout",
     "output_type": "stream",
     "text": [
      "distill loss :  0.0011376824575614188\n",
      "general loss :  0.5063128221309048\n",
      "Teacher acc: 0.9550600051879883\n",
      "Student acc: 0.8604199886322021\n"
     ]
    },
    {
     "name": "stderr",
     "output_type": "stream",
     "text": [
      "100%|██████████| 53/53 [00:20<00:00,  2.65it/s]\n"
     ]
    },
    {
     "name": "stdout",
     "output_type": "stream",
     "text": [
      "16 \t test acc : 0.8865000009536743\n",
      "====================================================================================================\n",
      "lr : [0.0001]\n"
     ]
    },
    {
     "name": "stderr",
     "output_type": "stream",
     "text": [
      "100%|██████████| 261/261 [10:39<00:00,  2.45s/it]\n"
     ]
    },
    {
     "name": "stdout",
     "output_type": "stream",
     "text": [
      "distill loss :  0.0010702368567658649\n",
      "general loss :  0.507755125961998\n",
      "Teacher acc: 0.9532600045204163\n",
      "Student acc: 0.8598399758338928\n"
     ]
    },
    {
     "name": "stderr",
     "output_type": "stream",
     "text": [
      "100%|██████████| 53/53 [00:20<00:00,  2.63it/s]\n"
     ]
    },
    {
     "name": "stdout",
     "output_type": "stream",
     "text": [
      "17 \t test acc : 0.8865999579429626\n",
      "====================================================================================================\n",
      "lr : [0.0001]\n"
     ]
    },
    {
     "name": "stderr",
     "output_type": "stream",
     "text": [
      "100%|██████████| 261/261 [10:50<00:00,  2.49s/it]\n"
     ]
    },
    {
     "name": "stdout",
     "output_type": "stream",
     "text": [
      "distill loss :  0.0010572274849105323\n",
      "general loss :  0.5076689207462516\n",
      "Teacher acc: 0.9522799849510193\n",
      "Student acc: 0.8607800006866455\n"
     ]
    },
    {
     "name": "stderr",
     "output_type": "stream",
     "text": [
      "100%|██████████| 53/53 [00:20<00:00,  2.65it/s]\n"
     ]
    },
    {
     "name": "stdout",
     "output_type": "stream",
     "text": [
      "18 \t test acc : 0.886199951171875\n",
      "====================================================================================================\n",
      "lr : [1e-05]\n"
     ]
    },
    {
     "name": "stderr",
     "output_type": "stream",
     "text": [
      "100%|██████████| 261/261 [10:41<00:00,  2.46s/it]\n"
     ]
    },
    {
     "name": "stdout",
     "output_type": "stream",
     "text": [
      "distill loss :  0.0010502966562794306\n",
      "general loss :  0.49896455793088423\n",
      "Teacher acc: 0.9545799493789673\n",
      "Student acc: 0.8621000051498413\n"
     ]
    },
    {
     "name": "stderr",
     "output_type": "stream",
     "text": [
      "100%|██████████| 53/53 [00:20<00:00,  2.63it/s]\n"
     ]
    },
    {
     "name": "stdout",
     "output_type": "stream",
     "text": [
      "19 \t test acc : 0.8865000009536743\n",
      "====================================================================================================\n",
      "lr : [1e-05]\n"
     ]
    },
    {
     "name": "stderr",
     "output_type": "stream",
     "text": [
      "100%|██████████| 261/261 [10:40<00:00,  2.45s/it]\n"
     ]
    },
    {
     "name": "stdout",
     "output_type": "stream",
     "text": [
      "distill loss :  0.0010672330829754498\n",
      "general loss :  0.5067768931617225\n",
      "Teacher acc: 0.9540799856185913\n",
      "Student acc: 0.8612399697303772\n"
     ]
    },
    {
     "name": "stderr",
     "output_type": "stream",
     "text": [
      "100%|██████████| 53/53 [00:19<00:00,  2.65it/s]\n"
     ]
    },
    {
     "name": "stdout",
     "output_type": "stream",
     "text": [
      "20 \t test acc : 0.8865999579429626\n",
      "====================================================================================================\n",
      "lr : [1e-05]\n"
     ]
    },
    {
     "name": "stderr",
     "output_type": "stream",
     "text": [
      "100%|██████████| 261/261 [10:42<00:00,  2.46s/it]\n"
     ]
    },
    {
     "name": "stdout",
     "output_type": "stream",
     "text": [
      "distill loss :  0.0006449662943913577\n",
      "general loss :  0.496607121265711\n",
      "Teacher acc: 0.9545799493789673\n",
      "Student acc: 0.8627199530601501\n"
     ]
    },
    {
     "name": "stderr",
     "output_type": "stream",
     "text": [
      "100%|██████████| 53/53 [00:19<00:00,  2.65it/s]\n"
     ]
    },
    {
     "name": "stdout",
     "output_type": "stream",
     "text": [
      "21 \t test acc : 0.8865000009536743\n",
      "====================================================================================================\n",
      "lr : [1e-05]\n"
     ]
    },
    {
     "name": "stderr",
     "output_type": "stream",
     "text": [
      "100%|██████████| 261/261 [10:44<00:00,  2.47s/it]\n"
     ]
    },
    {
     "name": "stdout",
     "output_type": "stream",
     "text": [
      "distill loss :  0.0010593168049797485\n",
      "general loss :  0.5064763426780701\n",
      "Teacher acc: 0.9533599615097046\n",
      "Student acc: 0.8602599501609802\n"
     ]
    },
    {
     "name": "stderr",
     "output_type": "stream",
     "text": [
      "100%|██████████| 53/53 [00:20<00:00,  2.63it/s]\n"
     ]
    },
    {
     "name": "stdout",
     "output_type": "stream",
     "text": [
      "22 \t test acc : 0.8865000009536743\n",
      "====================================================================================================\n",
      "lr : [1.0000000000000002e-06]\n"
     ]
    },
    {
     "name": "stderr",
     "output_type": "stream",
     "text": [
      "100%|██████████| 261/261 [10:44<00:00,  2.47s/it]\n"
     ]
    },
    {
     "name": "stdout",
     "output_type": "stream",
     "text": [
      "distill loss :  0.0009199882601724416\n",
      "general loss :  0.5070527488244447\n",
      "Teacher acc: 0.954759955406189\n",
      "Student acc: 0.8611800074577332\n"
     ]
    },
    {
     "name": "stderr",
     "output_type": "stream",
     "text": [
      "100%|██████████| 53/53 [00:19<00:00,  2.65it/s]\n"
     ]
    },
    {
     "name": "stdout",
     "output_type": "stream",
     "text": [
      "23 \t test acc : 0.8865000009536743\n",
      "====================================================================================================\n",
      "lr : [1.0000000000000002e-06]\n"
     ]
    },
    {
     "name": "stderr",
     "output_type": "stream",
     "text": [
      "100%|██████████| 261/261 [10:41<00:00,  2.46s/it]\n"
     ]
    },
    {
     "name": "stdout",
     "output_type": "stream",
     "text": [
      "distill loss :  0.001234892456176797\n",
      "general loss :  0.5012842128445819\n",
      "Teacher acc: 0.9531199932098389\n",
      "Student acc: 0.8603399991989136\n"
     ]
    },
    {
     "name": "stderr",
     "output_type": "stream",
     "text": [
      "100%|██████████| 53/53 [00:20<00:00,  2.64it/s]\n"
     ]
    },
    {
     "name": "stdout",
     "output_type": "stream",
     "text": [
      "24 \t test acc : 0.8865000009536743\n",
      "====================================================================================================\n",
      "lr : [1.0000000000000002e-06]\n"
     ]
    },
    {
     "name": "stderr",
     "output_type": "stream",
     "text": [
      "100%|██████████| 261/261 [10:45<00:00,  2.47s/it]\n"
     ]
    },
    {
     "name": "stdout",
     "output_type": "stream",
     "text": [
      "distill loss :  0.0009086039068837621\n",
      "general loss :  0.5061064304291517\n",
      "Teacher acc: 0.9521600008010864\n",
      "Student acc: 0.8619399666786194\n"
     ]
    },
    {
     "name": "stderr",
     "output_type": "stream",
     "text": [
      "100%|██████████| 53/53 [00:20<00:00,  2.64it/s]\n"
     ]
    },
    {
     "name": "stdout",
     "output_type": "stream",
     "text": [
      "25 \t test acc : 0.8863999843597412\n",
      "====================================================================================================\n",
      "lr : [1.0000000000000002e-06]\n"
     ]
    },
    {
     "name": "stderr",
     "output_type": "stream",
     "text": [
      "100%|██████████| 261/261 [10:44<00:00,  2.47s/it]\n"
     ]
    },
    {
     "name": "stdout",
     "output_type": "stream",
     "text": [
      "distill loss :  0.0011077557748637944\n",
      "general loss :  0.498379146344817\n",
      "Teacher acc: 0.9542199969291687\n",
      "Student acc: 0.8622199892997742\n"
     ]
    },
    {
     "name": "stderr",
     "output_type": "stream",
     "text": [
      " 91%|█████████ | 48/53 [00:18<00:01,  2.55it/s]"
     ]
    }
   ],
   "source": [
    "student_test_accs = []\n",
    "\n",
    "try:\n",
    "    encoder_length = len(teacher.encoder.layers)\n",
    "except:\n",
    "    encoder_length = len(teacher.module.encoder.layers)\n",
    "\n",
    "for epoch in range(100):\n",
    "    \n",
    "    print(f\"lr : {S_scheduler.get_last_lr()}\")\n",
    "\n",
    "    if S_scheduler.get_last_lr()[0] < 0.000001:\n",
    "        break\n",
    "    \n",
    "    T_correct = 0\n",
    "    S_correct = 0\n",
    "    all_data = 0\n",
    "    \n",
    "    loss_distill = []\n",
    "    loss_CE = []\n",
    "#     loss_response = []\n",
    "    student.train()\n",
    "    teacher.eval()\n",
    "    for img, label in tqdm(train_loader):\n",
    "        input_data = img.to(device)\n",
    "        label = label.to(device)\n",
    "        \n",
    "        \n",
    "        all_data += len(input_data)\n",
    "        input_lrp = utils.get_LRP_img(input_data, label, teacher, criterion_CE, T_optimizer, mean=1.5, std = 0.1, mult=0.4).cuda()\n",
    "        \n",
    "        S_optimizer.zero_grad()\n",
    "        T_optimizer.zero_grad()\n",
    "\n",
    "        layer = random.randint(0,  3+encoder_length)\n",
    "        input_data, fk = student(input_data,layer)\n",
    "        input_lrp, fk_lrp = teacher(input_lrp,layer)\n",
    "        \n",
    "        if layer > 0:\n",
    "            fk = torch.mean(fk, dim=2)\n",
    "            fk_lrp = torch.mean(fk_lrp, dim=2)\n",
    "            \n",
    "        distill_loss = mse(fk, fk_lrp)\n",
    "#         distill_loss = (mse(torch.mean(fk, dim=2), torch.mean(fk_lrp, dim=2)) + mse(torch.mean(fk, dim=1), torch.mean(fk_lrp, dim=1))) / 2\n",
    "                    \n",
    "        CE_loss = criterion_CE(input_data, label)\n",
    "        \n",
    "        response_loss = criterion_response(input_data, input_lrp)\n",
    "        \n",
    "        \n",
    "        T_correct += sum(label == torch.argmax(input_lrp, dim=1))\n",
    "        S_correct += sum(label == torch.argmax(input_data, dim=1))\n",
    "        \n",
    "        loss_CE.append(CE_loss.item())\n",
    "        loss_distill.append(distill_loss.item())\n",
    "#         loss_response.append(response_loss.item())\n",
    "        \n",
    "        loss = (distill_loss * 2 + CE_loss) / 2\n",
    "        loss.backward()\n",
    "        S_optimizer.step()\n",
    "\n",
    "    print(\"distill loss : \", sum(loss_distill) / len(loss_distill))\n",
    "    print(\"general loss : \", sum(loss_CE) / len(loss_CE))\n",
    "#     print(\"response loss : \", sum(loss_response) / len(loss_response))\n",
    "    \n",
    "    print(f\"Teacher acc: {T_correct / all_data}\")\n",
    "    print(f\"Student acc: {S_correct / all_data}\")\n",
    "\n",
    "    test_acc = utils.test(student, test_loader,device, epoch) # student도 변하는거 확인 완료함\n",
    "    \n",
    "    if test_acc > best_acc + 0.01:\n",
    "        stack = 0\n",
    "        best_acc = test_acc\n",
    "        \n",
    "    else:\n",
    "        stack+=1\n",
    "    \n",
    "    if stack > 3:\n",
    "        S_scheduler.step()\n",
    "        stack = 0\n",
    "        \n",
    "    student_test_accs.append(test_acc.item())\n",
    "    print(\"=\" * 100)"
   ]
  },
  {
   "cell_type": "code",
   "execution_count": 13,
   "id": "dbb7a762",
   "metadata": {
    "ExecuteTime": {
     "end_time": "2022-09-16T06:11:16.208229Z",
     "start_time": "2022-09-16T06:10:36.354455Z"
    }
   },
   "outputs": [
    {
     "name": "stderr",
     "output_type": "stream",
     "text": [
      "100%|██████████| 53/53 [00:19<00:00,  2.66it/s]\n"
     ]
    },
    {
     "name": "stdout",
     "output_type": "stream",
     "text": [
      "29 \t test acc : 0.8799999952316284\n"
     ]
    },
    {
     "name": "stderr",
     "output_type": "stream",
     "text": [
      "100%|██████████| 53/53 [00:19<00:00,  2.66it/s]"
     ]
    },
    {
     "name": "stdout",
     "output_type": "stream",
     "text": [
      "29 \t test acc : 0.8904999494552612\n"
     ]
    },
    {
     "name": "stderr",
     "output_type": "stream",
     "text": [
      "\n"
     ]
    },
    {
     "data": {
      "text/plain": [
       "tensor(0.8905, device='cuda:0')"
      ]
     },
     "execution_count": 13,
     "metadata": {},
     "output_type": "execute_result"
    }
   ],
   "source": [
    "# 99 \t test acc : 0.8797000050544739\n",
    "utils.test(teacher, test_loader,device, epoch) # student도 변하는거 확인 완료함\n",
    "utils.test(student, test_loader,device, epoch) # student도 변하는거 확인 완료함\n"
   ]
  },
  {
   "cell_type": "code",
   "execution_count": 15,
   "id": "a52d37f7",
   "metadata": {
    "ExecuteTime": {
     "end_time": "2022-09-16T06:13:56.777395Z",
     "start_time": "2022-09-16T06:13:56.774326Z"
    }
   },
   "outputs": [],
   "source": [
    "saved_folder = \"saved_models/vit/vit_b_16\""
   ]
  },
  {
   "cell_type": "code",
   "execution_count": 16,
   "id": "08941597",
   "metadata": {
    "ExecuteTime": {
     "end_time": "2022-09-16T06:13:57.794001Z",
     "start_time": "2022-09-16T06:13:57.011413Z"
    }
   },
   "outputs": [],
   "source": [
    "torch.save(student, f\"{saved_folder}/student_vit_b_16.pth\")"
   ]
  },
  {
   "cell_type": "code",
   "execution_count": null,
   "id": "54d2a26f",
   "metadata": {
    "ExecuteTime": {
     "start_time": "2022-09-14T17:49:26.880Z"
    }
   },
   "outputs": [],
   "source": [
    "with open(saved_folder + \"/student_vit_l_16.json\", \"w\") as f:\n",
    "    json.dump({\"student_test_accs\" : student_test_accs}, f)"
   ]
  },
  {
   "cell_type": "code",
   "execution_count": null,
   "id": "4731629f",
   "metadata": {},
   "outputs": [],
   "source": []
  }
 ],
 "metadata": {
  "kernelspec": {
   "display_name": "cuda_11_6",
   "language": "python",
   "name": "cuda_11_6"
  },
  "language_info": {
   "codemirror_mode": {
    "name": "ipython",
    "version": 3
   },
   "file_extension": ".py",
   "mimetype": "text/x-python",
   "name": "python",
   "nbconvert_exporter": "python",
   "pygments_lexer": "ipython3",
   "version": "3.8.13"
  },
  "toc": {
   "base_numbering": 1,
   "nav_menu": {},
   "number_sections": false,
   "sideBar": true,
   "skip_h1_title": false,
   "title_cell": "Table of Contents",
   "title_sidebar": "Contents",
   "toc_cell": false,
   "toc_position": {},
   "toc_section_display": true,
   "toc_window_display": false
  }
 },
 "nbformat": 4,
 "nbformat_minor": 5
}
