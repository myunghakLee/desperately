{
 "cells": [
  {
   "cell_type": "code",
   "execution_count": 1,
   "id": "31fb0a75",
   "metadata": {
    "ExecuteTime": {
     "end_time": "2022-09-06T15:27:56.138169Z",
     "start_time": "2022-09-06T15:27:51.485967Z"
    }
   },
   "outputs": [
    {
     "name": "stderr",
     "output_type": "stream",
     "text": [
      "/opt/conda/envs/torch_11_6/lib/python3.8/site-packages/tqdm/auto.py:22: TqdmWarning: IProgress not found. Please update jupyter and ipywidgets. See https://ipywidgets.readthedocs.io/en/stable/user_install.html\n",
      "  from .autonotebook import tqdm as notebook_tqdm\n",
      "Using cache found in /root/.cache/torch/hub/pytorch_vision_main\n",
      "/root/.cache/torch/hub/pytorch_vision_main/torchvision/io/image.py:13: UserWarning: Failed to load image Python extension: \n",
      "  warn(f\"Failed to load image Python extension: {e}\")\n",
      "Using cache found in /root/.cache/torch/hub/pytorch_vision_main\n",
      "/root/.cache/torch/hub/pytorch_vision_main/torchvision/models/_utils.py:223: UserWarning: Arguments other than a weight enum or `None` for 'weights' are deprecated since 0.13 and will be removed in 0.15. The current behavior is equivalent to passing `weights=ResNet50_Weights.IMAGENET1K_V1`. You can also use `weights=ResNet50_Weights.DEFAULT` to get the most up-to-date weights.\n",
      "  warnings.warn(msg)\n",
      "Using cache found in /root/.cache/torch/hub/pytorch_vision_main\n",
      "/root/.cache/torch/hub/pytorch_vision_main/torchvision/models/_utils.py:208: UserWarning: The parameter 'pretrained' is deprecated since 0.13 and will be removed in 0.15, please use 'weights' instead.\n",
      "  warnings.warn(\n",
      "Using cache found in /root/.cache/torch/hub/pytorch_vision_main\n"
     ]
    }
   ],
   "source": [
    "import torch\n",
    "model = torch.hub.load(\"pytorch/vision\", \"vit_b_16\")\n",
    "\n",
    "import torchvision\n",
    "from Models.transformer import VisionTransformer as vit\n",
    "import Models.Conv as conv\n",
    "\n",
    "from DataLoader import CIFAR100\n",
    "from tqdm import tqdm\n",
    "import torch.optim as optim\n",
    "import torch.nn as nn\n",
    "\n",
    "import utils\n",
    "\n",
    "import numpy as np\n",
    "import torch.backends.cudnn as cudnn\n",
    "import random"
   ]
  },
  {
   "cell_type": "code",
   "execution_count": 2,
   "id": "0bb6e0ac",
   "metadata": {
    "ExecuteTime": {
     "end_time": "2022-09-06T15:27:58.155191Z",
     "start_time": "2022-09-06T15:27:56.140492Z"
    }
   },
   "outputs": [
    {
     "name": "stdout",
     "output_type": "stream",
     "text": [
      "Files already downloaded and verified\n",
      "Files already downloaded and verified\n"
     ]
    }
   ],
   "source": [
    "train_loader, test_loader = CIFAR100.get_data(58*3)"
   ]
  },
  {
   "cell_type": "code",
   "execution_count": 3,
   "id": "b196da65",
   "metadata": {
    "ExecuteTime": {
     "end_time": "2022-09-06T15:28:03.929922Z",
     "start_time": "2022-09-06T15:27:58.156974Z"
    }
   },
   "outputs": [],
   "source": [
    "teacher = vit(class_num = 100, pretrained = True)\n",
    "teacher.load_state_dict(torch.load(\"saved_models/vit_b_teacher_16_88_00.pth\").module.state_dict())\n",
    "student = vit(class_num = 100, pretrained = True)"
   ]
  },
  {
   "cell_type": "code",
   "execution_count": 4,
   "id": "35f1909d",
   "metadata": {
    "ExecuteTime": {
     "end_time": "2022-09-06T15:28:04.119316Z",
     "start_time": "2022-09-06T15:28:03.932719Z"
    }
   },
   "outputs": [],
   "source": [
    "device = \"cuda\"\n",
    "\n",
    "teacher = teacher.to(device)\n",
    "teacher = torch.nn.DataParallel(teacher, device_ids=[0, 1, 2])\n",
    "\n",
    "student = student.to(device)\n",
    "student = torch.nn.DataParallel(student, device_ids=[0, 1, 2])\n"
   ]
  },
  {
   "cell_type": "code",
   "execution_count": 5,
   "id": "fea623b9",
   "metadata": {
    "ExecuteTime": {
     "end_time": "2022-09-06T15:28:04.125528Z",
     "start_time": "2022-09-06T15:28:04.121024Z"
    }
   },
   "outputs": [],
   "source": [
    "criterion_onlylabel = lambda a,b : mse(a*b, b)\n",
    "criterion_CE = nn.CrossEntropyLoss()\n",
    "mse = nn.MSELoss()\n",
    "softmax = torch.nn.Softmax(dim = 1)\n",
    "criterion_KLD = torch.nn.KLDivLoss(reduction=\"batchmean\")\n",
    "criterion_response = lambda a,b : criterion_KLD(torch.log_softmax(a, dim=1),torch.softmax(b, dim=1))\n"
   ]
  },
  {
   "cell_type": "code",
   "execution_count": 6,
   "id": "d9a88d7b",
   "metadata": {
    "ExecuteTime": {
     "end_time": "2022-09-06T15:28:04.132307Z",
     "start_time": "2022-09-06T15:28:04.127302Z"
    }
   },
   "outputs": [],
   "source": [
    "S_optimizer = optim.SGD(student.parameters(), lr=0.01, momentum=0.9)\n",
    "T_optimizer = optim.SGD(teacher.parameters(), lr=0.01, momentum=0.9)\n",
    "CE_loss = nn.CrossEntropyLoss()"
   ]
  },
  {
   "cell_type": "code",
   "execution_count": 7,
   "id": "188a3b9a",
   "metadata": {
    "ExecuteTime": {
     "end_time": "2022-09-06T15:28:04.137960Z",
     "start_time": "2022-09-06T15:28:04.133886Z"
    }
   },
   "outputs": [],
   "source": [
    "S_scheduler = torch.optim.lr_scheduler.MultiStepLR(S_optimizer, milestones=[1,2,3,4,5,6,7], gamma=0.1)\n",
    "T_scheduler = torch.optim.lr_scheduler.MultiStepLR(T_optimizer, milestones=[1,2,3,4,5,6,7], gamma=0.1)"
   ]
  },
  {
   "cell_type": "code",
   "execution_count": 8,
   "id": "6f13fe1d",
   "metadata": {
    "ExecuteTime": {
     "end_time": "2022-09-06T15:28:04.144015Z",
     "start_time": "2022-09-06T15:28:04.139740Z"
    }
   },
   "outputs": [],
   "source": [
    "torch.manual_seed(0)\n",
    "torch.cuda.manual_seed(0)\n",
    "torch.cuda.manual_seed_all(0)\n",
    "np.random.seed(0)\n",
    "cudnn.benchmark = False\n",
    "cudnn.deterministic = True\n",
    "random.seed(0)\n",
    "best_acc = 0.0\n",
    "stack = 0\n",
    "\n",
    "accs_train = []\n",
    "accs_test = []"
   ]
  },
  {
   "cell_type": "code",
   "execution_count": 9,
   "id": "d665fad2",
   "metadata": {
    "ExecuteTime": {
     "end_time": "2022-09-06T15:28:32.076158Z",
     "start_time": "2022-09-06T15:28:04.145803Z"
    }
   },
   "outputs": [
    {
     "name": "stderr",
     "output_type": "stream",
     "text": [
      "100%|██████████| 58/58 [00:27<00:00,  2.08it/s]"
     ]
    },
    {
     "name": "stdout",
     "output_type": "stream",
     "text": [
      "0 \t test acc : 0.8799999952316284\n"
     ]
    },
    {
     "name": "stderr",
     "output_type": "stream",
     "text": [
      "\n"
     ]
    },
    {
     "data": {
      "text/plain": [
       "tensor(0.8800, device='cuda:0')"
      ]
     },
     "execution_count": 9,
     "metadata": {},
     "output_type": "execute_result"
    }
   ],
   "source": [
    "utils.test(teacher, test_loader,device) # student도 변하는거 확인 완료함\n"
   ]
  },
  {
   "cell_type": "code",
   "execution_count": null,
   "id": "726f478e",
   "metadata": {
    "ExecuteTime": {
     "start_time": "2022-09-06T15:27:52.000Z"
    }
   },
   "outputs": [
    {
     "name": "stdout",
     "output_type": "stream",
     "text": [
      "lr : [0.01]\n"
     ]
    },
    {
     "name": "stderr",
     "output_type": "stream",
     "text": [
      "100%|██████████| 288/288 [11:33<00:00,  2.41s/it]\n"
     ]
    },
    {
     "name": "stdout",
     "output_type": "stream",
     "text": [
      "distill loss :  0.050382229143805385\n",
      "general loss :  4.430208048886723\n",
      "response loss :  1.9460779428482056\n",
      "Teacher acc: 0.8040399551391602\n",
      "Student acc: 0.41495999693870544\n"
     ]
    },
    {
     "name": "stderr",
     "output_type": "stream",
     "text": [
      "100%|██████████| 58/58 [00:20<00:00,  2.83it/s]\n"
     ]
    },
    {
     "name": "stdout",
     "output_type": "stream",
     "text": [
      "0 \t test acc : 0.7555999755859375\n",
      "====================================================================================================\n",
      "lr : [0.01]\n"
     ]
    },
    {
     "name": "stderr",
     "output_type": "stream",
     "text": [
      "100%|██████████| 288/288 [11:33<00:00,  2.41s/it]\n"
     ]
    },
    {
     "name": "stdout",
     "output_type": "stream",
     "text": [
      "distill loss :  0.03021993418062468\n",
      "general loss :  4.054238852527407\n",
      "response loss :  0.42281760109795463\n",
      "Teacher acc: 0.8028199672698975\n",
      "Student acc: 0.6793599724769592\n"
     ]
    },
    {
     "name": "stderr",
     "output_type": "stream",
     "text": [
      "100%|██████████| 58/58 [00:20<00:00,  2.82it/s]\n"
     ]
    },
    {
     "name": "stdout",
     "output_type": "stream",
     "text": [
      "1 \t test acc : 0.8166999816894531\n",
      "====================================================================================================\n",
      "lr : [0.01]\n"
     ]
    },
    {
     "name": "stderr",
     "output_type": "stream",
     "text": [
      "100%|██████████| 288/288 [11:31<00:00,  2.40s/it]\n"
     ]
    },
    {
     "name": "stdout",
     "output_type": "stream",
     "text": [
      "distill loss :  0.02684872253869091\n",
      "general loss :  3.9682750064465733\n",
      "response loss :  0.2716040295652217\n",
      "Teacher acc: 0.8033199906349182\n",
      "Student acc: 0.7242000102996826\n"
     ]
    },
    {
     "name": "stderr",
     "output_type": "stream",
     "text": [
      "100%|██████████| 58/58 [00:20<00:00,  2.82it/s]\n"
     ]
    },
    {
     "name": "stdout",
     "output_type": "stream",
     "text": [
      "2 \t test acc : 0.8417999744415283\n",
      "====================================================================================================\n",
      "lr : [0.01]\n"
     ]
    },
    {
     "name": "stderr",
     "output_type": "stream",
     "text": [
      "100%|██████████| 288/288 [11:34<00:00,  2.41s/it]\n"
     ]
    },
    {
     "name": "stdout",
     "output_type": "stream",
     "text": [
      "distill loss :  0.01910198407939687\n",
      "general loss :  3.9314322719971337\n",
      "response loss :  0.21525637241494325\n",
      "Teacher acc: 0.8041799664497375\n",
      "Student acc: 0.7483599781990051\n"
     ]
    },
    {
     "name": "stderr",
     "output_type": "stream",
     "text": [
      "100%|██████████| 58/58 [00:20<00:00,  2.83it/s]\n"
     ]
    },
    {
     "name": "stdout",
     "output_type": "stream",
     "text": [
      "3 \t test acc : 0.8518999814987183\n",
      "====================================================================================================\n",
      "lr : [0.01]\n"
     ]
    },
    {
     "name": "stderr",
     "output_type": "stream",
     "text": [
      "100%|██████████| 288/288 [11:35<00:00,  2.41s/it]\n"
     ]
    },
    {
     "name": "stdout",
     "output_type": "stream",
     "text": [
      "distill loss :  0.017521508744620305\n",
      "general loss :  3.907356503109137\n",
      "response loss :  0.19140260591585603\n",
      "Teacher acc: 0.8059999942779541\n",
      "Student acc: 0.7656399607658386\n"
     ]
    },
    {
     "name": "stderr",
     "output_type": "stream",
     "text": [
      "100%|██████████| 58/58 [00:20<00:00,  2.80it/s]\n"
     ]
    },
    {
     "name": "stdout",
     "output_type": "stream",
     "text": [
      "4 \t test acc : 0.8549999594688416\n",
      "====================================================================================================\n",
      "lr : [0.01]\n"
     ]
    },
    {
     "name": "stderr",
     "output_type": "stream",
     "text": [
      "100%|██████████| 288/288 [11:35<00:00,  2.42s/it]\n"
     ]
    },
    {
     "name": "stdout",
     "output_type": "stream",
     "text": [
      "distill loss :  0.017187951648439694\n",
      "general loss :  3.893997141884433\n",
      "response loss :  0.17455330560915172\n",
      "Teacher acc: 0.8041799664497375\n",
      "Student acc: 0.7763400077819824\n"
     ]
    },
    {
     "name": "stderr",
     "output_type": "stream",
     "text": [
      "100%|██████████| 58/58 [00:20<00:00,  2.81it/s]\n"
     ]
    },
    {
     "name": "stdout",
     "output_type": "stream",
     "text": [
      "5 \t test acc : 0.8593999743461609\n",
      "====================================================================================================\n",
      "lr : [0.01]\n"
     ]
    },
    {
     "name": "stderr",
     "output_type": "stream",
     "text": [
      "100%|██████████| 288/288 [11:32<00:00,  2.40s/it]\n"
     ]
    },
    {
     "name": "stdout",
     "output_type": "stream",
     "text": [
      "distill loss :  0.01651309929729905\n",
      "general loss :  3.8837345871660442\n",
      "response loss :  0.16490654041990638\n",
      "Teacher acc: 0.8046599626541138\n",
      "Student acc: 0.7843599915504456\n"
     ]
    },
    {
     "name": "stderr",
     "output_type": "stream",
     "text": [
      "100%|██████████| 58/58 [00:20<00:00,  2.97it/s]"
     ]
    }
   ],
   "source": [
    "student_test_accs = []\n",
    "\n",
    "try:\n",
    "    encoder_length = len(teacher.encoder.layers)\n",
    "except:\n",
    "    encoder_length = len(teacher.module.encoder.layers)\n",
    "\n",
    "for epoch in range(100):\n",
    "    \n",
    "    print(f\"lr : {S_scheduler.get_last_lr()}\")\n",
    "    T_correct = 0\n",
    "    S_correct = 0\n",
    "    all_data = 0\n",
    "    \n",
    "    loss_distill = []\n",
    "    loss_CE = []\n",
    "    loss_response = []\n",
    "    student.train()\n",
    "    for img, label in tqdm(train_loader):\n",
    "        teacher.train()\n",
    "        input_data = img.to(device)\n",
    "        label = label.to(device)\n",
    "        \n",
    "        \n",
    "        all_data += len(input_data)\n",
    "        input_lrp = utils.get_LRP_img(input_data, label, teacher, criterion_CE, T_optimizer, mean=1.5, std = 0.1).cuda()\n",
    "        \n",
    "        S_optimizer.zero_grad()\n",
    "        T_optimizer.zero_grad()\n",
    "\n",
    "        layer = random.randint(0,  2+encoder_length)\n",
    "        input_data, fk = student(input_data,layer)\n",
    "        input_lrp, fk_lrp = teacher(input_lrp,layer)\n",
    "        \n",
    "        distill_loss = mse(fk, fk_lrp)\n",
    "                    \n",
    "        CE_loss = criterion_CE(torch.softmax(input_data, dim=1), label)\n",
    "        \n",
    "        response_loss = criterion_response(input_data, input_lrp)\n",
    "        \n",
    "        T_correct += sum(label == torch.argmax(input_lrp, dim=1))\n",
    "        S_correct += sum(label == torch.argmax(input_data, dim=1))\n",
    "        \n",
    "        loss_CE.append(CE_loss.item())\n",
    "        loss_distill.append(distill_loss.item())\n",
    "        loss_response.append(response_loss.item())\n",
    "        \n",
    "        loss = (distill_loss * 2 + CE_loss + response_loss * 0.25) / 2\n",
    "        loss.backward()\n",
    "        S_optimizer.step()\n",
    "\n",
    "    print(\"distill loss : \", sum(loss_distill) / len(loss_distill))\n",
    "    print(\"general loss : \", sum(loss_CE) / len(loss_CE))\n",
    "    print(\"response loss : \", sum(loss_response) / len(loss_response))\n",
    "    \n",
    "    print(f\"Teacher acc: {T_correct / all_data}\")\n",
    "    print(f\"Student acc: {S_correct / all_data}\")\n",
    "\n",
    "    test_acc = utils.test(student, test_loader,device, epoch) # student도 변하는거 확인 완료함\n",
    "    \n",
    "    if test_acc > best_acc + 0.01:\n",
    "        stack = 0\n",
    "        best_acc = test_acc\n",
    "        \n",
    "    else:\n",
    "        stack+=1\n",
    "    \n",
    "    if stack > 3:\n",
    "        S_scheduler.step()\n",
    "        stack = 0\n",
    "        \n",
    "    student_test_accs.append(test_acc.item())\n",
    "    print(\"=\" * 100)"
   ]
  },
  {
   "cell_type": "code",
   "execution_count": null,
   "id": "5eeef3c6",
   "metadata": {
    "ExecuteTime": {
     "start_time": "2022-09-06T15:27:52.000Z"
    }
   },
   "outputs": [],
   "source": [
    "# distill loss를 2배 키워보는것도 좋을지도"
   ]
  },
  {
   "cell_type": "code",
   "execution_count": null,
   "id": "dbb7a762",
   "metadata": {
    "ExecuteTime": {
     "start_time": "2022-09-06T15:27:52.000Z"
    }
   },
   "outputs": [],
   "source": [
    "utils.test(teacher, test_loader,device, epoch) # student도 변하는거 확인 완료함\n",
    "utils.test(student, test_loader,device, epoch) # student도 변하는거 확인 완료함\n"
   ]
  },
  {
   "cell_type": "code",
   "execution_count": null,
   "id": "08941597",
   "metadata": {
    "ExecuteTime": {
     "start_time": "2022-09-06T15:27:52.001Z"
    }
   },
   "outputs": [],
   "source": [
    "torch.save(student, \"vit_b_16_m_0_9_std_0_4_acc_89_01.pth\")"
   ]
  },
  {
   "cell_type": "code",
   "execution_count": null,
   "id": "54d2a26f",
   "metadata": {},
   "outputs": [],
   "source": []
  }
 ],
 "metadata": {
  "kernelspec": {
   "display_name": "cuda_11_6",
   "language": "python",
   "name": "cuda_11_6"
  },
  "language_info": {
   "codemirror_mode": {
    "name": "ipython",
    "version": 3
   },
   "file_extension": ".py",
   "mimetype": "text/x-python",
   "name": "python",
   "nbconvert_exporter": "python",
   "pygments_lexer": "ipython3",
   "version": "3.8.13"
  },
  "toc": {
   "base_numbering": 1,
   "nav_menu": {},
   "number_sections": false,
   "sideBar": true,
   "skip_h1_title": false,
   "title_cell": "Table of Contents",
   "title_sidebar": "Contents",
   "toc_cell": false,
   "toc_position": {},
   "toc_section_display": true,
   "toc_window_display": false
  }
 },
 "nbformat": 4,
 "nbformat_minor": 5
}
