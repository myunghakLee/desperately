{
 "cells": [
  {
   "cell_type": "code",
   "execution_count": 1,
   "id": "1fce4982",
   "metadata": {
    "ExecuteTime": {
     "end_time": "2022-09-07T06:31:25.775424Z",
     "start_time": "2022-09-07T06:31:25.771526Z"
    }
   },
   "outputs": [],
   "source": [
    "import os\n",
    "\n",
    "os.environ[\"CUDA_VISIBLE_DEVICES\"]= \"2,3\""
   ]
  },
  {
   "cell_type": "code",
   "execution_count": 2,
   "id": "31fb0a75",
   "metadata": {
    "ExecuteTime": {
     "end_time": "2022-09-07T06:31:29.056234Z",
     "start_time": "2022-09-07T06:31:25.777075Z"
    }
   },
   "outputs": [
    {
     "name": "stderr",
     "output_type": "stream",
     "text": [
      "Using cache found in /root/.cache/torch/hub/pytorch_vision_main\n",
      "/root/.cache/torch/hub/pytorch_vision_main/torchvision/io/image.py:13: UserWarning: Failed to load image Python extension: \n",
      "  warn(f\"Failed to load image Python extension: {e}\")\n",
      "Using cache found in /root/.cache/torch/hub/pytorch_vision_main\n",
      "/root/.cache/torch/hub/pytorch_vision_main/torchvision/models/_utils.py:223: UserWarning: Arguments other than a weight enum or `None` for 'weights' are deprecated since 0.13 and will be removed in 0.15. The current behavior is equivalent to passing `weights=ResNet50_Weights.IMAGENET1K_V1`. You can also use `weights=ResNet50_Weights.DEFAULT` to get the most up-to-date weights.\n",
      "  warnings.warn(msg)\n",
      "Using cache found in /root/.cache/torch/hub/pytorch_vision_main\n",
      "/root/.cache/torch/hub/pytorch_vision_main/torchvision/models/_utils.py:209: UserWarning: The parameter 'pretrained' is deprecated since 0.13 and will be removed in 0.15, please use 'weights' instead.\n",
      "  f\"The parameter '{pretrained_param}' is deprecated since 0.13 and will be removed in 0.15, \"\n",
      "Using cache found in /root/.cache/torch/hub/pytorch_vision_main\n"
     ]
    }
   ],
   "source": [
    "import torch\n",
    "model = torch.hub.load(\"pytorch/vision\", \"vit_b_16\")\n",
    "\n",
    "import torchvision\n",
    "from Models.transformer import VisionTransformer as vit\n",
    "import Models.Conv as conv\n",
    "\n",
    "from DataLoader import CIFAR100\n",
    "from tqdm import tqdm\n",
    "import torch.optim as optim\n",
    "import torch.nn as nn\n",
    "\n",
    "import utils\n",
    "\n",
    "import numpy as np\n",
    "import torch.backends.cudnn as cudnn\n",
    "import random"
   ]
  },
  {
   "cell_type": "code",
   "execution_count": 3,
   "id": "0bb6e0ac",
   "metadata": {
    "ExecuteTime": {
     "end_time": "2022-09-07T06:31:30.604145Z",
     "start_time": "2022-09-07T06:31:29.059509Z"
    }
   },
   "outputs": [
    {
     "name": "stdout",
     "output_type": "stream",
     "text": [
      "Files already downloaded and verified\n",
      "Files already downloaded and verified\n"
     ]
    }
   ],
   "source": [
    "train_loader, test_loader = CIFAR100.get_data(58*3)"
   ]
  },
  {
   "cell_type": "code",
   "execution_count": 4,
   "id": "b196da65",
   "metadata": {
    "ExecuteTime": {
     "end_time": "2022-09-07T06:31:39.356051Z",
     "start_time": "2022-09-07T06:31:30.606633Z"
    }
   },
   "outputs": [],
   "source": [
    "teacher = vit(class_num = 100, pretrained = True)\n",
    "teacher.load_state_dict(torch.load(\"saved_models/vit_b_16_m_0_9_std_0_4_acc_89_01.pth\").module.state_dict())\n",
    "student = vit(class_num = 100, pretrained = True)"
   ]
  },
  {
   "cell_type": "code",
   "execution_count": 5,
   "id": "35f1909d",
   "metadata": {
    "ExecuteTime": {
     "end_time": "2022-09-07T06:31:39.502099Z",
     "start_time": "2022-09-07T06:31:39.358287Z"
    }
   },
   "outputs": [],
   "source": [
    "device = \"cuda\"\n",
    "\n",
    "teacher = teacher.to(device)\n",
    "teacher = torch.nn.DataParallel(teacher, device_ids=[0, 1])\n",
    "\n",
    "student = student.to(device)\n",
    "student = torch.nn.DataParallel(student, device_ids=[0, 1])\n"
   ]
  },
  {
   "cell_type": "code",
   "execution_count": 6,
   "id": "fea623b9",
   "metadata": {
    "ExecuteTime": {
     "end_time": "2022-09-07T06:31:39.507830Z",
     "start_time": "2022-09-07T06:31:39.503739Z"
    }
   },
   "outputs": [],
   "source": [
    "criterion_onlylabel = lambda a,b : mse(a*b, b)\n",
    "criterion_CE = nn.CrossEntropyLoss()\n",
    "mse = nn.MSELoss()\n",
    "softmax = torch.nn.Softmax(dim = 1)\n",
    "criterion_KLD = torch.nn.KLDivLoss(reduction=\"batchmean\")\n",
    "criterion_response = lambda a,b : criterion_KLD(torch.log_softmax(a, dim=1),torch.softmax(b, dim=1))\n"
   ]
  },
  {
   "cell_type": "code",
   "execution_count": 7,
   "id": "d9a88d7b",
   "metadata": {
    "ExecuteTime": {
     "end_time": "2022-09-07T06:31:39.520579Z",
     "start_time": "2022-09-07T06:31:39.509404Z"
    }
   },
   "outputs": [],
   "source": [
    "S_optimizer = optim.SGD(student.parameters(), lr=0.01, momentum=0.9)\n",
    "T_optimizer = optim.SGD(teacher.parameters(), lr=0.01, momentum=0.9)\n",
    "CE_loss = nn.CrossEntropyLoss()"
   ]
  },
  {
   "cell_type": "code",
   "execution_count": 8,
   "id": "188a3b9a",
   "metadata": {
    "ExecuteTime": {
     "end_time": "2022-09-07T06:31:39.533203Z",
     "start_time": "2022-09-07T06:31:39.522313Z"
    }
   },
   "outputs": [],
   "source": [
    "S_scheduler = torch.optim.lr_scheduler.MultiStepLR(S_optimizer, milestones=[1,2,3,4,5,6,7], gamma=0.1)\n",
    "T_scheduler = torch.optim.lr_scheduler.MultiStepLR(T_optimizer, milestones=[1,2,3,4,5,6,7], gamma=0.1)"
   ]
  },
  {
   "cell_type": "code",
   "execution_count": 9,
   "id": "6f13fe1d",
   "metadata": {
    "ExecuteTime": {
     "end_time": "2022-09-07T06:31:39.546882Z",
     "start_time": "2022-09-07T06:31:39.537540Z"
    }
   },
   "outputs": [],
   "source": [
    "torch.manual_seed(0)\n",
    "torch.cuda.manual_seed(0)\n",
    "torch.cuda.manual_seed_all(0)\n",
    "np.random.seed(0)\n",
    "cudnn.benchmark = False\n",
    "cudnn.deterministic = True\n",
    "random.seed(0)\n",
    "best_acc = 0.0\n",
    "stack = 0\n",
    "\n",
    "accs_train = []\n",
    "accs_test = []"
   ]
  },
  {
   "cell_type": "code",
   "execution_count": 10,
   "id": "d665fad2",
   "metadata": {
    "ExecuteTime": {
     "end_time": "2022-09-07T06:31:56.301461Z",
     "start_time": "2022-09-07T06:31:39.548814Z"
    }
   },
   "outputs": [
    {
     "name": "stderr",
     "output_type": "stream",
     "text": [
      "100%|██████████| 58/58 [00:16<00:00,  3.47it/s]"
     ]
    },
    {
     "name": "stdout",
     "output_type": "stream",
     "text": [
      "0 \t test acc : 0.8901000022888184\n"
     ]
    },
    {
     "name": "stderr",
     "output_type": "stream",
     "text": [
      "\n"
     ]
    },
    {
     "data": {
      "text/plain": [
       "tensor(0.8901, device='cuda:0')"
      ]
     },
     "execution_count": 10,
     "metadata": {},
     "output_type": "execute_result"
    }
   ],
   "source": [
    "utils.test(teacher, test_loader,device) # student도 변하는거 확인 완료함\n"
   ]
  },
  {
   "cell_type": "code",
   "execution_count": null,
   "id": "0470b567",
   "metadata": {},
   "outputs": [],
   "source": [
    "# 1. output에 대해 softmax지워봄"
   ]
  },
  {
   "cell_type": "code",
   "execution_count": 11,
   "id": "726f478e",
   "metadata": {
    "ExecuteTime": {
     "end_time": "2022-09-07T15:03:28.598262Z",
     "start_time": "2022-09-07T06:31:56.303970Z"
    }
   },
   "outputs": [
    {
     "name": "stdout",
     "output_type": "stream",
     "text": [
      "lr : [0.01]\n"
     ]
    },
    {
     "name": "stderr",
     "output_type": "stream",
     "text": [
      "100%|██████████| 288/288 [05:54<00:00,  1.23s/it]\n"
     ]
    },
    {
     "name": "stdout",
     "output_type": "stream",
     "text": [
      "distill loss :  0.09352837664644337\n",
      "general loss :  2.0429506248070135\n",
      "response loss :  1.8423182517290115\n",
      "Teacher acc: 0.9752999544143677\n",
      "Student acc: 0.5237599611282349\n"
     ]
    },
    {
     "name": "stderr",
     "output_type": "stream",
     "text": [
      "100%|██████████| 58/58 [00:11<00:00,  4.91it/s]\n"
     ]
    },
    {
     "name": "stdout",
     "output_type": "stream",
     "text": [
      "0 \t test acc : 0.7893999814987183\n",
      "====================================================================================================\n",
      "lr : [0.01]\n"
     ]
    },
    {
     "name": "stderr",
     "output_type": "stream",
     "text": [
      "100%|██████████| 288/288 [05:54<00:00,  1.23s/it]\n"
     ]
    },
    {
     "name": "stdout",
     "output_type": "stream",
     "text": [
      "distill loss :  0.06918160808143309\n",
      "general loss :  1.1201681776179209\n",
      "response loss :  0.923602126331793\n",
      "Teacher acc: 0.9741799831390381\n",
      "Student acc: 0.6942799687385559\n"
     ]
    },
    {
     "name": "stderr",
     "output_type": "stream",
     "text": [
      "100%|██████████| 58/58 [00:11<00:00,  5.04it/s]\n"
     ]
    },
    {
     "name": "stdout",
     "output_type": "stream",
     "text": [
      "1 \t test acc : 0.8273999691009521\n",
      "====================================================================================================\n",
      "lr : [0.01]\n"
     ]
    },
    {
     "name": "stderr",
     "output_type": "stream",
     "text": [
      "100%|██████████| 288/288 [05:56<00:00,  1.24s/it]\n"
     ]
    },
    {
     "name": "stdout",
     "output_type": "stream",
     "text": [
      "distill loss :  0.061803105752915144\n",
      "general loss :  0.965492549041907\n",
      "response loss :  0.7746890294882987\n",
      "Teacher acc: 0.9766599535942078\n",
      "Student acc: 0.732979953289032\n"
     ]
    },
    {
     "name": "stderr",
     "output_type": "stream",
     "text": [
      "100%|██████████| 58/58 [00:11<00:00,  5.11it/s]\n"
     ]
    },
    {
     "name": "stdout",
     "output_type": "stream",
     "text": [
      "2 \t test acc : 0.8452999591827393\n",
      "====================================================================================================\n",
      "lr : [0.01]\n"
     ]
    },
    {
     "name": "stderr",
     "output_type": "stream",
     "text": [
      "100%|██████████| 288/288 [05:55<00:00,  1.24s/it]\n"
     ]
    },
    {
     "name": "stdout",
     "output_type": "stream",
     "text": [
      "distill loss :  0.05438867867794923\n",
      "general loss :  0.8710036151525047\n",
      "response loss :  0.6794635940136181\n",
      "Teacher acc: 0.975339949131012\n",
      "Student acc: 0.7594199776649475\n"
     ]
    },
    {
     "name": "stderr",
     "output_type": "stream",
     "text": [
      "100%|██████████| 58/58 [00:11<00:00,  5.06it/s]\n"
     ]
    },
    {
     "name": "stdout",
     "output_type": "stream",
     "text": [
      "3 \t test acc : 0.8545999526977539\n",
      "====================================================================================================\n",
      "lr : [0.01]\n"
     ]
    },
    {
     "name": "stderr",
     "output_type": "stream",
     "text": [
      "100%|██████████| 288/288 [05:55<00:00,  1.23s/it]\n"
     ]
    },
    {
     "name": "stdout",
     "output_type": "stream",
     "text": [
      "distill loss :  0.05237420262872345\n",
      "general loss :  0.8103700460245212\n",
      "response loss :  0.6247267390911778\n",
      "Teacher acc: 0.9765999913215637\n",
      "Student acc: 0.7748599648475647\n"
     ]
    },
    {
     "name": "stderr",
     "output_type": "stream",
     "text": [
      "100%|██████████| 58/58 [00:11<00:00,  5.08it/s]\n"
     ]
    },
    {
     "name": "stdout",
     "output_type": "stream",
     "text": [
      "4 \t test acc : 0.856499969959259\n",
      "====================================================================================================\n",
      "lr : [0.01]\n"
     ]
    },
    {
     "name": "stderr",
     "output_type": "stream",
     "text": [
      "100%|██████████| 288/288 [05:57<00:00,  1.24s/it]\n"
     ]
    },
    {
     "name": "stdout",
     "output_type": "stream",
     "text": [
      "distill loss :  0.051430444000288844\n",
      "general loss :  0.753524412918422\n",
      "response loss :  0.5727246791745225\n",
      "Teacher acc: 0.9775199890136719\n",
      "Student acc: 0.7892599701881409\n"
     ]
    },
    {
     "name": "stderr",
     "output_type": "stream",
     "text": [
      "100%|██████████| 58/58 [00:11<00:00,  5.12it/s]\n"
     ]
    },
    {
     "name": "stdout",
     "output_type": "stream",
     "text": [
      "5 \t test acc : 0.8666999936103821\n",
      "====================================================================================================\n",
      "lr : [0.01]\n"
     ]
    },
    {
     "name": "stderr",
     "output_type": "stream",
     "text": [
      "100%|██████████| 288/288 [05:56<00:00,  1.24s/it]\n"
     ]
    },
    {
     "name": "stdout",
     "output_type": "stream",
     "text": [
      "distill loss :  0.04645503551970857\n",
      "general loss :  0.7167947546889385\n",
      "response loss :  0.5362334488373663\n",
      "Teacher acc: 0.9770199656486511\n",
      "Student acc: 0.8018800020217896\n"
     ]
    },
    {
     "name": "stderr",
     "output_type": "stream",
     "text": [
      "100%|██████████| 58/58 [00:11<00:00,  5.05it/s]\n"
     ]
    },
    {
     "name": "stdout",
     "output_type": "stream",
     "text": [
      "6 \t test acc : 0.8646999597549438\n",
      "====================================================================================================\n",
      "lr : [0.01]\n"
     ]
    },
    {
     "name": "stderr",
     "output_type": "stream",
     "text": [
      "100%|██████████| 288/288 [05:55<00:00,  1.23s/it]\n"
     ]
    },
    {
     "name": "stdout",
     "output_type": "stream",
     "text": [
      "distill loss :  0.045256661286758676\n",
      "general loss :  0.678741055747701\n",
      "response loss :  0.5038201356720593\n",
      "Teacher acc: 0.9780199527740479\n",
      "Student acc: 0.8096399903297424\n"
     ]
    },
    {
     "name": "stderr",
     "output_type": "stream",
     "text": [
      "100%|██████████| 58/58 [00:11<00:00,  5.10it/s]\n"
     ]
    },
    {
     "name": "stdout",
     "output_type": "stream",
     "text": [
      "7 \t test acc : 0.8709999918937683\n",
      "====================================================================================================\n",
      "lr : [0.01]\n"
     ]
    },
    {
     "name": "stderr",
     "output_type": "stream",
     "text": [
      "100%|██████████| 288/288 [05:55<00:00,  1.24s/it]\n"
     ]
    },
    {
     "name": "stdout",
     "output_type": "stream",
     "text": [
      "distill loss :  0.04354101596335466\n",
      "general loss :  0.6469335144178735\n",
      "response loss :  0.4713569177935521\n",
      "Teacher acc: 0.9774999618530273\n",
      "Student acc: 0.8210799694061279\n"
     ]
    },
    {
     "name": "stderr",
     "output_type": "stream",
     "text": [
      "100%|██████████| 58/58 [00:11<00:00,  5.08it/s]\n"
     ]
    },
    {
     "name": "stdout",
     "output_type": "stream",
     "text": [
      "8 \t test acc : 0.8657999634742737\n",
      "====================================================================================================\n",
      "lr : [0.01]\n"
     ]
    },
    {
     "name": "stderr",
     "output_type": "stream",
     "text": [
      "100%|██████████| 288/288 [05:55<00:00,  1.23s/it]\n"
     ]
    },
    {
     "name": "stdout",
     "output_type": "stream",
     "text": [
      "distill loss :  0.043147168080193095\n",
      "general loss :  0.6185315524538358\n",
      "response loss :  0.45070747130860883\n",
      "Teacher acc: 0.97843998670578\n",
      "Student acc: 0.8282600045204163\n"
     ]
    },
    {
     "name": "stderr",
     "output_type": "stream",
     "text": [
      "100%|██████████| 58/58 [00:11<00:00,  5.05it/s]\n"
     ]
    },
    {
     "name": "stdout",
     "output_type": "stream",
     "text": [
      "9 \t test acc : 0.866599977016449\n",
      "====================================================================================================\n",
      "lr : [0.001]\n"
     ]
    },
    {
     "name": "stderr",
     "output_type": "stream",
     "text": [
      "100%|██████████| 288/288 [05:56<00:00,  1.24s/it]\n"
     ]
    },
    {
     "name": "stdout",
     "output_type": "stream",
     "text": [
      "distill loss :  0.031234774882452458\n",
      "general loss :  0.505245509557426\n",
      "response loss :  0.3504055852794813\n",
      "Teacher acc: 0.9804999828338623\n",
      "Student acc: 0.8616199493408203\n"
     ]
    },
    {
     "name": "stderr",
     "output_type": "stream",
     "text": [
      "100%|██████████| 58/58 [00:11<00:00,  5.09it/s]\n"
     ]
    },
    {
     "name": "stdout",
     "output_type": "stream",
     "text": [
      "10 \t test acc : 0.8865000009536743\n",
      "====================================================================================================\n",
      "lr : [0.001]\n"
     ]
    },
    {
     "name": "stderr",
     "output_type": "stream",
     "text": [
      "100%|██████████| 288/288 [05:55<00:00,  1.23s/it]\n"
     ]
    },
    {
     "name": "stdout",
     "output_type": "stream",
     "text": [
      "distill loss :  0.02465602057378015\n",
      "general loss :  0.4963951348844502\n",
      "response loss :  0.3379819773965412\n",
      "Teacher acc: 0.9796800017356873\n",
      "Student acc: 0.8639799952507019\n"
     ]
    },
    {
     "name": "stderr",
     "output_type": "stream",
     "text": [
      "100%|██████████| 58/58 [00:11<00:00,  5.09it/s]\n"
     ]
    },
    {
     "name": "stdout",
     "output_type": "stream",
     "text": [
      "11 \t test acc : 0.8853999972343445\n",
      "====================================================================================================\n",
      "lr : [0.001]\n"
     ]
    },
    {
     "name": "stderr",
     "output_type": "stream",
     "text": [
      "100%|██████████| 288/288 [05:54<00:00,  1.23s/it]\n"
     ]
    },
    {
     "name": "stdout",
     "output_type": "stream",
     "text": [
      "distill loss :  0.02289758253351061\n",
      "general loss :  0.47516634361818433\n",
      "response loss :  0.3224938716739416\n",
      "Teacher acc: 0.9808799624443054\n",
      "Student acc: 0.8707799911499023\n"
     ]
    },
    {
     "name": "stderr",
     "output_type": "stream",
     "text": [
      "100%|██████████| 58/58 [00:11<00:00,  4.97it/s]\n"
     ]
    },
    {
     "name": "stdout",
     "output_type": "stream",
     "text": [
      "12 \t test acc : 0.8865000009536743\n",
      "====================================================================================================\n",
      "lr : [0.001]\n"
     ]
    },
    {
     "name": "stderr",
     "output_type": "stream",
     "text": [
      "100%|██████████| 288/288 [05:55<00:00,  1.24s/it]\n"
     ]
    },
    {
     "name": "stdout",
     "output_type": "stream",
     "text": [
      "distill loss :  0.023052266682498157\n",
      "general loss :  0.4723290816570322\n",
      "response loss :  0.2964992189469437\n",
      "Teacher acc: 0.9758399724960327\n",
      "Student acc: 0.8700999617576599\n"
     ]
    },
    {
     "name": "stderr",
     "output_type": "stream",
     "text": [
      "100%|██████████| 58/58 [00:11<00:00,  5.09it/s]\n"
     ]
    },
    {
     "name": "stdout",
     "output_type": "stream",
     "text": [
      "13 \t test acc : 0.885699987411499\n",
      "====================================================================================================\n",
      "lr : [0.001]\n"
     ]
    },
    {
     "name": "stderr",
     "output_type": "stream",
     "text": [
      "100%|██████████| 288/288 [05:54<00:00,  1.23s/it]\n"
     ]
    },
    {
     "name": "stdout",
     "output_type": "stream",
     "text": [
      "distill loss :  0.021182813461766474\n",
      "general loss :  0.4773777640528149\n",
      "response loss :  0.30017485117746723\n",
      "Teacher acc: 0.975059986114502\n",
      "Student acc: 0.8677600026130676\n"
     ]
    },
    {
     "name": "stderr",
     "output_type": "stream",
     "text": [
      "100%|██████████| 58/58 [00:11<00:00,  5.08it/s]\n"
     ]
    },
    {
     "name": "stdout",
     "output_type": "stream",
     "text": [
      "14 \t test acc : 0.8877999782562256\n",
      "====================================================================================================\n",
      "lr : [0.0001]\n"
     ]
    },
    {
     "name": "stderr",
     "output_type": "stream",
     "text": [
      "100%|██████████| 288/288 [05:55<00:00,  1.24s/it]\n"
     ]
    },
    {
     "name": "stdout",
     "output_type": "stream",
     "text": [
      "distill loss :  0.02074312209960125\n",
      "general loss :  0.4678567317314446\n",
      "response loss :  0.29180236181451213\n",
      "Teacher acc: 0.9754199981689453\n",
      "Student acc: 0.8718000054359436\n"
     ]
    },
    {
     "name": "stderr",
     "output_type": "stream",
     "text": [
      "100%|██████████| 58/58 [00:11<00:00,  5.07it/s]\n"
     ]
    },
    {
     "name": "stdout",
     "output_type": "stream",
     "text": [
      "15 \t test acc : 0.8880999684333801\n",
      "====================================================================================================\n",
      "lr : [0.0001]\n"
     ]
    },
    {
     "name": "stderr",
     "output_type": "stream",
     "text": [
      "100%|██████████| 288/288 [05:55<00:00,  1.23s/it]\n"
     ]
    },
    {
     "name": "stdout",
     "output_type": "stream",
     "text": [
      "distill loss :  0.019986428431972552\n",
      "general loss :  0.4605234554037452\n",
      "response loss :  0.2857021376904514\n",
      "Teacher acc: 0.975339949131012\n",
      "Student acc: 0.874019980430603\n"
     ]
    },
    {
     "name": "stderr",
     "output_type": "stream",
     "text": [
      "100%|██████████| 58/58 [00:11<00:00,  5.09it/s]\n"
     ]
    },
    {
     "name": "stdout",
     "output_type": "stream",
     "text": [
      "16 \t test acc : 0.8884999752044678\n",
      "====================================================================================================\n",
      "lr : [0.0001]\n"
     ]
    },
    {
     "name": "stderr",
     "output_type": "stream",
     "text": [
      "100%|██████████| 288/288 [05:56<00:00,  1.24s/it]\n"
     ]
    },
    {
     "name": "stdout",
     "output_type": "stream",
     "text": [
      "distill loss :  0.020693710700369492\n",
      "general loss :  0.45689390760122073\n",
      "response loss :  0.2836931451327271\n",
      "Teacher acc: 0.9748599529266357\n",
      "Student acc: 0.8744399547576904\n"
     ]
    },
    {
     "name": "stderr",
     "output_type": "stream",
     "text": [
      "100%|██████████| 58/58 [00:11<00:00,  5.08it/s]\n"
     ]
    },
    {
     "name": "stdout",
     "output_type": "stream",
     "text": [
      "17 \t test acc : 0.88919997215271\n",
      "====================================================================================================\n",
      "lr : [0.0001]\n"
     ]
    },
    {
     "name": "stderr",
     "output_type": "stream",
     "text": [
      "100%|██████████| 288/288 [05:55<00:00,  1.23s/it]\n"
     ]
    },
    {
     "name": "stdout",
     "output_type": "stream",
     "text": [
      "distill loss :  0.019758845313238755\n",
      "general loss :  0.46173494764500195\n",
      "response loss :  0.287262750013421\n",
      "Teacher acc: 0.9754399657249451\n",
      "Student acc: 0.8741799592971802\n"
     ]
    },
    {
     "name": "stderr",
     "output_type": "stream",
     "text": [
      "100%|██████████| 58/58 [00:11<00:00,  5.08it/s]\n"
     ]
    },
    {
     "name": "stdout",
     "output_type": "stream",
     "text": [
      "18 \t test acc : 0.8898999691009521\n",
      "====================================================================================================\n",
      "lr : [1e-05]\n"
     ]
    },
    {
     "name": "stderr",
     "output_type": "stream",
     "text": [
      "100%|██████████| 288/288 [05:54<00:00,  1.23s/it]\n"
     ]
    },
    {
     "name": "stdout",
     "output_type": "stream",
     "text": [
      "distill loss :  0.019334792225789797\n",
      "general loss :  0.44734333817743593\n",
      "response loss :  0.28046922277038294\n",
      "Teacher acc: 0.9768999814987183\n",
      "Student acc: 0.8780799508094788\n"
     ]
    },
    {
     "name": "stderr",
     "output_type": "stream",
     "text": [
      "100%|██████████| 58/58 [00:11<00:00,  5.11it/s]\n"
     ]
    },
    {
     "name": "stdout",
     "output_type": "stream",
     "text": [
      "19 \t test acc : 0.8896999955177307\n",
      "====================================================================================================\n",
      "lr : [1e-05]\n"
     ]
    },
    {
     "name": "stderr",
     "output_type": "stream",
     "text": [
      "100%|██████████| 288/288 [05:56<00:00,  1.24s/it]\n"
     ]
    },
    {
     "name": "stdout",
     "output_type": "stream",
     "text": [
      "distill loss :  0.02033538514337528\n",
      "general loss :  0.45414877362135386\n",
      "response loss :  0.27448372537684107\n",
      "Teacher acc: 0.9745000004768372\n",
      "Student acc: 0.8755199909210205\n"
     ]
    },
    {
     "name": "stderr",
     "output_type": "stream",
     "text": [
      "100%|██████████| 58/58 [00:11<00:00,  5.06it/s]\n"
     ]
    },
    {
     "name": "stdout",
     "output_type": "stream",
     "text": [
      "20 \t test acc : 0.8894000053405762\n",
      "====================================================================================================\n",
      "lr : [1e-05]\n"
     ]
    },
    {
     "name": "stderr",
     "output_type": "stream",
     "text": [
      "100%|██████████| 288/288 [05:55<00:00,  1.23s/it]\n"
     ]
    },
    {
     "name": "stdout",
     "output_type": "stream",
     "text": [
      "distill loss :  0.018848011863560207\n",
      "general loss :  0.4642520795783235\n",
      "response loss :  0.28023073884348076\n",
      "Teacher acc: 0.9727799892425537\n",
      "Student acc: 0.8723999857902527\n"
     ]
    },
    {
     "name": "stderr",
     "output_type": "stream",
     "text": [
      "100%|██████████| 58/58 [00:11<00:00,  5.10it/s]\n"
     ]
    },
    {
     "name": "stdout",
     "output_type": "stream",
     "text": [
      "21 \t test acc : 0.8895999789237976\n",
      "====================================================================================================\n",
      "lr : [1e-05]\n"
     ]
    },
    {
     "name": "stderr",
     "output_type": "stream",
     "text": [
      "100%|██████████| 288/288 [05:54<00:00,  1.23s/it]\n"
     ]
    },
    {
     "name": "stdout",
     "output_type": "stream",
     "text": [
      "distill loss :  0.01954547056084266\n",
      "general loss :  0.4608143726363778\n",
      "response loss :  0.280295302418785\n",
      "Teacher acc: 0.9736599922180176\n",
      "Student acc: 0.8738799691200256\n"
     ]
    },
    {
     "name": "stderr",
     "output_type": "stream",
     "text": [
      "100%|██████████| 58/58 [00:11<00:00,  5.08it/s]\n"
     ]
    },
    {
     "name": "stdout",
     "output_type": "stream",
     "text": [
      "22 \t test acc : 0.8895999789237976\n",
      "====================================================================================================\n",
      "lr : [1.0000000000000002e-06]\n"
     ]
    },
    {
     "name": "stderr",
     "output_type": "stream",
     "text": [
      "100%|██████████| 288/288 [05:58<00:00,  1.25s/it]\n"
     ]
    },
    {
     "name": "stdout",
     "output_type": "stream",
     "text": [
      "distill loss :  0.02112990670462346\n",
      "general loss :  0.4591102353297174\n",
      "response loss :  0.2761325305845175\n",
      "Teacher acc: 0.9727799892425537\n",
      "Student acc: 0.8741599917411804\n"
     ]
    },
    {
     "name": "stderr",
     "output_type": "stream",
     "text": [
      "100%|██████████| 58/58 [00:11<00:00,  5.11it/s]\n"
     ]
    },
    {
     "name": "stdout",
     "output_type": "stream",
     "text": [
      "23 \t test acc : 0.8895999789237976\n",
      "====================================================================================================\n",
      "lr : [1.0000000000000002e-06]\n"
     ]
    },
    {
     "name": "stderr",
     "output_type": "stream",
     "text": [
      "100%|██████████| 288/288 [05:54<00:00,  1.23s/it]\n"
     ]
    },
    {
     "name": "stdout",
     "output_type": "stream",
     "text": [
      "distill loss :  0.019617259453904506\n",
      "general loss :  0.46289880977322656\n",
      "response loss :  0.2815871210768819\n",
      "Teacher acc: 0.9739599823951721\n",
      "Student acc: 0.8724199533462524\n"
     ]
    },
    {
     "name": "stderr",
     "output_type": "stream",
     "text": [
      "100%|██████████| 58/58 [00:11<00:00,  5.14it/s]\n"
     ]
    },
    {
     "name": "stdout",
     "output_type": "stream",
     "text": [
      "24 \t test acc : 0.8895999789237976\n",
      "====================================================================================================\n",
      "lr : [1.0000000000000002e-06]\n"
     ]
    },
    {
     "name": "stderr",
     "output_type": "stream",
     "text": [
      "100%|██████████| 288/288 [05:54<00:00,  1.23s/it]\n"
     ]
    },
    {
     "name": "stdout",
     "output_type": "stream",
     "text": [
      "distill loss :  0.019361997288393065\n",
      "general loss :  0.4592283552305566\n",
      "response loss :  0.27542382530454135\n",
      "Teacher acc: 0.9727799892425537\n",
      "Student acc: 0.8753199577331543\n"
     ]
    },
    {
     "name": "stderr",
     "output_type": "stream",
     "text": [
      "100%|██████████| 58/58 [00:11<00:00,  5.08it/s]\n"
     ]
    },
    {
     "name": "stdout",
     "output_type": "stream",
     "text": [
      "25 \t test acc : 0.8896999955177307\n",
      "====================================================================================================\n",
      "lr : [1.0000000000000002e-06]\n"
     ]
    },
    {
     "name": "stderr",
     "output_type": "stream",
     "text": [
      "100%|██████████| 288/288 [05:55<00:00,  1.23s/it]\n"
     ]
    },
    {
     "name": "stdout",
     "output_type": "stream",
     "text": [
      "distill loss :  0.01887261246075569\n",
      "general loss :  0.46292790460089844\n",
      "response loss :  0.27886439978869426\n",
      "Teacher acc: 0.9721199870109558\n",
      "Student acc: 0.8726199865341187\n"
     ]
    },
    {
     "name": "stderr",
     "output_type": "stream",
     "text": [
      "100%|██████████| 58/58 [00:11<00:00,  5.05it/s]\n"
     ]
    },
    {
     "name": "stdout",
     "output_type": "stream",
     "text": [
      "26 \t test acc : 0.8895999789237976\n",
      "====================================================================================================\n",
      "lr : [1.0000000000000002e-07]\n"
     ]
    },
    {
     "name": "stderr",
     "output_type": "stream",
     "text": [
      "100%|██████████| 288/288 [05:54<00:00,  1.23s/it]\n"
     ]
    },
    {
     "name": "stdout",
     "output_type": "stream",
     "text": [
      "distill loss :  0.019216116902599525\n",
      "general loss :  0.46318080679823953\n",
      "response loss :  0.28058744956635767\n",
      "Teacher acc: 0.973580002784729\n",
      "Student acc: 0.8718400001525879\n"
     ]
    },
    {
     "name": "stderr",
     "output_type": "stream",
     "text": [
      "100%|██████████| 58/58 [00:11<00:00,  5.03it/s]\n"
     ]
    },
    {
     "name": "stdout",
     "output_type": "stream",
     "text": [
      "27 \t test acc : 0.8895999789237976\n",
      "====================================================================================================\n",
      "lr : [1.0000000000000002e-07]\n"
     ]
    },
    {
     "name": "stderr",
     "output_type": "stream",
     "text": [
      "100%|██████████| 288/288 [05:55<00:00,  1.24s/it]\n"
     ]
    },
    {
     "name": "stdout",
     "output_type": "stream",
     "text": [
      "distill loss :  0.019650654338571865\n",
      "general loss :  0.45908556330121225\n",
      "response loss :  0.2775517096225586\n",
      "Teacher acc: 0.9742799997329712\n",
      "Student acc: 0.8727200031280518\n"
     ]
    },
    {
     "name": "stderr",
     "output_type": "stream",
     "text": [
      "100%|██████████| 58/58 [00:11<00:00,  5.10it/s]\n"
     ]
    },
    {
     "name": "stdout",
     "output_type": "stream",
     "text": [
      "28 \t test acc : 0.8896999955177307\n",
      "====================================================================================================\n",
      "lr : [1.0000000000000002e-07]\n"
     ]
    },
    {
     "name": "stderr",
     "output_type": "stream",
     "text": [
      "100%|██████████| 288/288 [05:55<00:00,  1.23s/it]\n"
     ]
    },
    {
     "name": "stdout",
     "output_type": "stream",
     "text": [
      "distill loss :  0.019664952233951125\n",
      "general loss :  0.4700651157440411\n",
      "response loss :  0.28390888719716006\n",
      "Teacher acc: 0.9730199575424194\n",
      "Student acc: 0.8720200061798096\n"
     ]
    },
    {
     "name": "stderr",
     "output_type": "stream",
     "text": [
      "100%|██████████| 58/58 [00:11<00:00,  5.08it/s]\n"
     ]
    },
    {
     "name": "stdout",
     "output_type": "stream",
     "text": [
      "29 \t test acc : 0.8895999789237976\n",
      "====================================================================================================\n",
      "lr : [1.0000000000000002e-07]\n"
     ]
    },
    {
     "name": "stderr",
     "output_type": "stream",
     "text": [
      "100%|██████████| 288/288 [05:56<00:00,  1.24s/it]\n"
     ]
    },
    {
     "name": "stdout",
     "output_type": "stream",
     "text": [
      "distill loss :  0.019173043277987745\n",
      "general loss :  0.46023085299465394\n",
      "response loss :  0.27700046439551645\n",
      "Teacher acc: 0.9735599756240845\n",
      "Student acc: 0.8746399879455566\n"
     ]
    },
    {
     "name": "stderr",
     "output_type": "stream",
     "text": [
      "100%|██████████| 58/58 [00:11<00:00,  5.06it/s]\n"
     ]
    },
    {
     "name": "stdout",
     "output_type": "stream",
     "text": [
      "30 \t test acc : 0.8894999623298645\n",
      "====================================================================================================\n",
      "lr : [1.0000000000000004e-08]\n"
     ]
    },
    {
     "name": "stderr",
     "output_type": "stream",
     "text": [
      "100%|██████████| 288/288 [05:54<00:00,  1.23s/it]\n"
     ]
    },
    {
     "name": "stdout",
     "output_type": "stream",
     "text": [
      "distill loss :  0.01833971078950627\n",
      "general loss :  0.4648499785301586\n",
      "response loss :  0.28051251442068154\n",
      "Teacher acc: 0.9727399945259094\n",
      "Student acc: 0.8745399713516235\n"
     ]
    },
    {
     "name": "stderr",
     "output_type": "stream",
     "text": [
      "100%|██████████| 58/58 [00:11<00:00,  5.07it/s]\n"
     ]
    },
    {
     "name": "stdout",
     "output_type": "stream",
     "text": [
      "31 \t test acc : 0.8895999789237976\n",
      "====================================================================================================\n",
      "lr : [1.0000000000000004e-08]\n"
     ]
    },
    {
     "name": "stderr",
     "output_type": "stream",
     "text": [
      "100%|██████████| 288/288 [05:55<00:00,  1.24s/it]\n"
     ]
    },
    {
     "name": "stdout",
     "output_type": "stream",
     "text": [
      "distill loss :  0.01937192434585692\n",
      "general loss :  0.46637385048800045\n",
      "response loss :  0.281252966935022\n",
      "Teacher acc: 0.9729599952697754\n",
      "Student acc: 0.8725199699401855\n"
     ]
    },
    {
     "name": "stderr",
     "output_type": "stream",
     "text": [
      "100%|██████████| 58/58 [00:11<00:00,  5.04it/s]\n"
     ]
    },
    {
     "name": "stdout",
     "output_type": "stream",
     "text": [
      "32 \t test acc : 0.8894999623298645\n",
      "====================================================================================================\n",
      "lr : [1.0000000000000004e-08]\n"
     ]
    },
    {
     "name": "stderr",
     "output_type": "stream",
     "text": [
      "100%|██████████| 288/288 [05:58<00:00,  1.24s/it]\n"
     ]
    },
    {
     "name": "stdout",
     "output_type": "stream",
     "text": [
      "distill loss :  0.02136307024193229\n",
      "general loss :  0.45687808086060816\n",
      "response loss :  0.2762367801430325\n",
      "Teacher acc: 0.9733799695968628\n",
      "Student acc: 0.8733800053596497\n"
     ]
    },
    {
     "name": "stderr",
     "output_type": "stream",
     "text": [
      "100%|██████████| 58/58 [00:11<00:00,  5.10it/s]\n"
     ]
    },
    {
     "name": "stdout",
     "output_type": "stream",
     "text": [
      "33 \t test acc : 0.8895999789237976\n",
      "====================================================================================================\n",
      "lr : [1.0000000000000004e-08]\n"
     ]
    },
    {
     "name": "stderr",
     "output_type": "stream",
     "text": [
      "100%|██████████| 288/288 [05:53<00:00,  1.23s/it]\n"
     ]
    },
    {
     "name": "stdout",
     "output_type": "stream",
     "text": [
      "distill loss :  0.018287424607681006\n",
      "general loss :  0.4589779563765559\n",
      "response loss :  0.2791142137203779\n",
      "Teacher acc: 0.9724599719047546\n",
      "Student acc: 0.8741599917411804\n"
     ]
    },
    {
     "name": "stderr",
     "output_type": "stream",
     "text": [
      "100%|██████████| 58/58 [00:11<00:00,  5.04it/s]\n"
     ]
    },
    {
     "name": "stdout",
     "output_type": "stream",
     "text": [
      "34 \t test acc : 0.8894999623298645\n",
      "====================================================================================================\n",
      "lr : [1.0000000000000005e-09]\n"
     ]
    },
    {
     "name": "stderr",
     "output_type": "stream",
     "text": [
      "100%|██████████| 288/288 [06:00<00:00,  1.25s/it]\n"
     ]
    },
    {
     "name": "stdout",
     "output_type": "stream",
     "text": [
      "distill loss :  0.020122372948713343\n",
      "general loss :  0.4571754872384999\n",
      "response loss :  0.2788215401168499\n",
      "Teacher acc: 0.9738799929618835\n",
      "Student acc: 0.8749399781227112\n"
     ]
    },
    {
     "name": "stderr",
     "output_type": "stream",
     "text": [
      "100%|██████████| 58/58 [00:11<00:00,  5.04it/s]\n"
     ]
    },
    {
     "name": "stdout",
     "output_type": "stream",
     "text": [
      "35 \t test acc : 0.8894999623298645\n",
      "====================================================================================================\n",
      "lr : [1.0000000000000005e-09]\n"
     ]
    },
    {
     "name": "stderr",
     "output_type": "stream",
     "text": [
      "100%|██████████| 288/288 [05:58<00:00,  1.24s/it]\n"
     ]
    },
    {
     "name": "stdout",
     "output_type": "stream",
     "text": [
      "distill loss :  0.021689549545246538\n",
      "general loss :  0.46977512155556017\n",
      "response loss :  0.284431422336234\n",
      "Teacher acc: 0.9722200036048889\n",
      "Student acc: 0.8717399835586548\n"
     ]
    },
    {
     "name": "stderr",
     "output_type": "stream",
     "text": [
      "100%|██████████| 58/58 [00:11<00:00,  5.10it/s]\n"
     ]
    },
    {
     "name": "stdout",
     "output_type": "stream",
     "text": [
      "36 \t test acc : 0.8896999955177307\n",
      "====================================================================================================\n",
      "lr : [1.0000000000000005e-09]\n"
     ]
    },
    {
     "name": "stderr",
     "output_type": "stream",
     "text": [
      "100%|██████████| 288/288 [05:56<00:00,  1.24s/it]\n"
     ]
    },
    {
     "name": "stdout",
     "output_type": "stream",
     "text": [
      "distill loss :  0.01895326658834367\n",
      "general loss :  0.45430707145068383\n",
      "response loss :  0.27628388612841565\n",
      "Teacher acc: 0.9741999506950378\n",
      "Student acc: 0.8762199878692627\n"
     ]
    },
    {
     "name": "stderr",
     "output_type": "stream",
     "text": [
      "100%|██████████| 58/58 [00:11<00:00,  5.07it/s]\n"
     ]
    },
    {
     "name": "stdout",
     "output_type": "stream",
     "text": [
      "37 \t test acc : 0.8896999955177307\n",
      "====================================================================================================\n",
      "lr : [1.0000000000000005e-09]\n"
     ]
    },
    {
     "name": "stderr",
     "output_type": "stream",
     "text": [
      "100%|██████████| 288/288 [05:56<00:00,  1.24s/it]\n"
     ]
    },
    {
     "name": "stdout",
     "output_type": "stream",
     "text": [
      "distill loss :  0.020189498446901172\n",
      "general loss :  0.46024993734641206\n",
      "response loss :  0.27892347311394083\n",
      "Teacher acc: 0.9738999605178833\n",
      "Student acc: 0.8733999729156494\n"
     ]
    },
    {
     "name": "stderr",
     "output_type": "stream",
     "text": [
      "100%|██████████| 58/58 [00:11<00:00,  5.07it/s]\n"
     ]
    },
    {
     "name": "stdout",
     "output_type": "stream",
     "text": [
      "38 \t test acc : 0.8896999955177307\n",
      "====================================================================================================\n",
      "lr : [1.0000000000000005e-09]\n"
     ]
    },
    {
     "name": "stderr",
     "output_type": "stream",
     "text": [
      "100%|██████████| 288/288 [05:55<00:00,  1.23s/it]\n"
     ]
    },
    {
     "name": "stdout",
     "output_type": "stream",
     "text": [
      "distill loss :  0.019739650286080886\n",
      "general loss :  0.4560091281309724\n",
      "response loss :  0.2753309591983755\n",
      "Teacher acc: 0.9732799530029297\n",
      "Student acc: 0.8753399848937988\n"
     ]
    },
    {
     "name": "stderr",
     "output_type": "stream",
     "text": [
      "100%|██████████| 58/58 [00:11<00:00,  4.92it/s]\n"
     ]
    },
    {
     "name": "stdout",
     "output_type": "stream",
     "text": [
      "39 \t test acc : 0.8895999789237976\n",
      "====================================================================================================\n",
      "lr : [1.0000000000000005e-09]\n"
     ]
    },
    {
     "name": "stderr",
     "output_type": "stream",
     "text": [
      "100%|██████████| 288/288 [05:52<00:00,  1.22s/it]\n"
     ]
    },
    {
     "name": "stdout",
     "output_type": "stream",
     "text": [
      "distill loss :  0.0176396787246631\n",
      "general loss :  0.45740574608660406\n",
      "response loss :  0.276421712918414\n",
      "Teacher acc: 0.9733399748802185\n",
      "Student acc: 0.8742799758911133\n"
     ]
    },
    {
     "name": "stderr",
     "output_type": "stream",
     "text": [
      "100%|██████████| 58/58 [00:11<00:00,  5.06it/s]\n"
     ]
    },
    {
     "name": "stdout",
     "output_type": "stream",
     "text": [
      "40 \t test acc : 0.8896999955177307\n",
      "====================================================================================================\n",
      "lr : [1.0000000000000005e-09]\n"
     ]
    },
    {
     "name": "stderr",
     "output_type": "stream",
     "text": [
      "100%|██████████| 288/288 [05:55<00:00,  1.24s/it]\n"
     ]
    },
    {
     "name": "stdout",
     "output_type": "stream",
     "text": [
      "distill loss :  0.020141958054510824\n",
      "general loss :  0.46858205144397086\n",
      "response loss :  0.28269558534440065\n",
      "Teacher acc: 0.9729799628257751\n",
      "Student acc: 0.8715199828147888\n"
     ]
    },
    {
     "name": "stderr",
     "output_type": "stream",
     "text": [
      "100%|██████████| 58/58 [00:11<00:00,  5.08it/s]\n"
     ]
    },
    {
     "name": "stdout",
     "output_type": "stream",
     "text": [
      "41 \t test acc : 0.8895999789237976\n",
      "====================================================================================================\n",
      "lr : [1.0000000000000005e-09]\n"
     ]
    },
    {
     "name": "stderr",
     "output_type": "stream",
     "text": [
      "100%|██████████| 288/288 [05:54<00:00,  1.23s/it]\n"
     ]
    },
    {
     "name": "stdout",
     "output_type": "stream",
     "text": [
      "distill loss :  0.019358736982717853\n",
      "general loss :  0.45811453741043806\n",
      "response loss :  0.2789868099304537\n",
      "Teacher acc: 0.9735999703407288\n",
      "Student acc: 0.8741799592971802\n"
     ]
    },
    {
     "name": "stderr",
     "output_type": "stream",
     "text": [
      "100%|██████████| 58/58 [00:11<00:00,  5.08it/s]\n"
     ]
    },
    {
     "name": "stdout",
     "output_type": "stream",
     "text": [
      "42 \t test acc : 0.8894999623298645\n",
      "====================================================================================================\n",
      "lr : [1.0000000000000005e-09]\n"
     ]
    },
    {
     "name": "stderr",
     "output_type": "stream",
     "text": [
      "100%|██████████| 288/288 [05:57<00:00,  1.24s/it]\n"
     ]
    },
    {
     "name": "stdout",
     "output_type": "stream",
     "text": [
      "distill loss :  0.01853662233608904\n",
      "general loss :  0.46263369276291794\n",
      "response loss :  0.27905764306584996\n",
      "Teacher acc: 0.973039984703064\n",
      "Student acc: 0.8725000023841858\n"
     ]
    },
    {
     "name": "stderr",
     "output_type": "stream",
     "text": [
      "100%|██████████| 58/58 [00:11<00:00,  5.00it/s]\n"
     ]
    },
    {
     "name": "stdout",
     "output_type": "stream",
     "text": [
      "43 \t test acc : 0.8894999623298645\n",
      "====================================================================================================\n",
      "lr : [1.0000000000000005e-09]\n"
     ]
    },
    {
     "name": "stderr",
     "output_type": "stream",
     "text": [
      "100%|██████████| 288/288 [05:56<00:00,  1.24s/it]\n"
     ]
    },
    {
     "name": "stdout",
     "output_type": "stream",
     "text": [
      "distill loss :  0.018016981796891842\n",
      "general loss :  0.46475474701987374\n",
      "response loss :  0.2818147473865085\n",
      "Teacher acc: 0.9731799960136414\n",
      "Student acc: 0.8730199933052063\n"
     ]
    },
    {
     "name": "stderr",
     "output_type": "stream",
     "text": [
      "100%|██████████| 58/58 [00:11<00:00,  5.04it/s]\n"
     ]
    },
    {
     "name": "stdout",
     "output_type": "stream",
     "text": [
      "44 \t test acc : 0.8895999789237976\n",
      "====================================================================================================\n",
      "lr : [1.0000000000000005e-09]\n"
     ]
    },
    {
     "name": "stderr",
     "output_type": "stream",
     "text": [
      "100%|██████████| 288/288 [05:56<00:00,  1.24s/it]\n"
     ]
    },
    {
     "name": "stdout",
     "output_type": "stream",
     "text": [
      "distill loss :  0.02053243267922274\n",
      "general loss :  0.4669395374755065\n",
      "response loss :  0.28076044294155306\n",
      "Teacher acc: 0.9728999733924866\n",
      "Student acc: 0.8730199933052063\n"
     ]
    },
    {
     "name": "stderr",
     "output_type": "stream",
     "text": [
      "100%|██████████| 58/58 [00:11<00:00,  5.05it/s]\n"
     ]
    },
    {
     "name": "stdout",
     "output_type": "stream",
     "text": [
      "45 \t test acc : 0.8895999789237976\n",
      "====================================================================================================\n",
      "lr : [1.0000000000000005e-09]\n"
     ]
    },
    {
     "name": "stderr",
     "output_type": "stream",
     "text": [
      "100%|██████████| 288/288 [05:54<00:00,  1.23s/it]\n"
     ]
    },
    {
     "name": "stdout",
     "output_type": "stream",
     "text": [
      "distill loss :  0.018935330988218386\n",
      "general loss :  0.45845000176794\n",
      "response loss :  0.2772719878703356\n",
      "Teacher acc: 0.9732399582862854\n",
      "Student acc: 0.8753599524497986\n"
     ]
    },
    {
     "name": "stderr",
     "output_type": "stream",
     "text": [
      "100%|██████████| 58/58 [00:11<00:00,  5.10it/s]\n"
     ]
    },
    {
     "name": "stdout",
     "output_type": "stream",
     "text": [
      "46 \t test acc : 0.8895999789237976\n",
      "====================================================================================================\n",
      "lr : [1.0000000000000005e-09]\n"
     ]
    },
    {
     "name": "stderr",
     "output_type": "stream",
     "text": [
      "100%|██████████| 288/288 [05:54<00:00,  1.23s/it]\n"
     ]
    },
    {
     "name": "stdout",
     "output_type": "stream",
     "text": [
      "distill loss :  0.018878324878136885\n",
      "general loss :  0.4635998247605231\n",
      "response loss :  0.27871631732624436\n",
      "Teacher acc: 0.973859965801239\n",
      "Student acc: 0.8731799721717834\n"
     ]
    },
    {
     "name": "stderr",
     "output_type": "stream",
     "text": [
      "100%|██████████| 58/58 [00:11<00:00,  5.06it/s]\n"
     ]
    },
    {
     "name": "stdout",
     "output_type": "stream",
     "text": [
      "47 \t test acc : 0.8895999789237976\n",
      "====================================================================================================\n",
      "lr : [1.0000000000000005e-09]\n"
     ]
    },
    {
     "name": "stderr",
     "output_type": "stream",
     "text": [
      "100%|██████████| 288/288 [05:56<00:00,  1.24s/it]\n"
     ]
    },
    {
     "name": "stdout",
     "output_type": "stream",
     "text": [
      "distill loss :  0.018904984345782496\n",
      "general loss :  0.45928300565315616\n",
      "response loss :  0.2790547876825763\n",
      "Teacher acc: 0.9734799861907959\n",
      "Student acc: 0.8745999932289124\n"
     ]
    },
    {
     "name": "stderr",
     "output_type": "stream",
     "text": [
      "100%|██████████| 58/58 [00:11<00:00,  5.06it/s]\n"
     ]
    },
    {
     "name": "stdout",
     "output_type": "stream",
     "text": [
      "48 \t test acc : 0.8895999789237976\n",
      "====================================================================================================\n",
      "lr : [1.0000000000000005e-09]\n"
     ]
    },
    {
     "name": "stderr",
     "output_type": "stream",
     "text": [
      "100%|██████████| 288/288 [05:54<00:00,  1.23s/it]\n"
     ]
    },
    {
     "name": "stdout",
     "output_type": "stream",
     "text": [
      "distill loss :  0.018911634289704833\n",
      "general loss :  0.46053744728366536\n",
      "response loss :  0.27768589758003753\n",
      "Teacher acc: 0.973580002784729\n",
      "Student acc: 0.8746999502182007\n"
     ]
    },
    {
     "name": "stderr",
     "output_type": "stream",
     "text": [
      "100%|██████████| 58/58 [00:11<00:00,  5.07it/s]\n"
     ]
    },
    {
     "name": "stdout",
     "output_type": "stream",
     "text": [
      "49 \t test acc : 0.8896999955177307\n",
      "====================================================================================================\n",
      "lr : [1.0000000000000005e-09]\n"
     ]
    },
    {
     "name": "stderr",
     "output_type": "stream",
     "text": [
      "100%|██████████| 288/288 [05:53<00:00,  1.23s/it]\n"
     ]
    },
    {
     "name": "stdout",
     "output_type": "stream",
     "text": [
      "distill loss :  0.018185747998359147\n",
      "general loss :  0.46230813809153104\n",
      "response loss :  0.27908110096015865\n",
      "Teacher acc: 0.9734799861907959\n",
      "Student acc: 0.8736799955368042\n"
     ]
    },
    {
     "name": "stderr",
     "output_type": "stream",
     "text": [
      "100%|██████████| 58/58 [00:11<00:00,  5.15it/s]\n"
     ]
    },
    {
     "name": "stdout",
     "output_type": "stream",
     "text": [
      "50 \t test acc : 0.8894999623298645\n",
      "====================================================================================================\n",
      "lr : [1.0000000000000005e-09]\n"
     ]
    },
    {
     "name": "stderr",
     "output_type": "stream",
     "text": [
      "100%|██████████| 288/288 [05:55<00:00,  1.24s/it]\n"
     ]
    },
    {
     "name": "stdout",
     "output_type": "stream",
     "text": [
      "distill loss :  0.02008671960276034\n",
      "general loss :  0.4573045495069689\n",
      "response loss :  0.27733574993908405\n",
      "Teacher acc: 0.973360002040863\n",
      "Student acc: 0.875059962272644\n"
     ]
    },
    {
     "name": "stderr",
     "output_type": "stream",
     "text": [
      "100%|██████████| 58/58 [00:11<00:00,  5.06it/s]\n"
     ]
    },
    {
     "name": "stdout",
     "output_type": "stream",
     "text": [
      "51 \t test acc : 0.8895999789237976\n",
      "====================================================================================================\n",
      "lr : [1.0000000000000005e-09]\n"
     ]
    },
    {
     "name": "stderr",
     "output_type": "stream",
     "text": [
      "100%|██████████| 288/288 [05:55<00:00,  1.23s/it]\n"
     ]
    },
    {
     "name": "stdout",
     "output_type": "stream",
     "text": [
      "distill loss :  0.01790318382134299\n",
      "general loss :  0.45926540479477906\n",
      "response loss :  0.27940933535703355\n",
      "Teacher acc: 0.9746399521827698\n",
      "Student acc: 0.8736199736595154\n"
     ]
    },
    {
     "name": "stderr",
     "output_type": "stream",
     "text": [
      "100%|██████████| 58/58 [00:11<00:00,  5.05it/s]\n"
     ]
    },
    {
     "name": "stdout",
     "output_type": "stream",
     "text": [
      "52 \t test acc : 0.8896999955177307\n",
      "====================================================================================================\n",
      "lr : [1.0000000000000005e-09]\n"
     ]
    },
    {
     "name": "stderr",
     "output_type": "stream",
     "text": [
      "100%|██████████| 288/288 [05:53<00:00,  1.23s/it]\n"
     ]
    },
    {
     "name": "stdout",
     "output_type": "stream",
     "text": [
      "distill loss :  0.018791177521052305\n",
      "general loss :  0.4584595048282709\n",
      "response loss :  0.27929751399076647\n",
      "Teacher acc: 0.9736199975013733\n",
      "Student acc: 0.8741599917411804\n"
     ]
    },
    {
     "name": "stderr",
     "output_type": "stream",
     "text": [
      "100%|██████████| 58/58 [00:11<00:00,  5.08it/s]\n"
     ]
    },
    {
     "name": "stdout",
     "output_type": "stream",
     "text": [
      "53 \t test acc : 0.8895999789237976\n",
      "====================================================================================================\n",
      "lr : [1.0000000000000005e-09]\n"
     ]
    },
    {
     "name": "stderr",
     "output_type": "stream",
     "text": [
      "100%|██████████| 288/288 [05:57<00:00,  1.24s/it]\n"
     ]
    },
    {
     "name": "stdout",
     "output_type": "stream",
     "text": [
      "distill loss :  0.019297548169561196\n",
      "general loss :  0.46549306633985704\n",
      "response loss :  0.28313618939783836\n",
      "Teacher acc: 0.9729399681091309\n",
      "Student acc: 0.8717599511146545\n"
     ]
    },
    {
     "name": "stderr",
     "output_type": "stream",
     "text": [
      "100%|██████████| 58/58 [00:11<00:00,  5.11it/s]\n"
     ]
    },
    {
     "name": "stdout",
     "output_type": "stream",
     "text": [
      "54 \t test acc : 0.8895999789237976\n",
      "====================================================================================================\n",
      "lr : [1.0000000000000005e-09]\n"
     ]
    },
    {
     "name": "stderr",
     "output_type": "stream",
     "text": [
      "100%|██████████| 288/288 [05:55<00:00,  1.23s/it]\n"
     ]
    },
    {
     "name": "stdout",
     "output_type": "stream",
     "text": [
      "distill loss :  0.020008317159307707\n",
      "general loss :  0.46170119253090686\n",
      "response loss :  0.27632740346921814\n",
      "Teacher acc: 0.9728399515151978\n",
      "Student acc: 0.8746999502182007\n"
     ]
    },
    {
     "name": "stderr",
     "output_type": "stream",
     "text": [
      "100%|██████████| 58/58 [00:11<00:00,  5.07it/s]\n"
     ]
    },
    {
     "name": "stdout",
     "output_type": "stream",
     "text": [
      "55 \t test acc : 0.8895999789237976\n",
      "====================================================================================================\n",
      "lr : [1.0000000000000005e-09]\n"
     ]
    },
    {
     "name": "stderr",
     "output_type": "stream",
     "text": [
      "100%|██████████| 288/288 [05:52<00:00,  1.23s/it]\n"
     ]
    },
    {
     "name": "stdout",
     "output_type": "stream",
     "text": [
      "distill loss :  0.018066869687269598\n",
      "general loss :  0.46283372067328954\n",
      "response loss :  0.27882771680338514\n",
      "Teacher acc: 0.9725599884986877\n",
      "Student acc: 0.874239981174469\n"
     ]
    },
    {
     "name": "stderr",
     "output_type": "stream",
     "text": [
      "100%|██████████| 58/58 [00:11<00:00,  5.11it/s]\n"
     ]
    },
    {
     "name": "stdout",
     "output_type": "stream",
     "text": [
      "56 \t test acc : 0.8895999789237976\n",
      "====================================================================================================\n",
      "lr : [1.0000000000000005e-09]\n"
     ]
    },
    {
     "name": "stderr",
     "output_type": "stream",
     "text": [
      "100%|██████████| 288/288 [05:56<00:00,  1.24s/it]\n"
     ]
    },
    {
     "name": "stdout",
     "output_type": "stream",
     "text": [
      "distill loss :  0.020550371129906528\n",
      "general loss :  0.4604527824040916\n",
      "response loss :  0.279042254253808\n",
      "Teacher acc: 0.9732599854469299\n",
      "Student acc: 0.8748799562454224\n"
     ]
    },
    {
     "name": "stderr",
     "output_type": "stream",
     "text": [
      "100%|██████████| 58/58 [00:11<00:00,  5.06it/s]\n"
     ]
    },
    {
     "name": "stdout",
     "output_type": "stream",
     "text": [
      "57 \t test acc : 0.8894999623298645\n",
      "====================================================================================================\n",
      "lr : [1.0000000000000005e-09]\n"
     ]
    },
    {
     "name": "stderr",
     "output_type": "stream",
     "text": [
      "100%|██████████| 288/288 [05:56<00:00,  1.24s/it]\n"
     ]
    },
    {
     "name": "stdout",
     "output_type": "stream",
     "text": [
      "distill loss :  0.019932633180158317\n",
      "general loss :  0.45957667209828895\n",
      "response loss :  0.27980602087659967\n",
      "Teacher acc: 0.9739199876785278\n",
      "Student acc: 0.8737199902534485\n"
     ]
    },
    {
     "name": "stderr",
     "output_type": "stream",
     "text": [
      "100%|██████████| 58/58 [00:11<00:00,  5.12it/s]\n"
     ]
    },
    {
     "name": "stdout",
     "output_type": "stream",
     "text": [
      "58 \t test acc : 0.8895999789237976\n",
      "====================================================================================================\n",
      "lr : [1.0000000000000005e-09]\n"
     ]
    },
    {
     "name": "stderr",
     "output_type": "stream",
     "text": [
      "100%|██████████| 288/288 [05:57<00:00,  1.24s/it]\n"
     ]
    },
    {
     "name": "stdout",
     "output_type": "stream",
     "text": [
      "distill loss :  0.019137965664817277\n",
      "general loss :  0.4592398859353529\n",
      "response loss :  0.2776265117960672\n",
      "Teacher acc: 0.9721799492835999\n",
      "Student acc: 0.875220000743866\n"
     ]
    },
    {
     "name": "stderr",
     "output_type": "stream",
     "text": [
      "100%|██████████| 58/58 [00:11<00:00,  5.07it/s]\n"
     ]
    },
    {
     "name": "stdout",
     "output_type": "stream",
     "text": [
      "59 \t test acc : 0.8896999955177307\n",
      "====================================================================================================\n",
      "lr : [1.0000000000000005e-09]\n"
     ]
    },
    {
     "name": "stderr",
     "output_type": "stream",
     "text": [
      "100%|██████████| 288/288 [05:55<00:00,  1.23s/it]\n"
     ]
    },
    {
     "name": "stdout",
     "output_type": "stream",
     "text": [
      "distill loss :  0.01967839090260289\n",
      "general loss :  0.458640282197545\n",
      "response loss :  0.27812272900094587\n",
      "Teacher acc: 0.9732999801635742\n",
      "Student acc: 0.8745200037956238\n"
     ]
    },
    {
     "name": "stderr",
     "output_type": "stream",
     "text": [
      "100%|██████████| 58/58 [00:11<00:00,  5.09it/s]\n"
     ]
    },
    {
     "name": "stdout",
     "output_type": "stream",
     "text": [
      "60 \t test acc : 0.8895999789237976\n",
      "====================================================================================================\n",
      "lr : [1.0000000000000005e-09]\n"
     ]
    },
    {
     "name": "stderr",
     "output_type": "stream",
     "text": [
      "100%|██████████| 288/288 [05:56<00:00,  1.24s/it]\n"
     ]
    },
    {
     "name": "stdout",
     "output_type": "stream",
     "text": [
      "distill loss :  0.0192619078572736\n",
      "general loss :  0.45833507231954074\n",
      "response loss :  0.27662062427649897\n",
      "Teacher acc: 0.9732999801635742\n",
      "Student acc: 0.8729999661445618\n"
     ]
    },
    {
     "name": "stderr",
     "output_type": "stream",
     "text": [
      "100%|██████████| 58/58 [00:11<00:00,  5.07it/s]\n"
     ]
    },
    {
     "name": "stdout",
     "output_type": "stream",
     "text": [
      "61 \t test acc : 0.8895999789237976\n",
      "====================================================================================================\n",
      "lr : [1.0000000000000005e-09]\n"
     ]
    },
    {
     "name": "stderr",
     "output_type": "stream",
     "text": [
      "100%|██████████| 288/288 [05:58<00:00,  1.24s/it]\n"
     ]
    },
    {
     "name": "stdout",
     "output_type": "stream",
     "text": [
      "distill loss :  0.020557780626404565\n",
      "general loss :  0.46439657422403496\n",
      "response loss :  0.2779833781532943\n",
      "Teacher acc: 0.9720999598503113\n",
      "Student acc: 0.8738399744033813\n"
     ]
    },
    {
     "name": "stderr",
     "output_type": "stream",
     "text": [
      "100%|██████████| 58/58 [00:11<00:00,  5.08it/s]\n"
     ]
    },
    {
     "name": "stdout",
     "output_type": "stream",
     "text": [
      "62 \t test acc : 0.8896999955177307\n",
      "====================================================================================================\n",
      "lr : [1.0000000000000005e-09]\n"
     ]
    },
    {
     "name": "stderr",
     "output_type": "stream",
     "text": [
      "100%|██████████| 288/288 [05:58<00:00,  1.24s/it]\n"
     ]
    },
    {
     "name": "stdout",
     "output_type": "stream",
     "text": [
      "distill loss :  0.020126783091755997\n",
      "general loss :  0.46193818044331336\n",
      "response loss :  0.28054608394288355\n",
      "Teacher acc: 0.9735999703407288\n",
      "Student acc: 0.8728399872779846\n"
     ]
    },
    {
     "name": "stderr",
     "output_type": "stream",
     "text": [
      "100%|██████████| 58/58 [00:11<00:00,  5.10it/s]\n"
     ]
    },
    {
     "name": "stdout",
     "output_type": "stream",
     "text": [
      "63 \t test acc : 0.8894999623298645\n",
      "====================================================================================================\n",
      "lr : [1.0000000000000005e-09]\n"
     ]
    },
    {
     "name": "stderr",
     "output_type": "stream",
     "text": [
      "100%|██████████| 288/288 [05:56<00:00,  1.24s/it]\n"
     ]
    },
    {
     "name": "stdout",
     "output_type": "stream",
     "text": [
      "distill loss :  0.020605215088128008\n",
      "general loss :  0.4645125680706567\n",
      "response loss :  0.28024200981275904\n",
      "Teacher acc: 0.9723999500274658\n",
      "Student acc: 0.8719799518585205\n"
     ]
    },
    {
     "name": "stderr",
     "output_type": "stream",
     "text": [
      "100%|██████████| 58/58 [00:11<00:00,  5.08it/s]\n"
     ]
    },
    {
     "name": "stdout",
     "output_type": "stream",
     "text": [
      "64 \t test acc : 0.8895999789237976\n",
      "====================================================================================================\n",
      "lr : [1.0000000000000005e-09]\n"
     ]
    },
    {
     "name": "stderr",
     "output_type": "stream",
     "text": [
      "100%|██████████| 288/288 [05:54<00:00,  1.23s/it]\n"
     ]
    },
    {
     "name": "stdout",
     "output_type": "stream",
     "text": [
      "distill loss :  0.01926091479092267\n",
      "general loss :  0.46294727600697017\n",
      "response loss :  0.2803821877783371\n",
      "Teacher acc: 0.9736199975013733\n",
      "Student acc: 0.872979998588562\n"
     ]
    },
    {
     "name": "stderr",
     "output_type": "stream",
     "text": [
      "100%|██████████| 58/58 [00:11<00:00,  5.07it/s]\n"
     ]
    },
    {
     "name": "stdout",
     "output_type": "stream",
     "text": [
      "65 \t test acc : 0.8895999789237976\n",
      "====================================================================================================\n",
      "lr : [1.0000000000000005e-09]\n"
     ]
    },
    {
     "name": "stderr",
     "output_type": "stream",
     "text": [
      "100%|██████████| 288/288 [05:55<00:00,  1.23s/it]\n"
     ]
    },
    {
     "name": "stdout",
     "output_type": "stream",
     "text": [
      "distill loss :  0.019641593999242306\n",
      "general loss :  0.4612895289642943\n",
      "response loss :  0.2798136140012907\n",
      "Teacher acc: 0.9732399582862854\n",
      "Student acc: 0.8741199970245361\n"
     ]
    },
    {
     "name": "stderr",
     "output_type": "stream",
     "text": [
      "100%|██████████| 58/58 [00:11<00:00,  5.00it/s]\n"
     ]
    },
    {
     "name": "stdout",
     "output_type": "stream",
     "text": [
      "66 \t test acc : 0.8896999955177307\n",
      "====================================================================================================\n",
      "lr : [1.0000000000000005e-09]\n"
     ]
    },
    {
     "name": "stderr",
     "output_type": "stream",
     "text": [
      "100%|██████████| 288/288 [05:54<00:00,  1.23s/it]\n"
     ]
    },
    {
     "name": "stdout",
     "output_type": "stream",
     "text": [
      "distill loss :  0.018770840169357445\n",
      "general loss :  0.46265140486260253\n",
      "response loss :  0.2766232079722815\n",
      "Teacher acc: 0.9722999930381775\n",
      "Student acc: 0.874239981174469\n"
     ]
    },
    {
     "name": "stderr",
     "output_type": "stream",
     "text": [
      "100%|██████████| 58/58 [00:11<00:00,  5.04it/s]\n"
     ]
    },
    {
     "name": "stdout",
     "output_type": "stream",
     "text": [
      "67 \t test acc : 0.8896999955177307\n",
      "====================================================================================================\n",
      "lr : [1.0000000000000005e-09]\n"
     ]
    },
    {
     "name": "stderr",
     "output_type": "stream",
     "text": [
      "100%|██████████| 288/288 [05:57<00:00,  1.24s/it]\n"
     ]
    },
    {
     "name": "stdout",
     "output_type": "stream",
     "text": [
      "distill loss :  0.019097310777093906\n",
      "general loss :  0.46165455505251884\n",
      "response loss :  0.2774123197628392\n",
      "Teacher acc: 0.9729200005531311\n",
      "Student acc: 0.873259961605072\n"
     ]
    },
    {
     "name": "stderr",
     "output_type": "stream",
     "text": [
      "100%|██████████| 58/58 [00:11<00:00,  5.11it/s]\n"
     ]
    },
    {
     "name": "stdout",
     "output_type": "stream",
     "text": [
      "68 \t test acc : 0.8896999955177307\n",
      "====================================================================================================\n",
      "lr : [1.0000000000000005e-09]\n"
     ]
    },
    {
     "name": "stderr",
     "output_type": "stream",
     "text": [
      "100%|██████████| 288/288 [05:58<00:00,  1.24s/it]\n"
     ]
    },
    {
     "name": "stdout",
     "output_type": "stream",
     "text": [
      "distill loss :  0.020792299271205492\n",
      "general loss :  0.4604231734863586\n",
      "response loss :  0.2781317917526596\n",
      "Teacher acc: 0.9741999506950378\n",
      "Student acc: 0.8727200031280518\n"
     ]
    },
    {
     "name": "stderr",
     "output_type": "stream",
     "text": [
      "100%|██████████| 58/58 [00:11<00:00,  5.07it/s]\n"
     ]
    },
    {
     "name": "stdout",
     "output_type": "stream",
     "text": [
      "69 \t test acc : 0.8894999623298645\n",
      "====================================================================================================\n",
      "lr : [1.0000000000000005e-09]\n"
     ]
    },
    {
     "name": "stderr",
     "output_type": "stream",
     "text": [
      "100%|██████████| 288/288 [05:55<00:00,  1.24s/it]\n"
     ]
    },
    {
     "name": "stdout",
     "output_type": "stream",
     "text": [
      "distill loss :  0.019195889957093943\n",
      "general loss :  0.46271760125334066\n",
      "response loss :  0.28092988378678757\n",
      "Teacher acc: 0.9734199643135071\n",
      "Student acc: 0.8727999925613403\n"
     ]
    },
    {
     "name": "stderr",
     "output_type": "stream",
     "text": [
      "100%|██████████| 58/58 [00:11<00:00,  4.94it/s]\n"
     ]
    },
    {
     "name": "stdout",
     "output_type": "stream",
     "text": [
      "70 \t test acc : 0.8896999955177307\n",
      "====================================================================================================\n",
      "lr : [1.0000000000000005e-09]\n"
     ]
    },
    {
     "name": "stderr",
     "output_type": "stream",
     "text": [
      "100%|██████████| 288/288 [05:55<00:00,  1.24s/it]\n"
     ]
    },
    {
     "name": "stdout",
     "output_type": "stream",
     "text": [
      "distill loss :  0.019032614612822525\n",
      "general loss :  0.4649067172366712\n",
      "response loss :  0.2815490601998236\n",
      "Teacher acc: 0.9727199673652649\n",
      "Student acc: 0.8717599511146545\n"
     ]
    },
    {
     "name": "stderr",
     "output_type": "stream",
     "text": [
      "100%|██████████| 58/58 [00:11<00:00,  5.08it/s]\n"
     ]
    },
    {
     "name": "stdout",
     "output_type": "stream",
     "text": [
      "71 \t test acc : 0.8895999789237976\n",
      "====================================================================================================\n",
      "lr : [1.0000000000000005e-09]\n"
     ]
    },
    {
     "name": "stderr",
     "output_type": "stream",
     "text": [
      "100%|██████████| 288/288 [05:54<00:00,  1.23s/it]\n"
     ]
    },
    {
     "name": "stdout",
     "output_type": "stream",
     "text": [
      "distill loss :  0.0175635246915691\n",
      "general loss :  0.46605127428968746\n",
      "response loss :  0.28116886705781025\n",
      "Teacher acc: 0.9727399945259094\n",
      "Student acc: 0.8717599511146545\n"
     ]
    },
    {
     "name": "stderr",
     "output_type": "stream",
     "text": [
      "100%|██████████| 58/58 [00:11<00:00,  5.10it/s]\n"
     ]
    },
    {
     "name": "stdout",
     "output_type": "stream",
     "text": [
      "72 \t test acc : 0.8895999789237976\n",
      "====================================================================================================\n",
      "lr : [1.0000000000000005e-09]\n"
     ]
    },
    {
     "name": "stderr",
     "output_type": "stream",
     "text": [
      "100%|██████████| 288/288 [05:56<00:00,  1.24s/it]\n"
     ]
    },
    {
     "name": "stdout",
     "output_type": "stream",
     "text": [
      "distill loss :  0.01909731955270723\n",
      "general loss :  0.4582420219149854\n",
      "response loss :  0.2788620517692632\n",
      "Teacher acc: 0.9731799960136414\n",
      "Student acc: 0.8748999834060669\n"
     ]
    },
    {
     "name": "stderr",
     "output_type": "stream",
     "text": [
      "100%|██████████| 58/58 [00:11<00:00,  5.10it/s]\n"
     ]
    },
    {
     "name": "stdout",
     "output_type": "stream",
     "text": [
      "73 \t test acc : 0.8894999623298645\n",
      "====================================================================================================\n",
      "lr : [1.0000000000000005e-09]\n"
     ]
    },
    {
     "name": "stderr",
     "output_type": "stream",
     "text": [
      "100%|██████████| 288/288 [05:52<00:00,  1.22s/it]\n"
     ]
    },
    {
     "name": "stdout",
     "output_type": "stream",
     "text": [
      "distill loss :  0.017605268050424963\n",
      "general loss :  0.4579284920150207\n",
      "response loss :  0.27584694424230194\n",
      "Teacher acc: 0.9731400012969971\n",
      "Student acc: 0.874239981174469\n"
     ]
    },
    {
     "name": "stderr",
     "output_type": "stream",
     "text": [
      "100%|██████████| 58/58 [00:11<00:00,  5.05it/s]\n"
     ]
    },
    {
     "name": "stdout",
     "output_type": "stream",
     "text": [
      "74 \t test acc : 0.8894999623298645\n",
      "====================================================================================================\n",
      "lr : [1.0000000000000005e-09]\n"
     ]
    },
    {
     "name": "stderr",
     "output_type": "stream",
     "text": [
      "100%|██████████| 288/288 [05:55<00:00,  1.24s/it]\n"
     ]
    },
    {
     "name": "stdout",
     "output_type": "stream",
     "text": [
      "distill loss :  0.020157282323149655\n",
      "general loss :  0.468478935977651\n",
      "response loss :  0.2823441982683208\n",
      "Teacher acc: 0.972819983959198\n",
      "Student acc: 0.8715199828147888\n"
     ]
    },
    {
     "name": "stderr",
     "output_type": "stream",
     "text": [
      "100%|██████████| 58/58 [00:11<00:00,  5.10it/s]\n"
     ]
    },
    {
     "name": "stdout",
     "output_type": "stream",
     "text": [
      "75 \t test acc : 0.8895999789237976\n",
      "====================================================================================================\n",
      "lr : [1.0000000000000005e-09]\n"
     ]
    },
    {
     "name": "stderr",
     "output_type": "stream",
     "text": [
      "100%|██████████| 288/288 [05:56<00:00,  1.24s/it]\n"
     ]
    },
    {
     "name": "stdout",
     "output_type": "stream",
     "text": [
      "distill loss :  0.020542116200279754\n",
      "general loss :  0.45468517765402794\n",
      "response loss :  0.2754442019181119\n",
      "Teacher acc: 0.973639965057373\n",
      "Student acc: 0.8755199909210205\n"
     ]
    },
    {
     "name": "stderr",
     "output_type": "stream",
     "text": [
      "100%|██████████| 58/58 [00:11<00:00,  5.11it/s]\n"
     ]
    },
    {
     "name": "stdout",
     "output_type": "stream",
     "text": [
      "76 \t test acc : 0.8895999789237976\n",
      "====================================================================================================\n",
      "lr : [1.0000000000000005e-09]\n"
     ]
    },
    {
     "name": "stderr",
     "output_type": "stream",
     "text": [
      "100%|██████████| 288/288 [05:55<00:00,  1.23s/it]\n"
     ]
    },
    {
     "name": "stdout",
     "output_type": "stream",
     "text": [
      "distill loss :  0.019102310215304088\n",
      "general loss :  0.46112149860709906\n",
      "response loss :  0.2752405535429716\n",
      "Teacher acc: 0.9732599854469299\n",
      "Student acc: 0.8757599592208862\n"
     ]
    },
    {
     "name": "stderr",
     "output_type": "stream",
     "text": [
      "100%|██████████| 58/58 [00:11<00:00,  5.09it/s]\n"
     ]
    },
    {
     "name": "stdout",
     "output_type": "stream",
     "text": [
      "77 \t test acc : 0.8896999955177307\n",
      "====================================================================================================\n",
      "lr : [1.0000000000000005e-09]\n"
     ]
    },
    {
     "name": "stderr",
     "output_type": "stream",
     "text": [
      "100%|██████████| 288/288 [05:56<00:00,  1.24s/it]\n"
     ]
    },
    {
     "name": "stdout",
     "output_type": "stream",
     "text": [
      "distill loss :  0.02000492356132276\n",
      "general loss :  0.46391168971442515\n",
      "response loss :  0.2769999923184514\n",
      "Teacher acc: 0.9727999567985535\n",
      "Student acc: 0.8744799494743347\n"
     ]
    },
    {
     "name": "stderr",
     "output_type": "stream",
     "text": [
      "100%|██████████| 58/58 [00:11<00:00,  5.13it/s]\n"
     ]
    },
    {
     "name": "stdout",
     "output_type": "stream",
     "text": [
      "78 \t test acc : 0.8895999789237976\n",
      "====================================================================================================\n",
      "lr : [1.0000000000000005e-09]\n"
     ]
    },
    {
     "name": "stderr",
     "output_type": "stream",
     "text": [
      "100%|██████████| 288/288 [05:55<00:00,  1.23s/it]\n"
     ]
    },
    {
     "name": "stdout",
     "output_type": "stream",
     "text": [
      "distill loss :  0.01995581838936131\n",
      "general loss :  0.46585621658919585\n",
      "response loss :  0.2821432046799196\n",
      "Teacher acc: 0.9726399779319763\n",
      "Student acc: 0.8730999827384949\n"
     ]
    },
    {
     "name": "stderr",
     "output_type": "stream",
     "text": [
      "100%|██████████| 58/58 [00:11<00:00,  5.10it/s]\n"
     ]
    },
    {
     "name": "stdout",
     "output_type": "stream",
     "text": [
      "79 \t test acc : 0.8895999789237976\n",
      "====================================================================================================\n",
      "lr : [1.0000000000000005e-09]\n"
     ]
    },
    {
     "name": "stderr",
     "output_type": "stream",
     "text": [
      "100%|██████████| 288/288 [05:57<00:00,  1.24s/it]\n"
     ]
    },
    {
     "name": "stdout",
     "output_type": "stream",
     "text": [
      "distill loss :  0.021386148655437864\n",
      "general loss :  0.46377878832734293\n",
      "response loss :  0.2795376380284627\n",
      "Teacher acc: 0.9732399582862854\n",
      "Student acc: 0.8728799819946289\n"
     ]
    },
    {
     "name": "stderr",
     "output_type": "stream",
     "text": [
      "100%|██████████| 58/58 [00:11<00:00,  5.09it/s]\n"
     ]
    },
    {
     "name": "stdout",
     "output_type": "stream",
     "text": [
      "80 \t test acc : 0.8895999789237976\n",
      "====================================================================================================\n",
      "lr : [1.0000000000000005e-09]\n"
     ]
    },
    {
     "name": "stderr",
     "output_type": "stream",
     "text": [
      "100%|██████████| 288/288 [05:56<00:00,  1.24s/it]\n"
     ]
    },
    {
     "name": "stdout",
     "output_type": "stream",
     "text": [
      "distill loss :  0.01968977943437898\n",
      "general loss :  0.46347181943969595\n",
      "response loss :  0.2801992770077454\n",
      "Teacher acc: 0.9725799560546875\n",
      "Student acc: 0.8738600015640259\n"
     ]
    },
    {
     "name": "stderr",
     "output_type": "stream",
     "text": [
      "100%|██████████| 58/58 [00:11<00:00,  5.09it/s]\n"
     ]
    },
    {
     "name": "stdout",
     "output_type": "stream",
     "text": [
      "81 \t test acc : 0.8896999955177307\n",
      "====================================================================================================\n",
      "lr : [1.0000000000000005e-09]\n"
     ]
    },
    {
     "name": "stderr",
     "output_type": "stream",
     "text": [
      "100%|██████████| 288/288 [05:55<00:00,  1.24s/it]\n"
     ]
    },
    {
     "name": "stdout",
     "output_type": "stream",
     "text": [
      "distill loss :  0.019297740679273073\n",
      "general loss :  0.4610011844067938\n",
      "response loss :  0.27668468359236914\n",
      "Teacher acc: 0.973099946975708\n",
      "Student acc: 0.8739799857139587\n"
     ]
    },
    {
     "name": "stderr",
     "output_type": "stream",
     "text": [
      "100%|██████████| 58/58 [00:11<00:00,  5.08it/s]\n"
     ]
    },
    {
     "name": "stdout",
     "output_type": "stream",
     "text": [
      "82 \t test acc : 0.8895999789237976\n",
      "====================================================================================================\n",
      "lr : [1.0000000000000005e-09]\n"
     ]
    },
    {
     "name": "stderr",
     "output_type": "stream",
     "text": [
      " 59%|█████▉    | 170/288 [03:31<02:26,  1.25s/it]\n"
     ]
    },
    {
     "ename": "KeyboardInterrupt",
     "evalue": "",
     "output_type": "error",
     "traceback": [
      "\u001b[0;31m---------------------------------------------------------------------------\u001b[0m",
      "\u001b[0;31mKeyboardInterrupt\u001b[0m                         Traceback (most recent call last)",
      "\u001b[0;32m/tmp/ipykernel_2909858/3798603919.py\u001b[0m in \u001b[0;36m<module>\u001b[0;34m\u001b[0m\n\u001b[1;32m     42\u001b[0m         \u001b[0mS_correct\u001b[0m \u001b[0;34m+=\u001b[0m \u001b[0msum\u001b[0m\u001b[0;34m(\u001b[0m\u001b[0mlabel\u001b[0m \u001b[0;34m==\u001b[0m \u001b[0mtorch\u001b[0m\u001b[0;34m.\u001b[0m\u001b[0margmax\u001b[0m\u001b[0;34m(\u001b[0m\u001b[0moutput_s\u001b[0m\u001b[0;34m,\u001b[0m \u001b[0mdim\u001b[0m\u001b[0;34m=\u001b[0m\u001b[0;36m1\u001b[0m\u001b[0;34m)\u001b[0m\u001b[0;34m)\u001b[0m\u001b[0;34m\u001b[0m\u001b[0;34m\u001b[0m\u001b[0m\n\u001b[1;32m     43\u001b[0m \u001b[0;34m\u001b[0m\u001b[0m\n\u001b[0;32m---> 44\u001b[0;31m         \u001b[0mloss_CE\u001b[0m\u001b[0;34m.\u001b[0m\u001b[0mappend\u001b[0m\u001b[0;34m(\u001b[0m\u001b[0mCE_loss\u001b[0m\u001b[0;34m.\u001b[0m\u001b[0mitem\u001b[0m\u001b[0;34m(\u001b[0m\u001b[0;34m)\u001b[0m\u001b[0;34m)\u001b[0m\u001b[0;34m\u001b[0m\u001b[0;34m\u001b[0m\u001b[0m\n\u001b[0m\u001b[1;32m     45\u001b[0m         \u001b[0mloss_distill\u001b[0m\u001b[0;34m.\u001b[0m\u001b[0mappend\u001b[0m\u001b[0;34m(\u001b[0m\u001b[0mdistill_loss\u001b[0m\u001b[0;34m.\u001b[0m\u001b[0mitem\u001b[0m\u001b[0;34m(\u001b[0m\u001b[0;34m)\u001b[0m\u001b[0;34m)\u001b[0m\u001b[0;34m\u001b[0m\u001b[0;34m\u001b[0m\u001b[0m\n\u001b[1;32m     46\u001b[0m         \u001b[0mloss_response\u001b[0m\u001b[0;34m.\u001b[0m\u001b[0mappend\u001b[0m\u001b[0;34m(\u001b[0m\u001b[0mresponse_loss\u001b[0m\u001b[0;34m.\u001b[0m\u001b[0mitem\u001b[0m\u001b[0;34m(\u001b[0m\u001b[0;34m)\u001b[0m\u001b[0;34m)\u001b[0m\u001b[0;34m\u001b[0m\u001b[0;34m\u001b[0m\u001b[0m\n",
      "\u001b[0;31mKeyboardInterrupt\u001b[0m: "
     ]
    }
   ],
   "source": [
    "student_test_accs = []\n",
    "\n",
    "try:\n",
    "    encoder_length = len(teacher.encoder.layers)\n",
    "except:\n",
    "    encoder_length = len(teacher.module.encoder.layers)\n",
    "\n",
    "for epoch in range(100):\n",
    "    \n",
    "    print(f\"lr : {S_scheduler.get_last_lr()}\")\n",
    "    T_correct = 0\n",
    "    S_correct = 0\n",
    "    all_data = 0\n",
    "    \n",
    "    loss_distill = []\n",
    "    loss_CE = []\n",
    "    loss_response = []\n",
    "    student.train()\n",
    "    teacher.eval()\n",
    "    for img, label in tqdm(train_loader):\n",
    "        input_data = img.to(device)\n",
    "        label = label.to(device)\n",
    "        \n",
    "        \n",
    "        all_data += len(input_data)\n",
    "        input_lrp = utils.get_LRP_img(input_data, label, teacher, criterion_CE, T_optimizer, mean=1.5, std = 0.1, mult = 0.4).cuda()\n",
    "        \n",
    "        S_optimizer.zero_grad()\n",
    "        T_optimizer.zero_grad()\n",
    "\n",
    "        layer = random.randint(0,  3+encoder_length)\n",
    "        output_s, fk = student(input_data,layer)\n",
    "        output_t, fk_lrp = teacher(input_lrp,layer)\n",
    "        \n",
    "        distill_loss = mse(fk, fk_lrp)\n",
    "                    \n",
    "        CE_loss = criterion_CE(output_s, label)\n",
    "        \n",
    "        response_loss = criterion_response(output_s, output_t)\n",
    "        \n",
    "        T_correct += sum(label == torch.argmax(output_t, dim=1))\n",
    "        S_correct += sum(label == torch.argmax(output_s, dim=1))\n",
    "        \n",
    "        loss_CE.append(CE_loss.item())\n",
    "        loss_distill.append(distill_loss.item())\n",
    "        loss_response.append(response_loss.item())\n",
    "        \n",
    "        loss = (distill_loss * 2 + CE_loss) / 2\n",
    "        loss.backward()\n",
    "        S_optimizer.step()\n",
    "\n",
    "    print(\"distill loss : \", sum(loss_distill) / len(loss_distill))\n",
    "    print(\"general loss : \", sum(loss_CE) / len(loss_CE))\n",
    "    print(\"response loss : \", sum(loss_response) / len(loss_response))\n",
    "    \n",
    "    print(f\"Teacher acc: {T_correct / all_data}\")\n",
    "    print(f\"Student acc: {S_correct / all_data}\")\n",
    "\n",
    "    test_acc = utils.test(student, test_loader,device, epoch) # student도 변하는거 확인 완료함\n",
    "    \n",
    "    if test_acc > best_acc + 0.01:\n",
    "        stack = 0\n",
    "        best_acc = test_acc\n",
    "        \n",
    "    else:\n",
    "        stack+=1\n",
    "    \n",
    "    if stack > 3:  \n",
    "        S_scheduler.step()\n",
    "        stack = 0\n",
    "        \n",
    "    student_test_accs.append(test_acc.item())\n",
    "    print(\"=\" * 100)"
   ]
  },
  {
   "cell_type": "code",
   "execution_count": null,
   "id": "5eeef3c6",
   "metadata": {
    "ExecuteTime": {
     "end_time": "2022-09-07T15:03:28.601281Z",
     "start_time": "2022-09-07T15:03:28.601269Z"
    }
   },
   "outputs": [],
   "source": [
    "# distill loss를 2배 키워보는것도 좋을지도"
   ]
  },
  {
   "cell_type": "code",
   "execution_count": null,
   "id": "dbb7a762",
   "metadata": {
    "ExecuteTime": {
     "end_time": "2022-09-07T15:03:28.602420Z",
     "start_time": "2022-09-07T15:03:28.602408Z"
    }
   },
   "outputs": [],
   "source": [
    "utils.test(teacher, test_loader,device, epoch) # student도 변하는거 확인 완료함\n",
    "utils.test(student, test_loader,device, epoch) # student도 변하는거 확인 완료함\n"
   ]
  },
  {
   "cell_type": "code",
   "execution_count": null,
   "id": "08941597",
   "metadata": {
    "ExecuteTime": {
     "end_time": "2022-09-07T15:03:28.603280Z",
     "start_time": "2022-09-07T15:03:28.603269Z"
    }
   },
   "outputs": [],
   "source": [
    "torch.save(student, \"vit_b_16_m_0_9_std_0_4_acc_89_01.pth\")"
   ]
  },
  {
   "cell_type": "code",
   "execution_count": null,
   "id": "54d2a26f",
   "metadata": {
    "ExecuteTime": {
     "end_time": "2022-09-07T15:03:28.604092Z",
     "start_time": "2022-09-07T15:03:28.604081Z"
    }
   },
   "outputs": [],
   "source": [
    "0 == \"0\""
   ]
  }
 ],
 "metadata": {
  "kernelspec": {
   "display_name": "vit-pytorch",
   "language": "python",
   "name": "vit-pytorch"
  },
  "language_info": {
   "codemirror_mode": {
    "name": "ipython",
    "version": 3
   },
   "file_extension": ".py",
   "mimetype": "text/x-python",
   "name": "python",
   "nbconvert_exporter": "python",
   "pygments_lexer": "ipython3",
   "version": "3.7.13"
  },
  "toc": {
   "base_numbering": 1,
   "nav_menu": {},
   "number_sections": false,
   "sideBar": true,
   "skip_h1_title": false,
   "title_cell": "Table of Contents",
   "title_sidebar": "Contents",
   "toc_cell": false,
   "toc_position": {},
   "toc_section_display": true,
   "toc_window_display": false
  }
 },
 "nbformat": 4,
 "nbformat_minor": 5
}
