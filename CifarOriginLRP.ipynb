{
 "cells": [
  {
   "cell_type": "code",
   "execution_count": 1,
   "id": "d31bf714",
   "metadata": {
    "ExecuteTime": {
     "end_time": "2022-10-04T15:23:04.596566Z",
     "start_time": "2022-10-04T15:22:59.179596Z"
    }
   },
   "outputs": [
    {
     "name": "stderr",
     "output_type": "stream",
     "text": [
      "/opt/conda/envs/cuda_11_6/lib/python3.8/site-packages/tqdm/auto.py:22: TqdmWarning: IProgress not found. Please update jupyter and ipywidgets. See https://ipywidgets.readthedocs.io/en/stable/user_install.html\n",
      "  from .autonotebook import tqdm as notebook_tqdm\n",
      "Using cache found in /root/.cache/torch/hub/pytorch_vision_main\n",
      "/root/.cache/torch/hub/pytorch_vision_main/torchvision/io/image.py:13: UserWarning: Failed to load image Python extension: \n",
      "  warn(f\"Failed to load image Python extension: {e}\")\n",
      "Using cache found in /root/.cache/torch/hub/pytorch_vision_main\n",
      "/root/.cache/torch/hub/pytorch_vision_main/torchvision/models/_utils.py:223: UserWarning: Arguments other than a weight enum or `None` for 'weights' are deprecated since 0.13 and may be removed in the future. The current behavior is equivalent to passing `weights=ResNet50_Weights.IMAGENET1K_V1`. You can also use `weights=ResNet50_Weights.DEFAULT` to get the most up-to-date weights.\n",
      "  warnings.warn(msg)\n"
     ]
    }
   ],
   "source": [
    "import torch\n",
    "model = torch.hub.load(\"pytorch/vision\", \"vgg11_bn\")\n",
    "\n",
    "import torchvision\n",
    "from Models.transformer import VisionTransformer as vit\n",
    "import Models.Conv as conv\n",
    "\n",
    "from DataLoader import CIFAR100\n",
    "from tqdm import tqdm\n",
    "import torch.optim as optim\n",
    "import torch.nn as nn\n",
    "\n",
    "import utils\n",
    "\n",
    "import numpy as np\n",
    "import torch.backends.cudnn as cudnn\n",
    "import random"
   ]
  },
  {
   "cell_type": "code",
   "execution_count": 2,
   "id": "b42edafc",
   "metadata": {
    "ExecuteTime": {
     "end_time": "2022-10-04T15:23:04.602607Z",
     "start_time": "2022-10-04T15:23:04.599004Z"
    }
   },
   "outputs": [],
   "source": [
    "import utils\n",
    "from DataLoader import CIFAR10\n",
    "from DataLoader import CIFAR100\n",
    "from DataLoader import Flower102\n",
    "\n",
    "import torch\n",
    "import torchvision\n",
    "\n",
    "from glob import glob\n"
   ]
  },
  {
   "cell_type": "code",
   "execution_count": 3,
   "id": "5af1ef5a",
   "metadata": {
    "ExecuteTime": {
     "end_time": "2022-10-04T15:23:04.623543Z",
     "start_time": "2022-10-04T15:23:04.604473Z"
    },
    "code_folding": [
     0
    ]
   },
   "outputs": [],
   "source": [
    "def get_network(name):\n",
    "    \"\"\" return given network\n",
    "    \"\"\"\n",
    "\n",
    "    if name == 'vgg16':\n",
    "        from models_small.vgg import vgg16_bn\n",
    "        net = vgg16_bn()\n",
    "    elif name == 'vgg13':\n",
    "        from models_small.vgg import vgg13_bn\n",
    "        net = vgg13_bn()\n",
    "    elif name == 'vgg11':\n",
    "        from models_small.vgg import vgg11_bn\n",
    "        net = vgg11_bn()\n",
    "    elif name == 'vgg19':\n",
    "        from models_small.vgg import vgg19_bn\n",
    "        net = vgg19_bn()\n",
    "    elif name == 'densenet121':\n",
    "        from models_small.densenet import densenet121\n",
    "        net = densenet121()\n",
    "    elif name == 'densenet161':\n",
    "        from models_small.densenet import densenet161\n",
    "        net = densenet161()\n",
    "    elif name == 'densenet169':\n",
    "        from models_small.densenet import densenet169\n",
    "        net = densenet169()\n",
    "    elif name == 'densenet201':\n",
    "        from models_small.densenet import densenet201\n",
    "        net = densenet201()\n",
    "    elif name == 'googlenet':\n",
    "        from models_small.googlenet import googlenet\n",
    "        net = googlenet()\n",
    "    elif name == 'inceptionv3':\n",
    "        from models_small.inceptionv3 import inceptionv3\n",
    "        net = inceptionv3()\n",
    "    elif name == 'inceptionv4':\n",
    "        from models_small.inceptionv4 import inceptionv4\n",
    "        net = inceptionv4()\n",
    "    elif name == 'inceptionresnetv2':\n",
    "        from models_small.inceptionv4 import inception_resnet_v2\n",
    "        net = inception_resnet_v2()\n",
    "    elif name == 'xception':\n",
    "        from models_small.xception import xception\n",
    "        net = xception()\n",
    "    elif name == 'resnet18':\n",
    "        from models_small.resnet import resnet18\n",
    "        net = resnet18()\n",
    "    elif name == 'resnet34':\n",
    "        from models_small.resnet import resnet34\n",
    "        net = resnet34()\n",
    "    elif name == 'resnet50':\n",
    "        from models_small.resnet import resnet50\n",
    "        net = resnet50()\n",
    "    elif name == 'resnet101':\n",
    "        from models_small.resnet import resnet101\n",
    "        net = resnet101()\n",
    "    elif name == 'resnet152':\n",
    "        from models_small.resnet import resnet152\n",
    "        net = resnet152()\n",
    "    elif name == 'preactresnet18':\n",
    "        from models_small.preactresnet import preactresnet18\n",
    "        net = preactresnet18()\n",
    "    elif name == 'preactresnet34':\n",
    "        from models_small.preactresnet import preactresnet34\n",
    "        net = preactresnet34()\n",
    "    elif name == 'preactresnet50':\n",
    "        from models_small.preactresnet import preactresnet50\n",
    "        net = preactresnet50()\n",
    "    elif name == 'preactresnet101':\n",
    "        from models_small.preactresnet import preactresnet101\n",
    "        net = preactresnet101()\n",
    "    elif name == 'preactresnet152':\n",
    "        from models_small.preactresnet import preactresnet152\n",
    "        net = preactresnet152()\n",
    "    elif name == 'resnext50':\n",
    "        from models_small.resnext import resnext50\n",
    "        net = resnext50()\n",
    "    elif name == 'resnext101':\n",
    "        from models_small.resnext import resnext101\n",
    "        net = resnext101()\n",
    "    elif name == 'resnext152':\n",
    "        from models_small.resnext import resnext152\n",
    "        net = resnext152()\n",
    "    elif name == 'shufflenet':\n",
    "        from models_small.shufflenet import shufflenet\n",
    "        net = shufflenet()\n",
    "    elif name == 'shufflenetv2':\n",
    "        from models_small.shufflenetv2 import shufflenetv2\n",
    "        net = shufflenetv2()\n",
    "    elif name == 'squeezenet':\n",
    "        from models_small.squeezenet import squeezenet\n",
    "        net = squeezenet()\n",
    "    elif name == 'mobilenet':\n",
    "        from models_small.mobilenet import mobilenet\n",
    "        net = mobilenet()\n",
    "    elif name == 'mobilenetv2':\n",
    "        from models_small.mobilenetv2 import mobilenetv2\n",
    "        net = mobilenetv2()\n",
    "    elif name == 'nasnet':\n",
    "        from models_small.nasnet import nasnet\n",
    "        net = nasnet()\n",
    "    elif name == 'attention56':\n",
    "        from models_small.attention import attention56\n",
    "        net = attention56()\n",
    "    elif name == 'attention92':\n",
    "        from models_small.attention import attention92\n",
    "        net = attention92()\n",
    "    elif name == 'seresnet18':\n",
    "        from models_small.senet import seresnet18\n",
    "        net = seresnet18()\n",
    "    elif name == 'seresnet34':\n",
    "        from models_small.senet import seresnet34\n",
    "        net = seresnet34()\n",
    "    elif name == 'seresnet50':\n",
    "        from models_small.senet import seresnet50\n",
    "        net = seresnet50()\n",
    "    elif name == 'seresnet101':\n",
    "        from models_small.senet import seresnet101\n",
    "        net = seresnet101()\n",
    "    elif name == 'seresnet152':\n",
    "        from models_small.senet import seresnet152\n",
    "        net = seresnet152()\n",
    "    elif name == 'wideresnet':\n",
    "        from models_small.wideresidual import wideresnet\n",
    "        net = wideresnet()\n",
    "    elif name == 'stochasticdepth18':\n",
    "        from models_small.stochasticdepth import stochastic_depth_resnet18\n",
    "        net = stochastic_depth_resnet18()\n",
    "    elif name == 'stochasticdepth34':\n",
    "        from models_small.stochasticdepth import stochastic_depth_resnet34\n",
    "        net = stochastic_depth_resnet34()\n",
    "    elif name == 'stochasticdepth50':\n",
    "        from models_small.stochasticdepth import stochastic_depth_resnet50\n",
    "        net = stochastic_depth_resnet50()\n",
    "    elif name == 'stochasticdepth101':\n",
    "        from models_small.stochasticdepth import stochastic_depth_resnet101\n",
    "        net = stochastic_depth_resnet101()\n",
    "\n",
    "    else:\n",
    "        print('the network name you have entered is not supported yet')\n",
    "        sys.exit()\n",
    "\n",
    "    return net"
   ]
  },
  {
   "cell_type": "code",
   "execution_count": 4,
   "id": "8d9b88c3",
   "metadata": {
    "ExecuteTime": {
     "end_time": "2022-10-04T15:23:06.676122Z",
     "start_time": "2022-10-04T15:23:04.626235Z"
    }
   },
   "outputs": [
    {
     "name": "stdout",
     "output_type": "stream",
     "text": [
      "Files already downloaded and verified\n",
      "Files already downloaded and verified\n"
     ]
    }
   ],
   "source": [
    "batch_size = 128\n",
    "device = 'cuda'\n",
    "name = \"vgg11\"\n",
    "\n",
    "train_loader, val_loader = CIFAR100.get_data(batch_size, num_workers=4, use_original=True)"
   ]
  },
  {
   "cell_type": "code",
   "execution_count": 5,
   "id": "4a435507",
   "metadata": {
    "ExecuteTime": {
     "end_time": "2022-10-04T15:23:09.444417Z",
     "start_time": "2022-10-04T15:23:06.677965Z"
    }
   },
   "outputs": [],
   "source": [
    "from Models import Conv\n",
    "\n",
    "teacher = get_network(name)\n",
    "student = get_network(name)\n",
    "\n",
    "\n",
    "teacher.load_state_dict(torch.load(\"saved_models/vgg11_small.pth\"))\n",
    "\n",
    "teacher = Conv.vgg_feature(100, 11, teacher, use_avg_pool=False)\n",
    "student = Conv.vgg_feature(100, 11, student, use_avg_pool=False)\n",
    "\n",
    "teacher = teacher.to(device)\n",
    "student = student.to(device)\n"
   ]
  },
  {
   "cell_type": "code",
   "execution_count": 6,
   "id": "bbd7fa7f",
   "metadata": {
    "ExecuteTime": {
     "end_time": "2022-10-04T15:23:09.448859Z",
     "start_time": "2022-10-04T15:23:09.446477Z"
    }
   },
   "outputs": [],
   "source": [
    "# teacher = torch.nn.DataParallel(teacher, device_ids=[0, 1, 2])\n",
    "# student = torch.nn.DataParallel(student, device_ids=[0, 1, 2])\n"
   ]
  },
  {
   "cell_type": "code",
   "execution_count": 7,
   "id": "080aab59",
   "metadata": {
    "ExecuteTime": {
     "end_time": "2022-10-04T15:23:12.113931Z",
     "start_time": "2022-10-04T15:23:09.450310Z"
    }
   },
   "outputs": [
    {
     "name": "stderr",
     "output_type": "stream",
     "text": [
      "100%|██████████| 79/79 [00:02<00:00, 29.81it/s]"
     ]
    },
    {
     "name": "stdout",
     "output_type": "stream",
     "text": [
      "0 \t test acc : 0.6876999735832214\n"
     ]
    },
    {
     "name": "stderr",
     "output_type": "stream",
     "text": [
      "\n"
     ]
    },
    {
     "data": {
      "text/plain": [
       "tensor(0.6877, device='cuda:0')"
      ]
     },
     "execution_count": 7,
     "metadata": {},
     "output_type": "execute_result"
    }
   ],
   "source": [
    "utils.test(teacher, val_loader,device)"
   ]
  },
  {
   "cell_type": "code",
   "execution_count": 8,
   "id": "c82dc9fa",
   "metadata": {
    "ExecuteTime": {
     "end_time": "2022-10-04T15:23:12.119548Z",
     "start_time": "2022-10-04T15:23:12.116002Z"
    }
   },
   "outputs": [],
   "source": [
    "import numpy as np\n",
    "import torch.backends.cudnn as cudnn\n",
    "import random\n",
    "from tqdm import tqdm\n",
    "import torch.nn as nn\n",
    "import torch.optim as optim\n"
   ]
  },
  {
   "cell_type": "code",
   "execution_count": 9,
   "id": "8f9afe22",
   "metadata": {
    "ExecuteTime": {
     "end_time": "2022-10-04T15:23:12.125676Z",
     "start_time": "2022-10-04T15:23:12.121525Z"
    }
   },
   "outputs": [],
   "source": [
    "criterion_onlylabel = lambda a,b : mse(a*b, b)\n",
    "criterion_CE = nn.CrossEntropyLoss()\n",
    "mse = nn.MSELoss()\n",
    "softmax = torch.nn.Softmax(dim = 1)\n",
    "criterion_KLD = torch.nn.KLDivLoss(reduction=\"batchmean\")\n",
    "criterion_response = lambda a,b : criterion_KLD(torch.log_softmax(a, dim=1),torch.softmax(b, dim=1))\n"
   ]
  },
  {
   "cell_type": "code",
   "execution_count": 10,
   "id": "53b0d941",
   "metadata": {
    "ExecuteTime": {
     "end_time": "2022-10-04T15:23:12.132752Z",
     "start_time": "2022-10-04T15:23:12.128826Z"
    }
   },
   "outputs": [],
   "source": [
    "S_optimizer = optim.SGD(student.parameters(), lr=0.05, momentum=0.9)\n",
    "T_optimizer = optim.SGD(teacher.parameters(), lr=0.05, momentum=0.9)\n",
    "CE_loss = nn.CrossEntropyLoss()"
   ]
  },
  {
   "cell_type": "code",
   "execution_count": 11,
   "id": "36d056ea",
   "metadata": {
    "ExecuteTime": {
     "end_time": "2022-10-04T15:23:12.138272Z",
     "start_time": "2022-10-04T15:23:12.134307Z"
    }
   },
   "outputs": [],
   "source": [
    "S_scheduler = torch.optim.lr_scheduler.MultiStepLR(S_optimizer, milestones=[1,2,3,4,5,6,7], gamma=0.1)\n",
    "T_scheduler = torch.optim.lr_scheduler.MultiStepLR(T_optimizer, milestones=[1,2,3,4,5,6,7], gamma=0.1)"
   ]
  },
  {
   "cell_type": "code",
   "execution_count": 12,
   "id": "768e8f8b",
   "metadata": {
    "ExecuteTime": {
     "end_time": "2022-10-04T15:23:12.143928Z",
     "start_time": "2022-10-04T15:23:12.139844Z"
    }
   },
   "outputs": [],
   "source": [
    "torch.manual_seed(0)\n",
    "torch.cuda.manual_seed(0)\n",
    "torch.cuda.manual_seed_all(0)\n",
    "np.random.seed(0)\n",
    "cudnn.benchmark = False\n",
    "cudnn.deterministic = True\n",
    "random.seed(0)\n",
    "best_acc = 0.0\n",
    "stack = 0\n",
    "\n",
    "accs_train = []\n",
    "accs_test = []"
   ]
  },
  {
   "cell_type": "code",
   "execution_count": 13,
   "id": "13ba5383",
   "metadata": {
    "ExecuteTime": {
     "end_time": "2022-10-04T15:23:12.148181Z",
     "start_time": "2022-10-04T15:23:12.145786Z"
    }
   },
   "outputs": [],
   "source": [
    "temperature = 4"
   ]
  },
  {
   "cell_type": "code",
   "execution_count": 14,
   "id": "991e52cd",
   "metadata": {
    "ExecuteTime": {
     "end_time": "2022-10-04T15:23:12.152339Z",
     "start_time": "2022-10-04T15:23:12.149894Z"
    }
   },
   "outputs": [],
   "source": [
    "layer_num = student.length"
   ]
  },
  {
   "cell_type": "code",
   "execution_count": 15,
   "id": "1f4105b1",
   "metadata": {
    "ExecuteTime": {
     "end_time": "2022-10-04T15:58:30.483434Z",
     "start_time": "2022-10-04T15:23:12.154156Z"
    }
   },
   "outputs": [
    {
     "name": "stdout",
     "output_type": "stream",
     "text": [
      "lr : [0.05]\n"
     ]
    },
    {
     "name": "stderr",
     "output_type": "stream",
     "text": [
      "100%|██████████| 391/391 [00:43<00:00,  8.98it/s]\n"
     ]
    },
    {
     "name": "stdout",
     "output_type": "stream",
     "text": [
      "distill loss :  0.024622893209219017\n",
      "general loss :  3.944654170204611\n",
      "response loss :  1.8623356279509757\n",
      "Teacher acc: 0.9927799701690674\n",
      "Student acc: 0.08271999657154083\n"
     ]
    },
    {
     "name": "stderr",
     "output_type": "stream",
     "text": [
      "100%|██████████| 79/79 [00:00<00:00, 86.54it/s] \n"
     ]
    },
    {
     "name": "stdout",
     "output_type": "stream",
     "text": [
      "0 \t test acc : 0.13539999723434448\n",
      "====================================================================================================\n",
      "lr : [0.05]\n"
     ]
    },
    {
     "name": "stderr",
     "output_type": "stream",
     "text": [
      "100%|██████████| 391/391 [00:43<00:00,  9.06it/s]\n"
     ]
    },
    {
     "name": "stdout",
     "output_type": "stream",
     "text": [
      "distill loss :  0.02197470181696641\n",
      "general loss :  3.349330251479088\n",
      "response loss :  1.802868561976401\n",
      "Teacher acc: 0.9934199452400208\n",
      "Student acc: 0.17257998883724213\n"
     ]
    },
    {
     "name": "stderr",
     "output_type": "stream",
     "text": [
      "100%|██████████| 79/79 [00:00<00:00, 88.02it/s] \n"
     ]
    },
    {
     "name": "stdout",
     "output_type": "stream",
     "text": [
      "1 \t test acc : 0.2190999984741211\n",
      "====================================================================================================\n",
      "lr : [0.05]\n"
     ]
    },
    {
     "name": "stderr",
     "output_type": "stream",
     "text": [
      "100%|██████████| 391/391 [00:50<00:00,  7.76it/s]\n"
     ]
    },
    {
     "name": "stdout",
     "output_type": "stream",
     "text": [
      "distill loss :  0.020352856449894798\n",
      "general loss :  2.9797219498383116\n",
      "response loss :  1.7502242021853356\n",
      "Teacher acc: 0.9933799505233765\n",
      "Student acc: 0.24479998648166656\n"
     ]
    },
    {
     "name": "stderr",
     "output_type": "stream",
     "text": [
      "100%|██████████| 79/79 [00:00<00:00, 88.25it/s] \n"
     ]
    },
    {
     "name": "stdout",
     "output_type": "stream",
     "text": [
      "2 \t test acc : 0.2556999921798706\n",
      "====================================================================================================\n",
      "lr : [0.05]\n"
     ]
    },
    {
     "name": "stderr",
     "output_type": "stream",
     "text": [
      "100%|██████████| 391/391 [00:42<00:00,  9.11it/s]\n"
     ]
    },
    {
     "name": "stdout",
     "output_type": "stream",
     "text": [
      "distill loss :  0.01768796825233628\n",
      "general loss :  2.702667039983413\n",
      "response loss :  1.698357076291233\n",
      "Teacher acc: 0.9937999844551086\n",
      "Student acc: 0.301939994096756\n"
     ]
    },
    {
     "name": "stderr",
     "output_type": "stream",
     "text": [
      "100%|██████████| 79/79 [00:00<00:00, 83.44it/s] \n"
     ]
    },
    {
     "name": "stdout",
     "output_type": "stream",
     "text": [
      "3 \t test acc : 0.31859999895095825\n",
      "====================================================================================================\n",
      "lr : [0.05]\n"
     ]
    },
    {
     "name": "stderr",
     "output_type": "stream",
     "text": [
      "100%|██████████| 391/391 [00:43<00:00,  8.97it/s]\n"
     ]
    },
    {
     "name": "stdout",
     "output_type": "stream",
     "text": [
      "distill loss :  0.017751741944306086\n",
      "general loss :  2.514155274461907\n",
      "response loss :  1.6565733248620387\n",
      "Teacher acc: 0.9932999610900879\n",
      "Student acc: 0.34241998195648193\n"
     ]
    },
    {
     "name": "stderr",
     "output_type": "stream",
     "text": [
      "100%|██████████| 79/79 [00:00<00:00, 82.98it/s]\n"
     ]
    },
    {
     "name": "stdout",
     "output_type": "stream",
     "text": [
      "4 \t test acc : 0.3804999887943268\n",
      "====================================================================================================\n",
      "lr : [0.05]\n"
     ]
    },
    {
     "name": "stderr",
     "output_type": "stream",
     "text": [
      "100%|██████████| 391/391 [00:42<00:00,  9.17it/s]\n"
     ]
    },
    {
     "name": "stdout",
     "output_type": "stream",
     "text": [
      "distill loss :  0.015503065959077633\n",
      "general loss :  2.366194650340263\n",
      "response loss :  1.6151998253429638\n",
      "Teacher acc: 0.992859959602356\n",
      "Student acc: 0.3805199861526489\n"
     ]
    },
    {
     "name": "stderr",
     "output_type": "stream",
     "text": [
      "100%|██████████| 79/79 [00:00<00:00, 83.46it/s] \n"
     ]
    },
    {
     "name": "stdout",
     "output_type": "stream",
     "text": [
      "5 \t test acc : 0.4001999795436859\n",
      "====================================================================================================\n",
      "lr : [0.05]\n"
     ]
    },
    {
     "name": "stderr",
     "output_type": "stream",
     "text": [
      "100%|██████████| 391/391 [00:42<00:00,  9.13it/s]\n"
     ]
    },
    {
     "name": "stdout",
     "output_type": "stream",
     "text": [
      "distill loss :  0.014120964899264952\n",
      "general loss :  2.2291201103068983\n",
      "response loss :  1.564117852379294\n",
      "Teacher acc: 0.9933399558067322\n",
      "Student acc: 0.40943998098373413\n"
     ]
    },
    {
     "name": "stderr",
     "output_type": "stream",
     "text": [
      "100%|██████████| 79/79 [00:00<00:00, 87.87it/s] \n"
     ]
    },
    {
     "name": "stdout",
     "output_type": "stream",
     "text": [
      "6 \t test acc : 0.41830000281333923\n",
      "====================================================================================================\n",
      "lr : [0.05]\n"
     ]
    },
    {
     "name": "stderr",
     "output_type": "stream",
     "text": [
      "100%|██████████| 391/391 [00:43<00:00,  8.93it/s]\n"
     ]
    },
    {
     "name": "stdout",
     "output_type": "stream",
     "text": [
      "distill loss :  0.01297805659458651\n",
      "general loss :  2.1390171426031594\n",
      "response loss :  1.5256357442997301\n",
      "Teacher acc: 0.9931199550628662\n",
      "Student acc: 0.4334399998188019\n"
     ]
    },
    {
     "name": "stderr",
     "output_type": "stream",
     "text": [
      "100%|██████████| 79/79 [00:00<00:00, 81.55it/s] \n"
     ]
    },
    {
     "name": "stdout",
     "output_type": "stream",
     "text": [
      "7 \t test acc : 0.44359999895095825\n",
      "====================================================================================================\n",
      "lr : [0.05]\n"
     ]
    },
    {
     "name": "stderr",
     "output_type": "stream",
     "text": [
      "100%|██████████| 391/391 [00:42<00:00,  9.26it/s]\n"
     ]
    },
    {
     "name": "stdout",
     "output_type": "stream",
     "text": [
      "distill loss :  0.012396553941422363\n",
      "general loss :  2.0451482232574305\n",
      "response loss :  1.4858170531289963\n",
      "Teacher acc: 0.9927399754524231\n",
      "Student acc: 0.4548799991607666\n"
     ]
    },
    {
     "name": "stderr",
     "output_type": "stream",
     "text": [
      "100%|██████████| 79/79 [00:00<00:00, 92.19it/s] \n"
     ]
    },
    {
     "name": "stdout",
     "output_type": "stream",
     "text": [
      "8 \t test acc : 0.4576999843120575\n",
      "====================================================================================================\n",
      "lr : [0.05]\n"
     ]
    },
    {
     "name": "stderr",
     "output_type": "stream",
     "text": [
      "100%|██████████| 391/391 [00:42<00:00,  9.14it/s]\n"
     ]
    },
    {
     "name": "stdout",
     "output_type": "stream",
     "text": [
      "distill loss :  0.012118093518908267\n",
      "general loss :  1.9698236232523418\n",
      "response loss :  1.4471604799675515\n",
      "Teacher acc: 0.9934399724006653\n",
      "Student acc: 0.47562000155448914\n"
     ]
    },
    {
     "name": "stderr",
     "output_type": "stream",
     "text": [
      "100%|██████████| 79/79 [00:00<00:00, 87.27it/s] \n"
     ]
    },
    {
     "name": "stdout",
     "output_type": "stream",
     "text": [
      "9 \t test acc : 0.46069997549057007\n",
      "====================================================================================================\n",
      "lr : [0.05]\n"
     ]
    },
    {
     "name": "stderr",
     "output_type": "stream",
     "text": [
      "100%|██████████| 391/391 [00:51<00:00,  7.54it/s]\n"
     ]
    },
    {
     "name": "stdout",
     "output_type": "stream",
     "text": [
      "distill loss :  0.011003265503312811\n",
      "general loss :  1.894973224995996\n",
      "response loss :  1.4109211843032057\n",
      "Teacher acc: 0.9931399822235107\n",
      "Student acc: 0.4934599995613098\n"
     ]
    },
    {
     "name": "stderr",
     "output_type": "stream",
     "text": [
      "100%|██████████| 79/79 [00:00<00:00, 86.83it/s] \n"
     ]
    },
    {
     "name": "stdout",
     "output_type": "stream",
     "text": [
      "10 \t test acc : 0.5041999816894531\n",
      "====================================================================================================\n",
      "lr : [0.05]\n"
     ]
    },
    {
     "name": "stderr",
     "output_type": "stream",
     "text": [
      "100%|██████████| 391/391 [00:42<00:00,  9.23it/s]\n"
     ]
    },
    {
     "name": "stdout",
     "output_type": "stream",
     "text": [
      "distill loss :  0.010477062207265565\n",
      "general loss :  1.8280303993493394\n",
      "response loss :  1.3725540842241644\n",
      "Teacher acc: 0.9938399791717529\n",
      "Student acc: 0.5110200047492981\n"
     ]
    },
    {
     "name": "stderr",
     "output_type": "stream",
     "text": [
      "100%|██████████| 79/79 [00:00<00:00, 89.82it/s] \n"
     ]
    },
    {
     "name": "stdout",
     "output_type": "stream",
     "text": [
      "11 \t test acc : 0.5099999904632568\n",
      "====================================================================================================\n",
      "lr : [0.05]\n"
     ]
    },
    {
     "name": "stderr",
     "output_type": "stream",
     "text": [
      "100%|██████████| 391/391 [00:42<00:00,  9.26it/s]\n"
     ]
    },
    {
     "name": "stdout",
     "output_type": "stream",
     "text": [
      "distill loss :  0.010247767117479458\n",
      "general loss :  1.7736502995576395\n",
      "response loss :  1.3406219278150202\n",
      "Teacher acc: 0.9932399988174438\n",
      "Student acc: 0.526699960231781\n"
     ]
    },
    {
     "name": "stderr",
     "output_type": "stream",
     "text": [
      "100%|██████████| 79/79 [00:00<00:00, 80.81it/s]\n"
     ]
    },
    {
     "name": "stdout",
     "output_type": "stream",
     "text": [
      "12 \t test acc : 0.5134999752044678\n",
      "====================================================================================================\n",
      "lr : [0.05]\n"
     ]
    },
    {
     "name": "stderr",
     "output_type": "stream",
     "text": [
      "100%|██████████| 391/391 [00:42<00:00,  9.25it/s]\n"
     ]
    },
    {
     "name": "stdout",
     "output_type": "stream",
     "text": [
      "distill loss :  0.009820604199052924\n",
      "general loss :  1.7202208801303678\n",
      "response loss :  1.3068112168470611\n",
      "Teacher acc: 0.9934399724006653\n",
      "Student acc: 0.536579966545105\n"
     ]
    },
    {
     "name": "stderr",
     "output_type": "stream",
     "text": [
      "100%|██████████| 79/79 [00:00<00:00, 80.41it/s]\n"
     ]
    },
    {
     "name": "stdout",
     "output_type": "stream",
     "text": [
      "13 \t test acc : 0.524899959564209\n",
      "====================================================================================================\n",
      "lr : [0.05]\n"
     ]
    },
    {
     "name": "stderr",
     "output_type": "stream",
     "text": [
      "100%|██████████| 391/391 [00:42<00:00,  9.23it/s]\n"
     ]
    },
    {
     "name": "stdout",
     "output_type": "stream",
     "text": [
      "distill loss :  0.009400198960800648\n",
      "general loss :  1.6711584603999887\n",
      "response loss :  1.2725478377183685\n",
      "Teacher acc: 0.9933599829673767\n",
      "Student acc: 0.5539599657058716\n"
     ]
    },
    {
     "name": "stderr",
     "output_type": "stream",
     "text": [
      "100%|██████████| 79/79 [00:00<00:00, 88.94it/s] \n"
     ]
    },
    {
     "name": "stdout",
     "output_type": "stream",
     "text": [
      "14 \t test acc : 0.530299961566925\n",
      "====================================================================================================\n",
      "lr : [0.05]\n"
     ]
    },
    {
     "name": "stderr",
     "output_type": "stream",
     "text": [
      "100%|██████████| 391/391 [00:50<00:00,  7.75it/s]\n"
     ]
    },
    {
     "name": "stdout",
     "output_type": "stream",
     "text": [
      "distill loss :  0.009373373907569158\n",
      "general loss :  1.6285980333147756\n",
      "response loss :  1.2403796008785668\n",
      "Teacher acc: 0.9935999512672424\n",
      "Student acc: 0.5626800060272217\n"
     ]
    },
    {
     "name": "stderr",
     "output_type": "stream",
     "text": [
      "100%|██████████| 79/79 [00:00<00:00, 88.52it/s] \n"
     ]
    },
    {
     "name": "stdout",
     "output_type": "stream",
     "text": [
      "15 \t test acc : 0.5507999658584595\n",
      "====================================================================================================\n",
      "lr : [0.05]\n"
     ]
    },
    {
     "name": "stderr",
     "output_type": "stream",
     "text": [
      "100%|██████████| 391/391 [00:46<00:00,  8.35it/s]\n"
     ]
    },
    {
     "name": "stdout",
     "output_type": "stream",
     "text": [
      "distill loss :  0.009303625723075531\n",
      "general loss :  1.5841502478665404\n",
      "response loss :  1.2095117506468693\n",
      "Teacher acc: 0.9927999973297119\n",
      "Student acc: 0.5781599879264832\n"
     ]
    },
    {
     "name": "stderr",
     "output_type": "stream",
     "text": [
      "100%|██████████| 79/79 [00:00<00:00, 87.81it/s] \n"
     ]
    },
    {
     "name": "stdout",
     "output_type": "stream",
     "text": [
      "16 \t test acc : 0.5564999580383301\n",
      "====================================================================================================\n",
      "lr : [0.05]\n"
     ]
    },
    {
     "name": "stderr",
     "output_type": "stream",
     "text": [
      "100%|██████████| 391/391 [00:45<00:00,  8.67it/s]\n"
     ]
    },
    {
     "name": "stdout",
     "output_type": "stream",
     "text": [
      "distill loss :  0.009243917540418428\n",
      "general loss :  1.5386689468417936\n",
      "response loss :  1.1878157729078131\n",
      "Teacher acc: 0.9935199618339539\n",
      "Student acc: 0.5875200033187866\n"
     ]
    },
    {
     "name": "stderr",
     "output_type": "stream",
     "text": [
      "100%|██████████| 79/79 [00:00<00:00, 87.75it/s] \n"
     ]
    },
    {
     "name": "stdout",
     "output_type": "stream",
     "text": [
      "17 \t test acc : 0.5551999807357788\n",
      "====================================================================================================\n",
      "lr : [0.05]\n"
     ]
    },
    {
     "name": "stderr",
     "output_type": "stream",
     "text": [
      "100%|██████████| 391/391 [00:44<00:00,  8.86it/s]\n"
     ]
    },
    {
     "name": "stdout",
     "output_type": "stream",
     "text": [
      "distill loss :  0.009447451337011975\n",
      "general loss :  1.4874941192929396\n",
      "response loss :  1.1468873812109612\n",
      "Teacher acc: 0.9933599829673767\n",
      "Student acc: 0.6003199815750122\n"
     ]
    },
    {
     "name": "stderr",
     "output_type": "stream",
     "text": [
      "100%|██████████| 79/79 [00:00<00:00, 89.41it/s] \n"
     ]
    },
    {
     "name": "stdout",
     "output_type": "stream",
     "text": [
      "18 \t test acc : 0.5629000067710876\n",
      "====================================================================================================\n",
      "lr : [0.05]\n"
     ]
    },
    {
     "name": "stderr",
     "output_type": "stream",
     "text": [
      "100%|██████████| 391/391 [00:42<00:00,  9.26it/s]\n"
     ]
    },
    {
     "name": "stdout",
     "output_type": "stream",
     "text": [
      "distill loss :  0.009297665967510731\n",
      "general loss :  1.4594049941548302\n",
      "response loss :  1.12349283207408\n",
      "Teacher acc: 0.9936999678611755\n",
      "Student acc: 0.6063599586486816\n"
     ]
    },
    {
     "name": "stderr",
     "output_type": "stream",
     "text": [
      "100%|██████████| 79/79 [00:00<00:00, 89.20it/s] \n"
     ]
    },
    {
     "name": "stdout",
     "output_type": "stream",
     "text": [
      "19 \t test acc : 0.5647000074386597\n",
      "====================================================================================================\n",
      "lr : [0.05]\n"
     ]
    },
    {
     "name": "stderr",
     "output_type": "stream",
     "text": [
      "100%|██████████| 391/391 [00:49<00:00,  7.95it/s]\n"
     ]
    },
    {
     "name": "stdout",
     "output_type": "stream",
     "text": [
      "distill loss :  0.009298713078967694\n",
      "general loss :  1.423042311540345\n",
      "response loss :  1.1041544485275092\n",
      "Teacher acc: 0.9930599927902222\n",
      "Student acc: 0.6162599921226501\n"
     ]
    },
    {
     "name": "stderr",
     "output_type": "stream",
     "text": [
      "100%|██████████| 79/79 [00:00<00:00, 83.87it/s] \n"
     ]
    },
    {
     "name": "stdout",
     "output_type": "stream",
     "text": [
      "20 \t test acc : 0.5687999725341797\n",
      "====================================================================================================\n",
      "lr : [0.05]\n"
     ]
    },
    {
     "name": "stderr",
     "output_type": "stream",
     "text": [
      "100%|██████████| 391/391 [00:42<00:00,  9.09it/s]\n"
     ]
    },
    {
     "name": "stdout",
     "output_type": "stream",
     "text": [
      "distill loss :  0.009179307037399952\n",
      "general loss :  1.378454532769635\n",
      "response loss :  1.0688978398547453\n",
      "Teacher acc: 0.9926599860191345\n",
      "Student acc: 0.6277999877929688\n"
     ]
    },
    {
     "name": "stderr",
     "output_type": "stream",
     "text": [
      "100%|██████████| 79/79 [00:00<00:00, 89.97it/s] \n"
     ]
    },
    {
     "name": "stdout",
     "output_type": "stream",
     "text": [
      "21 \t test acc : 0.5893999934196472\n",
      "====================================================================================================\n",
      "lr : [0.05]\n"
     ]
    },
    {
     "name": "stderr",
     "output_type": "stream",
     "text": [
      "100%|██████████| 391/391 [00:43<00:00,  9.01it/s]\n"
     ]
    },
    {
     "name": "stdout",
     "output_type": "stream",
     "text": [
      "distill loss :  0.009147107626771187\n",
      "general loss :  1.3372358730077134\n",
      "response loss :  1.0399185727014566\n",
      "Teacher acc: 0.9933199882507324\n",
      "Student acc: 0.6386199593544006\n"
     ]
    },
    {
     "name": "stderr",
     "output_type": "stream",
     "text": [
      "100%|██████████| 79/79 [00:00<00:00, 89.62it/s] \n"
     ]
    },
    {
     "name": "stdout",
     "output_type": "stream",
     "text": [
      "22 \t test acc : 0.583299994468689\n",
      "====================================================================================================\n",
      "lr : [0.05]\n"
     ]
    },
    {
     "name": "stderr",
     "output_type": "stream",
     "text": [
      "100%|██████████| 391/391 [00:42<00:00,  9.20it/s]\n"
     ]
    },
    {
     "name": "stdout",
     "output_type": "stream",
     "text": [
      "distill loss :  0.009530090059235911\n",
      "general loss :  1.3060393226725975\n",
      "response loss :  1.0201796209415817\n",
      "Teacher acc: 0.9929199814796448\n",
      "Student acc: 0.6475200057029724\n"
     ]
    },
    {
     "name": "stderr",
     "output_type": "stream",
     "text": [
      "100%|██████████| 79/79 [00:00<00:00, 86.55it/s] \n"
     ]
    },
    {
     "name": "stdout",
     "output_type": "stream",
     "text": [
      "23 \t test acc : 0.5929999947547913\n",
      "====================================================================================================\n",
      "lr : [0.05]\n"
     ]
    },
    {
     "name": "stderr",
     "output_type": "stream",
     "text": [
      "100%|██████████| 391/391 [00:42<00:00,  9.24it/s]\n"
     ]
    },
    {
     "name": "stdout",
     "output_type": "stream",
     "text": [
      "distill loss :  0.010057590709811033\n",
      "general loss :  1.2733417383545196\n",
      "response loss :  0.9992264696704153\n",
      "Teacher acc: 0.992859959602356\n",
      "Student acc: 0.6567599773406982\n"
     ]
    },
    {
     "name": "stderr",
     "output_type": "stream",
     "text": [
      "100%|██████████| 79/79 [00:00<00:00, 85.20it/s] \n"
     ]
    },
    {
     "name": "stdout",
     "output_type": "stream",
     "text": [
      "24 \t test acc : 0.5896999835968018\n",
      "====================================================================================================\n",
      "lr : [0.05]\n"
     ]
    },
    {
     "name": "stderr",
     "output_type": "stream",
     "text": [
      "100%|██████████| 391/391 [00:43<00:00,  8.92it/s]\n"
     ]
    },
    {
     "name": "stdout",
     "output_type": "stream",
     "text": [
      "distill loss :  0.009891409259896887\n",
      "general loss :  1.2268319915017813\n",
      "response loss :  0.9708452332964943\n",
      "Teacher acc: 0.9930799603462219\n",
      "Student acc: 0.6675199866294861\n"
     ]
    },
    {
     "name": "stderr",
     "output_type": "stream",
     "text": [
      "100%|██████████| 79/79 [00:00<00:00, 89.38it/s] \n"
     ]
    },
    {
     "name": "stdout",
     "output_type": "stream",
     "text": [
      "25 \t test acc : 0.5999999642372131\n",
      "====================================================================================================\n",
      "lr : [0.05]\n"
     ]
    },
    {
     "name": "stderr",
     "output_type": "stream",
     "text": [
      "100%|██████████| 391/391 [00:42<00:00,  9.22it/s]\n"
     ]
    },
    {
     "name": "stdout",
     "output_type": "stream",
     "text": [
      "distill loss :  0.010370395859986867\n",
      "general loss :  1.2104131657144297\n",
      "response loss :  0.956063263404095\n",
      "Teacher acc: 0.9932799935340881\n",
      "Student acc: 0.6739599704742432\n"
     ]
    },
    {
     "name": "stderr",
     "output_type": "stream",
     "text": [
      "100%|██████████| 79/79 [00:00<00:00, 80.85it/s] \n"
     ]
    },
    {
     "name": "stdout",
     "output_type": "stream",
     "text": [
      "26 \t test acc : 0.5913999676704407\n",
      "====================================================================================================\n",
      "lr : [0.05]\n"
     ]
    },
    {
     "name": "stderr",
     "output_type": "stream",
     "text": [
      "100%|██████████| 391/391 [00:47<00:00,  8.27it/s]\n"
     ]
    },
    {
     "name": "stdout",
     "output_type": "stream",
     "text": [
      "distill loss :  0.010476372223627298\n",
      "general loss :  1.1662012349309214\n",
      "response loss :  0.9301940596012204\n",
      "Teacher acc: 0.9935399889945984\n",
      "Student acc: 0.6826599836349487\n"
     ]
    },
    {
     "name": "stderr",
     "output_type": "stream",
     "text": [
      "100%|██████████| 79/79 [00:00<00:00, 82.78it/s] \n"
     ]
    },
    {
     "name": "stdout",
     "output_type": "stream",
     "text": [
      "27 \t test acc : 0.6008999943733215\n",
      "====================================================================================================\n",
      "lr : [0.05]\n"
     ]
    },
    {
     "name": "stderr",
     "output_type": "stream",
     "text": [
      "100%|██████████| 391/391 [00:43<00:00,  8.96it/s]\n"
     ]
    },
    {
     "name": "stdout",
     "output_type": "stream",
     "text": [
      "distill loss :  0.011177632672315621\n",
      "general loss :  1.135567387504041\n",
      "response loss :  0.909536414134228\n",
      "Teacher acc: 0.9937399625778198\n",
      "Student acc: 0.692359983921051\n"
     ]
    },
    {
     "name": "stderr",
     "output_type": "stream",
     "text": [
      "100%|██████████| 79/79 [00:00<00:00, 89.42it/s] \n"
     ]
    },
    {
     "name": "stdout",
     "output_type": "stream",
     "text": [
      "28 \t test acc : 0.6015999913215637\n",
      "====================================================================================================\n",
      "lr : [0.05]\n"
     ]
    },
    {
     "name": "stderr",
     "output_type": "stream",
     "text": [
      "100%|██████████| 391/391 [00:44<00:00,  8.69it/s]\n"
     ]
    },
    {
     "name": "stdout",
     "output_type": "stream",
     "text": [
      "distill loss :  0.011161866485881989\n",
      "general loss :  1.109601975401954\n",
      "response loss :  0.8956040012866945\n",
      "Teacher acc: 0.9929999709129333\n",
      "Student acc: 0.7001999616622925\n"
     ]
    },
    {
     "name": "stderr",
     "output_type": "stream",
     "text": [
      "100%|██████████| 79/79 [00:00<00:00, 86.18it/s] \n"
     ]
    },
    {
     "name": "stdout",
     "output_type": "stream",
     "text": [
      "29 \t test acc : 0.6072999835014343\n",
      "====================================================================================================\n",
      "lr : [0.005000000000000001]\n"
     ]
    },
    {
     "name": "stderr",
     "output_type": "stream",
     "text": [
      "100%|██████████| 391/391 [00:42<00:00,  9.24it/s]\n"
     ]
    },
    {
     "name": "stdout",
     "output_type": "stream",
     "text": [
      "distill loss :  0.010888303996270995\n",
      "general loss :  0.8477107309319479\n",
      "response loss :  0.7668568499557807\n",
      "Teacher acc: 0.9929399490356445\n",
      "Student acc: 0.7591599822044373\n"
     ]
    },
    {
     "name": "stderr",
     "output_type": "stream",
     "text": [
      "100%|██████████| 79/79 [00:00<00:00, 92.40it/s] \n"
     ]
    },
    {
     "name": "stdout",
     "output_type": "stream",
     "text": [
      "30 \t test acc : 0.6502999663352966\n",
      "====================================================================================================\n",
      "lr : [0.005000000000000001]\n"
     ]
    },
    {
     "name": "stderr",
     "output_type": "stream",
     "text": [
      "100%|██████████| 391/391 [00:42<00:00,  9.10it/s]\n"
     ]
    },
    {
     "name": "stdout",
     "output_type": "stream",
     "text": [
      "distill loss :  0.011360462248513519\n",
      "general loss :  0.7750958167683438\n",
      "response loss :  0.7179917199227511\n",
      "Teacher acc: 0.9931399822235107\n",
      "Student acc: 0.7800599932670593\n"
     ]
    },
    {
     "name": "stderr",
     "output_type": "stream",
     "text": [
      "100%|██████████| 79/79 [00:00<00:00, 81.04it/s]\n"
     ]
    },
    {
     "name": "stdout",
     "output_type": "stream",
     "text": [
      "31 \t test acc : 0.6513000130653381\n",
      "====================================================================================================\n",
      "lr : [0.005000000000000001]\n"
     ]
    },
    {
     "name": "stderr",
     "output_type": "stream",
     "text": [
      "100%|██████████| 391/391 [00:42<00:00,  9.24it/s]\n"
     ]
    },
    {
     "name": "stdout",
     "output_type": "stream",
     "text": [
      "distill loss :  0.011082890840983281\n",
      "general loss :  0.7391287548767637\n",
      "response loss :  0.6933983436325932\n",
      "Teacher acc: 0.9934399724006653\n",
      "Student acc: 0.7890999913215637\n"
     ]
    },
    {
     "name": "stderr",
     "output_type": "stream",
     "text": [
      "100%|██████████| 79/79 [00:00<00:00, 90.50it/s] \n"
     ]
    },
    {
     "name": "stdout",
     "output_type": "stream",
     "text": [
      "32 \t test acc : 0.6525999903678894\n",
      "====================================================================================================\n",
      "lr : [0.005000000000000001]\n"
     ]
    },
    {
     "name": "stderr",
     "output_type": "stream",
     "text": [
      "100%|██████████| 391/391 [00:42<00:00,  9.22it/s]\n"
     ]
    },
    {
     "name": "stdout",
     "output_type": "stream",
     "text": [
      "distill loss :  0.010950660684962978\n",
      "general loss :  0.7167868150012268\n",
      "response loss :  0.6792216192730858\n",
      "Teacher acc: 0.9930199980735779\n",
      "Student acc: 0.7915599942207336\n"
     ]
    },
    {
     "name": "stderr",
     "output_type": "stream",
     "text": [
      "100%|██████████| 79/79 [00:00<00:00, 83.28it/s] \n"
     ]
    },
    {
     "name": "stdout",
     "output_type": "stream",
     "text": [
      "33 \t test acc : 0.6579999923706055\n",
      "====================================================================================================\n",
      "lr : [0.005000000000000001]\n"
     ]
    },
    {
     "name": "stderr",
     "output_type": "stream",
     "text": [
      "100%|██████████| 391/391 [00:42<00:00,  9.23it/s]\n"
     ]
    },
    {
     "name": "stdout",
     "output_type": "stream",
     "text": [
      "distill loss :  0.011374486830619061\n",
      "general loss :  0.6994701429553654\n",
      "response loss :  0.6696375145021912\n",
      "Teacher acc: 0.993179976940155\n",
      "Student acc: 0.7974799871444702\n"
     ]
    },
    {
     "name": "stderr",
     "output_type": "stream",
     "text": [
      "100%|██████████| 79/79 [00:00<00:00, 81.24it/s] \n"
     ]
    },
    {
     "name": "stdout",
     "output_type": "stream",
     "text": [
      "34 \t test acc : 0.6565999984741211\n",
      "====================================================================================================\n",
      "lr : [0.0005000000000000001]\n"
     ]
    },
    {
     "name": "stderr",
     "output_type": "stream",
     "text": [
      "100%|██████████| 391/391 [00:43<00:00,  8.96it/s]\n"
     ]
    },
    {
     "name": "stdout",
     "output_type": "stream",
     "text": [
      "distill loss :  0.011767126139565407\n",
      "general loss :  0.6590148417083809\n",
      "response loss :  0.6523435242340693\n",
      "Teacher acc: 0.9932599663734436\n",
      "Student acc: 0.8057799935340881\n"
     ]
    },
    {
     "name": "stderr",
     "output_type": "stream",
     "text": [
      "100%|██████████| 79/79 [00:00<00:00, 88.87it/s] \n"
     ]
    },
    {
     "name": "stdout",
     "output_type": "stream",
     "text": [
      "35 \t test acc : 0.6579999923706055\n",
      "====================================================================================================\n",
      "lr : [0.0005000000000000001]\n"
     ]
    },
    {
     "name": "stderr",
     "output_type": "stream",
     "text": [
      "100%|██████████| 391/391 [00:42<00:00,  9.22it/s]\n"
     ]
    },
    {
     "name": "stdout",
     "output_type": "stream",
     "text": [
      "distill loss :  0.011647749823801543\n",
      "general loss :  0.6560332701944024\n",
      "response loss :  0.6494303354826729\n",
      "Teacher acc: 0.9935399889945984\n",
      "Student acc: 0.8062599897384644\n"
     ]
    },
    {
     "name": "stderr",
     "output_type": "stream",
     "text": [
      "100%|██████████| 79/79 [00:00<00:00, 85.32it/s] \n"
     ]
    },
    {
     "name": "stdout",
     "output_type": "stream",
     "text": [
      "36 \t test acc : 0.6597999930381775\n",
      "====================================================================================================\n",
      "lr : [0.0005000000000000001]\n"
     ]
    },
    {
     "name": "stderr",
     "output_type": "stream",
     "text": [
      "100%|██████████| 391/391 [00:44<00:00,  8.76it/s]\n"
     ]
    },
    {
     "name": "stdout",
     "output_type": "stream",
     "text": [
      "distill loss :  0.010983892176074006\n",
      "general loss :  0.6531883330296373\n",
      "response loss :  0.6462113983033563\n",
      "Teacher acc: 0.9936999678611755\n",
      "Student acc: 0.8092399835586548\n"
     ]
    },
    {
     "name": "stderr",
     "output_type": "stream",
     "text": [
      "100%|██████████| 79/79 [00:00<00:00, 82.03it/s] \n"
     ]
    },
    {
     "name": "stdout",
     "output_type": "stream",
     "text": [
      "37 \t test acc : 0.6592999696731567\n",
      "====================================================================================================\n",
      "lr : [0.0005000000000000001]\n"
     ]
    },
    {
     "name": "stderr",
     "output_type": "stream",
     "text": [
      "100%|██████████| 391/391 [00:42<00:00,  9.17it/s]\n"
     ]
    },
    {
     "name": "stdout",
     "output_type": "stream",
     "text": [
      "distill loss :  0.011448581992110232\n",
      "general loss :  0.6477581643692368\n",
      "response loss :  0.6445415072581347\n",
      "Teacher acc: 0.9930199980735779\n",
      "Student acc: 0.8119999766349792\n"
     ]
    },
    {
     "name": "stderr",
     "output_type": "stream",
     "text": [
      "100%|██████████| 79/79 [00:00<00:00, 86.56it/s] \n"
     ]
    },
    {
     "name": "stdout",
     "output_type": "stream",
     "text": [
      "38 \t test acc : 0.6575999855995178\n",
      "====================================================================================================\n",
      "lr : [5.0000000000000016e-05]\n"
     ]
    },
    {
     "name": "stderr",
     "output_type": "stream",
     "text": [
      "100%|██████████| 391/391 [00:46<00:00,  8.34it/s]\n"
     ]
    },
    {
     "name": "stdout",
     "output_type": "stream",
     "text": [
      "distill loss :  0.011808401058235055\n",
      "general loss :  0.6524462754769094\n",
      "response loss :  0.6456652510806423\n",
      "Teacher acc: 0.9929399490356445\n",
      "Student acc: 0.80867999792099\n"
     ]
    },
    {
     "name": "stderr",
     "output_type": "stream",
     "text": [
      "100%|██████████| 79/79 [00:00<00:00, 90.35it/s] \n"
     ]
    },
    {
     "name": "stdout",
     "output_type": "stream",
     "text": [
      "39 \t test acc : 0.6581999659538269\n",
      "====================================================================================================\n",
      "lr : [5.0000000000000016e-05]\n"
     ]
    },
    {
     "name": "stderr",
     "output_type": "stream",
     "text": [
      "100%|██████████| 391/391 [00:42<00:00,  9.18it/s]\n"
     ]
    },
    {
     "name": "stdout",
     "output_type": "stream",
     "text": [
      "distill loss :  0.0109144378479694\n",
      "general loss :  0.6452288034626895\n",
      "response loss :  0.6456706348587485\n",
      "Teacher acc: 0.9931199550628662\n",
      "Student acc: 0.8117799758911133\n"
     ]
    },
    {
     "name": "stderr",
     "output_type": "stream",
     "text": [
      "100%|██████████| 79/79 [00:00<00:00, 90.28it/s] \n"
     ]
    },
    {
     "name": "stdout",
     "output_type": "stream",
     "text": [
      "40 \t test acc : 0.6602999567985535\n",
      "====================================================================================================\n",
      "lr : [5.0000000000000016e-05]\n"
     ]
    },
    {
     "name": "stderr",
     "output_type": "stream",
     "text": [
      "100%|██████████| 391/391 [00:42<00:00,  9.13it/s]\n"
     ]
    },
    {
     "name": "stdout",
     "output_type": "stream",
     "text": [
      "distill loss :  0.011595134439942477\n",
      "general loss :  0.6460265891478799\n",
      "response loss :  0.641225978236674\n",
      "Teacher acc: 0.9933599829673767\n",
      "Student acc: 0.8122599720954895\n"
     ]
    },
    {
     "name": "stderr",
     "output_type": "stream",
     "text": [
      "100%|██████████| 79/79 [00:00<00:00, 89.43it/s] \n"
     ]
    },
    {
     "name": "stdout",
     "output_type": "stream",
     "text": [
      "41 \t test acc : 0.6599999666213989\n",
      "====================================================================================================\n",
      "lr : [5.0000000000000016e-05]\n"
     ]
    },
    {
     "name": "stderr",
     "output_type": "stream",
     "text": [
      "100%|██████████| 391/391 [00:43<00:00,  9.08it/s]\n"
     ]
    },
    {
     "name": "stdout",
     "output_type": "stream",
     "text": [
      "distill loss :  0.011682041172209718\n",
      "general loss :  0.6450116428572809\n",
      "response loss :  0.6434690235825755\n",
      "Teacher acc: 0.9935599565505981\n",
      "Student acc: 0.8114799857139587\n"
     ]
    },
    {
     "name": "stderr",
     "output_type": "stream",
     "text": [
      "100%|██████████| 79/79 [00:00<00:00, 89.01it/s] \n"
     ]
    },
    {
     "name": "stdout",
     "output_type": "stream",
     "text": [
      "42 \t test acc : 0.6575999855995178\n",
      "====================================================================================================\n",
      "lr : [5.000000000000002e-06]\n"
     ]
    },
    {
     "name": "stderr",
     "output_type": "stream",
     "text": [
      "100%|██████████| 391/391 [00:43<00:00,  9.07it/s]\n"
     ]
    },
    {
     "name": "stdout",
     "output_type": "stream",
     "text": [
      "distill loss :  0.010916174575507812\n",
      "general loss :  0.6519045664373871\n",
      "response loss :  0.6416670739498285\n",
      "Teacher acc: 0.9934799671173096\n",
      "Student acc: 0.8104199767112732\n"
     ]
    },
    {
     "name": "stderr",
     "output_type": "stream",
     "text": [
      "100%|██████████| 79/79 [00:00<00:00, 86.88it/s] \n"
     ]
    },
    {
     "name": "stdout",
     "output_type": "stream",
     "text": [
      "43 \t test acc : 0.65829998254776\n",
      "====================================================================================================\n",
      "lr : [5.000000000000002e-06]\n"
     ]
    },
    {
     "name": "stderr",
     "output_type": "stream",
     "text": [
      "100%|██████████| 391/391 [00:51<00:00,  7.56it/s]\n"
     ]
    },
    {
     "name": "stdout",
     "output_type": "stream",
     "text": [
      "distill loss :  0.011162628084444976\n",
      "general loss :  0.6435183366698682\n",
      "response loss :  0.6418265064659021\n",
      "Teacher acc: 0.9936800003051758\n",
      "Student acc: 0.8125199675559998\n"
     ]
    },
    {
     "name": "stderr",
     "output_type": "stream",
     "text": [
      "100%|██████████| 79/79 [00:00<00:00, 87.19it/s] \n"
     ]
    },
    {
     "name": "stdout",
     "output_type": "stream",
     "text": [
      "44 \t test acc : 0.6593999862670898\n",
      "====================================================================================================\n",
      "lr : [5.000000000000002e-06]\n"
     ]
    },
    {
     "name": "stderr",
     "output_type": "stream",
     "text": [
      "100%|██████████| 391/391 [00:45<00:00,  8.51it/s]\n"
     ]
    },
    {
     "name": "stdout",
     "output_type": "stream",
     "text": [
      "distill loss :  0.01143563145716839\n",
      "general loss :  0.6494237801150593\n",
      "response loss :  0.6412823518066455\n",
      "Teacher acc: 0.9935999512672424\n",
      "Student acc: 0.810259997844696\n"
     ]
    },
    {
     "name": "stderr",
     "output_type": "stream",
     "text": [
      "100%|██████████| 79/79 [00:00<00:00, 88.83it/s] \n"
     ]
    },
    {
     "name": "stdout",
     "output_type": "stream",
     "text": [
      "45 \t test acc : 0.65829998254776\n",
      "====================================================================================================\n",
      "lr : [5.000000000000002e-06]\n"
     ]
    },
    {
     "name": "stderr",
     "output_type": "stream",
     "text": [
      "100%|██████████| 391/391 [00:42<00:00,  9.12it/s]\n"
     ]
    },
    {
     "name": "stdout",
     "output_type": "stream",
     "text": [
      "distill loss :  0.011155301793728528\n",
      "general loss :  0.6440089040857446\n",
      "response loss :  0.640953099178841\n",
      "Teacher acc: 0.9936999678611755\n",
      "Student acc: 0.8112399578094482\n"
     ]
    },
    {
     "name": "stderr",
     "output_type": "stream",
     "text": [
      "100%|██████████| 79/79 [00:00<00:00, 82.84it/s] "
     ]
    },
    {
     "name": "stdout",
     "output_type": "stream",
     "text": [
      "46 \t test acc : 0.6579999923706055\n",
      "====================================================================================================\n",
      "lr : [5.000000000000002e-07]\n"
     ]
    },
    {
     "name": "stderr",
     "output_type": "stream",
     "text": [
      "\n"
     ]
    }
   ],
   "source": [
    "student_test_accs = []\n",
    "layer_num = student.length\n",
    "\n",
    "for epoch in range(100):\n",
    "    \n",
    "    print(f\"lr : {S_scheduler.get_last_lr()}\")\n",
    "    if S_scheduler.get_last_lr()[0] < 0.000001:\n",
    "        break\n",
    "        \n",
    "    T_correct = 0\n",
    "    S_correct = 0\n",
    "    all_data = 0\n",
    "    \n",
    "    loss_distill = []\n",
    "    loss_CE = []\n",
    "    loss_response = []\n",
    "    student.train()\n",
    "    teacher.eval()\n",
    "    for img, label in tqdm(train_loader):\n",
    "        input_data = img.to(device)\n",
    "        label = label.to(device)\n",
    "        \n",
    "        \n",
    "        all_data += len(input_data)\n",
    "        input_lrp = utils.get_LRP_img(input_data, label, teacher, criterion_CE, T_optimizer, mean=1.5, std = 0.1, mult = 0.4).cuda()\n",
    "        \n",
    "        S_optimizer.zero_grad()\n",
    "        T_optimizer.zero_grad()\n",
    "\n",
    "        layer = random.randint(0,  layer_num)\n",
    "        output_s, fk = student(input_data,layer)\n",
    "        output_t, fk_lrp = teacher(input_lrp,layer)\n",
    "        \n",
    "        if len(fk.shape) > 2:\n",
    "            fk = torch.mean(fk, dim=1,keepdim=True)\n",
    "            fk_lrp = torch.mean(fk_lrp, dim=1,keepdim=True)\n",
    "            distill_loss = mse(fk, fk_lrp)\n",
    "            \n",
    "        else:\n",
    "            distill_loss = criterion_response(fk/temperature, fk_lrp/temperature)\n",
    "        \n",
    "        CE_loss = criterion_CE(output_s, label)\n",
    "        response_loss = criterion_response(output_t/temperature, output_s/temperature)\n",
    "        \n",
    "        T_correct += sum(label == torch.argmax(output_t, dim=1))\n",
    "        S_correct += sum(label == torch.argmax(output_s, dim=1))\n",
    "        \n",
    "        loss_CE.append(CE_loss.item())\n",
    "        loss_distill.append(distill_loss.item())\n",
    "        loss_response.append(response_loss.item())\n",
    "        \n",
    "        loss = (distill_loss * 3 + CE_loss + response_loss) / 5 # 82.03\n",
    "        loss.backward()\n",
    "        S_optimizer.step()\n",
    "\n",
    "    print(\"distill loss : \", sum(loss_distill) / len(loss_distill))\n",
    "    print(\"general loss : \", sum(loss_CE) / len(loss_CE))\n",
    "    print(\"response loss : \", sum(loss_response) / len(loss_response))\n",
    "    \n",
    "    print(f\"Teacher acc: {T_correct / all_data}\")\n",
    "    print(f\"Student acc: {S_correct / all_data}\")\n",
    "\n",
    "    test_acc = utils.test(student, val_loader,device, epoch) # student도 변하는거 확인 완료함\n",
    "    \n",
    "    if test_acc > best_acc + 0.01:\n",
    "        stack = 0\n",
    "        best_acc = test_acc\n",
    "        \n",
    "    else:\n",
    "        stack+=1\n",
    "    \n",
    "    if stack > 3:  \n",
    "        S_scheduler.step()\n",
    "        stack = 0\n",
    "        \n",
    "    student_test_accs.append(test_acc.item())\n",
    "    print(\"=\" * 100)"
   ]
  },
  {
   "cell_type": "code",
   "execution_count": 16,
   "id": "968b1a93",
   "metadata": {
    "ExecuteTime": {
     "end_time": "2022-10-04T15:58:30.489984Z",
     "start_time": "2022-10-04T15:58:30.486808Z"
    }
   },
   "outputs": [],
   "source": [
    "# 41 \t test acc : 0.6229000091552734\n",
    "# 45 \t test acc : 0.642799973487854  (change dim 2 to 1)\n",
    "# 44 \t test acc : 0.655299961566925 (temperature = 4)\n",
    "# 45 \t test acc : 0.6596999764442444  (add fc layer output with criterion_CE)\n",
    "# change mean 2000 -> 1.5z"
   ]
  },
  {
   "cell_type": "code",
   "execution_count": null,
   "id": "8d4d5c88",
   "metadata": {},
   "outputs": [],
   "source": [
    "# distill loss :  0.11063319659980057\n",
    "# general loss :  4.184964808661615\n",
    "# response loss :  13.09359746089067\n",
    "# Teacher acc: 0.9989599585533142\n",
    "# Student acc: 0.05697999894618988\n",
    "# # 0 \t test acc : 0.09119999408721924\n"
   ]
  },
  {
   "cell_type": "markdown",
   "id": "b8d25c4d",
   "metadata": {
    "ExecuteTime": {
     "start_time": "2022-10-04T15:22:59.233Z"
    }
   },
   "source": [
    "# distill loss :  0.11063319659980057\n",
    "# general loss :  4.184964808661615\n",
    "# response loss :  13.09359746089067\n",
    "# Teacher acc: 0.9989599585533142\n",
    "# Student acc: 0.05697999894618988\n",
    "# # 0 \t test acc : 0.09119999408721924\n"
   ]
  },
  {
   "cell_type": "code",
   "execution_count": null,
   "id": "7e80b574",
   "metadata": {},
   "outputs": [],
   "source": []
  }
 ],
 "metadata": {
  "kernelspec": {
   "display_name": "cuda_11_6",
   "language": "python",
   "name": "cuda_11_6"
  },
  "language_info": {
   "codemirror_mode": {
    "name": "ipython",
    "version": 3
   },
   "file_extension": ".py",
   "mimetype": "text/x-python",
   "name": "python",
   "nbconvert_exporter": "python",
   "pygments_lexer": "ipython3",
   "version": "3.8.13"
  },
  "toc": {
   "base_numbering": 1,
   "nav_menu": {},
   "number_sections": false,
   "sideBar": true,
   "skip_h1_title": false,
   "title_cell": "Table of Contents",
   "title_sidebar": "Contents",
   "toc_cell": false,
   "toc_position": {},
   "toc_section_display": true,
   "toc_window_display": false
  }
 },
 "nbformat": 4,
 "nbformat_minor": 5
}
