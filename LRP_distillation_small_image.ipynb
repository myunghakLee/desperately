{
 "cells": [
  {
   "cell_type": "code",
   "execution_count": null,
   "id": "a9485447",
   "metadata": {
    "ExecuteTime": {
     "end_time": "2022-10-17T02:36:50.042639Z",
     "start_time": "2022-10-17T02:36:45.145940Z"
    }
   },
   "outputs": [],
   "source": []
  },
  {
   "cell_type": "code",
   "execution_count": 1,
   "id": "1fce4982",
   "metadata": {
    "ExecuteTime": {
     "end_time": "2022-10-17T03:26:08.631975Z",
     "start_time": "2022-10-17T03:26:08.628357Z"
    }
   },
   "outputs": [],
   "source": [
    "# import os\n",
    "\n",
    "# os.environ[\"CUDA_VISIBLE_DEVICES\"]= \"2,3\""
   ]
  },
  {
   "cell_type": "code",
   "execution_count": 1,
   "id": "31fb0a75",
   "metadata": {
    "ExecuteTime": {
     "end_time": "2022-10-17T06:34:23.595862Z",
     "start_time": "2022-10-17T06:34:15.963961Z"
    }
   },
   "outputs": [
    {
     "name": "stderr",
     "output_type": "stream",
     "text": [
      "Using cache found in /home/M2021080/.cache/torch/hub/pytorch_vision_main\n",
      "/home/M2021080/.cache/torch/hub/pytorch_vision_main/torchvision/io/image.py:13: UserWarning: Failed to load image Python extension: \n",
      "  warn(f\"Failed to load image Python extension: {e}\")\n",
      "Using cache found in /home/M2021080/.cache/torch/hub/pytorch_vision_main\n",
      "/home/M2021080/.cache/torch/hub/pytorch_vision_main/torchvision/models/_utils.py:223: UserWarning: Arguments other than a weight enum or `None` for 'weights' are deprecated since 0.13 and may be removed in the future. The current behavior is equivalent to passing `weights=ResNet50_Weights.IMAGENET1K_V1`. You can also use `weights=ResNet50_Weights.DEFAULT` to get the most up-to-date weights.\n",
      "  warnings.warn(msg)\n"
     ]
    }
   ],
   "source": [
    "import torch\n",
    "model = torch.hub.load(\"pytorch/vision\", \"vit_b_16\")\n",
    "\n",
    "import torchvision\n",
    "from Models.transformer import VisionTransformer as vit\n",
    "import Models.Conv as conv\n",
    "\n",
    "from DataLoader import CIFAR100\n",
    "from tqdm import tqdm\n",
    "import torch.optim as optim\n",
    "import torch.nn as nn\n",
    "\n",
    "import utils\n",
    "\n",
    "import numpy as np\n",
    "import torch.backends.cudnn as cudnn\n",
    "import random"
   ]
  },
  {
   "cell_type": "code",
   "execution_count": 2,
   "id": "0bb6e0ac",
   "metadata": {
    "ExecuteTime": {
     "end_time": "2022-10-17T06:34:25.733675Z",
     "start_time": "2022-10-17T06:34:23.601019Z"
    }
   },
   "outputs": [
    {
     "name": "stdout",
     "output_type": "stream",
     "text": [
      "Files already downloaded and verified\n",
      "Files already downloaded and verified\n"
     ]
    },
    {
     "name": "stderr",
     "output_type": "stream",
     "text": [
      "/home/M2021080/anaconda3/envs/cuda_11_3/lib/python3.8/site-packages/torch/utils/data/dataloader.py:563: UserWarning: This DataLoader will create 4 worker processes in total. Our suggested max number of worker in current system is 1, which is smaller than what this DataLoader is going to create. Please be aware that excessive worker creation might get DataLoader running slow or even freeze, lower the worker number to avoid potential slowness/freeze if necessary.\n",
      "  warnings.warn(_create_warning_msg(\n"
     ]
    }
   ],
   "source": [
    "# train_loader, test_loader = CIFAR100.get_data(58*3)\n",
    "train_loader, test_loader = CIFAR100.get_data(128, use_original=True)"
   ]
  },
  {
   "cell_type": "code",
   "execution_count": 3,
   "id": "f94696d1",
   "metadata": {
    "ExecuteTime": {
     "end_time": "2022-10-17T06:34:28.417779Z",
     "start_time": "2022-10-17T06:34:25.738424Z"
    }
   },
   "outputs": [],
   "source": [
    "import models\n",
    "teacher = torch.load(\"saved_models/resnet20/best.pth\")\n",
    "student = models.__dict__['resnet20'](num_classes=100)"
   ]
  },
  {
   "cell_type": "code",
   "execution_count": 4,
   "id": "d02763ab",
   "metadata": {
    "ExecuteTime": {
     "end_time": "2022-10-17T06:34:28.427652Z",
     "start_time": "2022-10-17T06:34:28.424303Z"
    }
   },
   "outputs": [],
   "source": [
    "# from Models import Conv\n",
    "\n",
    "# depth = 18\n",
    "\n",
    "# model = torch.load(f\"saved_models/resnet/resnet{depth}.pth\").module\n",
    "# teacher = Conv.resnet_feature(100, depth, model)\n",
    "# student = Conv.resnet_feature(100, depth, pretrained=\"IMAGENET1K_V1\")\n"
   ]
  },
  {
   "cell_type": "code",
   "execution_count": 5,
   "id": "35f1909d",
   "metadata": {
    "ExecuteTime": {
     "end_time": "2022-10-17T06:34:28.450110Z",
     "start_time": "2022-10-17T06:34:28.437434Z"
    }
   },
   "outputs": [],
   "source": [
    "device = \"cuda\"\n",
    "\n",
    "teacher = teacher.to(device)\n",
    "# teacher = torch.nn.DataParallel(teacher, device_ids=[0, 1])\n",
    "\n",
    "student = student.to(device)\n",
    "# student = torch.nn.DataParallel(student, device_ids=[0, 1])\n"
   ]
  },
  {
   "cell_type": "code",
   "execution_count": 6,
   "id": "fea623b9",
   "metadata": {
    "ExecuteTime": {
     "end_time": "2022-10-17T06:34:28.460169Z",
     "start_time": "2022-10-17T06:34:28.454404Z"
    }
   },
   "outputs": [],
   "source": [
    "criterion_onlylabel = lambda a,b : mse(a*b, b)\n",
    "criterion_CE = nn.CrossEntropyLoss()\n",
    "mse = nn.MSELoss()\n",
    "softmax = torch.nn.Softmax(dim = 1)\n",
    "criterion_KLD = torch.nn.KLDivLoss(reduction=\"batchmean\")\n",
    "criterion_response = lambda a,b : criterion_KLD(torch.log_softmax(a, dim=1),torch.softmax(b, dim=1))\n",
    "criterion_response2 = lambda a,b : criterion_CE(torch.softmax(a/4, dim=1),torch.softmax(b/4, dim=1))\n"
   ]
  },
  {
   "cell_type": "code",
   "execution_count": 7,
   "id": "d9a88d7b",
   "metadata": {
    "ExecuteTime": {
     "end_time": "2022-10-17T06:34:28.470071Z",
     "start_time": "2022-10-17T06:34:28.465223Z"
    }
   },
   "outputs": [],
   "source": [
    "S_optimizer = optim.SGD(student.parameters(), lr=0.05, momentum=0.9)\n",
    "T_optimizer = optim.SGD(teacher.parameters(), lr=0.05, momentum=0.9)\n",
    "CE_loss = nn.CrossEntropyLoss()"
   ]
  },
  {
   "cell_type": "code",
   "execution_count": 8,
   "id": "188a3b9a",
   "metadata": {
    "ExecuteTime": {
     "end_time": "2022-10-17T06:34:28.479250Z",
     "start_time": "2022-10-17T06:34:28.474885Z"
    }
   },
   "outputs": [],
   "source": [
    "S_scheduler = torch.optim.lr_scheduler.MultiStepLR(S_optimizer, milestones=[1,2,3,4,5,6,7], gamma=0.1)\n",
    "T_scheduler = torch.optim.lr_scheduler.MultiStepLR(T_optimizer, milestones=[1,2,3,4,5,6,7], gamma=0.1)"
   ]
  },
  {
   "cell_type": "code",
   "execution_count": 9,
   "id": "6f13fe1d",
   "metadata": {
    "ExecuteTime": {
     "end_time": "2022-10-17T06:34:28.488299Z",
     "start_time": "2022-10-17T06:34:28.484543Z"
    }
   },
   "outputs": [],
   "source": [
    "utils.set_seed()\n",
    "\n",
    "best_acc = 0.0\n",
    "stack = 0\n",
    "\n",
    "accs_train = []\n",
    "accs_test = []"
   ]
  },
  {
   "cell_type": "code",
   "execution_count": 10,
   "id": "d665fad2",
   "metadata": {
    "ExecuteTime": {
     "end_time": "2022-10-17T06:34:42.562966Z",
     "start_time": "2022-10-17T06:34:28.493235Z"
    }
   },
   "outputs": [
    {
     "name": "stderr",
     "output_type": "stream",
     "text": [
      "100%|██████████| 79/79 [00:08<00:00,  9.78it/s]\n"
     ]
    },
    {
     "name": "stdout",
     "output_type": "stream",
     "text": [
      "0 \t test acc : 0.6866999864578247\n"
     ]
    },
    {
     "name": "stderr",
     "output_type": "stream",
     "text": [
      "100%|██████████| 79/79 [00:05<00:00, 13.29it/s]"
     ]
    },
    {
     "name": "stdout",
     "output_type": "stream",
     "text": [
      "0 \t test acc : 0.011399999260902405\n"
     ]
    },
    {
     "name": "stderr",
     "output_type": "stream",
     "text": [
      "\n"
     ]
    },
    {
     "data": {
      "text/plain": [
       "tensor(0.0114, device='cuda:0')"
      ]
     },
     "execution_count": 10,
     "metadata": {},
     "output_type": "execute_result"
    }
   ],
   "source": [
    "utils.test(teacher, test_loader,device)\n",
    "utils.test(student, test_loader,device)\n"
   ]
  },
  {
   "cell_type": "code",
   "execution_count": 11,
   "id": "c399f769",
   "metadata": {
    "ExecuteTime": {
     "end_time": "2022-10-17T06:34:42.572078Z",
     "start_time": "2022-10-17T06:34:42.567790Z"
    }
   },
   "outputs": [],
   "source": [
    "import tqdm.notebook as tq\n"
   ]
  },
  {
   "cell_type": "code",
   "execution_count": null,
   "id": "726f478e",
   "metadata": {
    "ExecuteTime": {
     "start_time": "2022-10-17T06:34:16.980Z"
    }
   },
   "outputs": [
    {
     "name": "stdout",
     "output_type": "stream",
     "text": [
      "lr : [0.05]\n"
     ]
    },
    {
     "name": "stderr",
     "output_type": "stream",
     "text": [
      "  0%|          | 0/391 [01:35<?, ?batch/s, StudentACC=0.0755, TeacaherACC=0.947] \n"
     ]
    },
    {
     "name": "stdout",
     "output_type": "stream",
     "text": [
      "general loss :  4.03482528781647\n",
      "response loss :  4.603915214538574\n",
      "Teacher acc: 0.9467399716377258\n",
      "Student acc: 0.07547999918460846\n"
     ]
    },
    {
     "name": "stderr",
     "output_type": "stream",
     "text": [
      "100%|██████████| 79/79 [00:05<00:00, 13.29it/s]\n"
     ]
    },
    {
     "name": "stdout",
     "output_type": "stream",
     "text": [
      "0 \t test acc : 0.11919999867677689\n",
      "====================================================================================================\n",
      "lr : [0.05]\n"
     ]
    },
    {
     "name": "stderr",
     "output_type": "stream",
     "text": [
      "  0%|          | 0/391 [01:32<?, ?batch/s, StudentACC=0.156, TeacaherACC=0.947]\n"
     ]
    },
    {
     "name": "stdout",
     "output_type": "stream",
     "text": [
      "general loss :  3.482728874591915\n",
      "response loss :  4.601797272177303\n",
      "Teacher acc: 0.9469999670982361\n",
      "Student acc: 0.15585999190807343\n"
     ]
    },
    {
     "name": "stderr",
     "output_type": "stream",
     "text": [
      "100%|██████████| 79/79 [00:06<00:00, 13.01it/s]\n"
     ]
    },
    {
     "name": "stdout",
     "output_type": "stream",
     "text": [
      "1 \t test acc : 0.16509999334812164\n",
      "====================================================================================================\n",
      "lr : [0.05]\n"
     ]
    },
    {
     "name": "stderr",
     "output_type": "stream",
     "text": [
      "  0%|          | 0/391 [01:34<?, ?batch/s, StudentACC=0.218, TeacaherACC=0.947]\n"
     ]
    },
    {
     "name": "stdout",
     "output_type": "stream",
     "text": [
      "general loss :  3.1456055025310468\n",
      "response loss :  4.600134788571721\n",
      "Teacher acc: 0.9469999670982361\n",
      "Student acc: 0.21751999855041504\n"
     ]
    },
    {
     "name": "stderr",
     "output_type": "stream",
     "text": [
      "100%|██████████| 79/79 [00:06<00:00, 13.14it/s]\n"
     ]
    },
    {
     "name": "stdout",
     "output_type": "stream",
     "text": [
      "2 \t test acc : 0.2459999918937683\n",
      "====================================================================================================\n",
      "lr : [0.05]\n"
     ]
    },
    {
     "name": "stderr",
     "output_type": "stream",
     "text": [
      "  0%|          | 0/391 [01:34<?, ?batch/s, StudentACC=0.271, TeacaherACC=0.948]\n"
     ]
    },
    {
     "name": "stdout",
     "output_type": "stream",
     "text": [
      "general loss :  2.8569255856906666\n",
      "response loss :  4.598321337834038\n",
      "Teacher acc: 0.9481199979782104\n",
      "Student acc: 0.27079999446868896\n"
     ]
    },
    {
     "name": "stderr",
     "output_type": "stream",
     "text": [
      "100%|██████████| 79/79 [00:05<00:00, 13.39it/s]\n"
     ]
    },
    {
     "name": "stdout",
     "output_type": "stream",
     "text": [
      "3 \t test acc : 0.26749998331069946\n",
      "====================================================================================================\n",
      "lr : [0.05]\n"
     ]
    },
    {
     "name": "stderr",
     "output_type": "stream",
     "text": [
      "  0%|          | 0/391 [01:32<?, ?batch/s, StudentACC=0.317, TeacaherACC=0.948]\n"
     ]
    },
    {
     "name": "stdout",
     "output_type": "stream",
     "text": [
      "general loss :  2.6320827568278595\n",
      "response loss :  4.596584493241957\n",
      "Teacher acc: 0.9477199912071228\n",
      "Student acc: 0.3168199956417084\n"
     ]
    },
    {
     "name": "stderr",
     "output_type": "stream",
     "text": [
      "100%|██████████| 79/79 [00:06<00:00, 12.71it/s]\n"
     ]
    },
    {
     "name": "stdout",
     "output_type": "stream",
     "text": [
      "4 \t test acc : 0.3084999918937683\n",
      "====================================================================================================\n",
      "lr : [0.05]\n"
     ]
    },
    {
     "name": "stderr",
     "output_type": "stream",
     "text": [
      "  0%|          | 0/391 [01:33<?, ?batch/s, StudentACC=0.349, TeacaherACC=0.947]\n"
     ]
    },
    {
     "name": "stdout",
     "output_type": "stream",
     "text": [
      "general loss :  2.4628581939755803\n",
      "response loss :  4.594937176960508\n",
      "Teacher acc: 0.9468399882316589\n",
      "Student acc: 0.34929999709129333\n"
     ]
    },
    {
     "name": "stderr",
     "output_type": "stream",
     "text": [
      "100%|██████████| 79/79 [00:06<00:00, 12.54it/s]\n"
     ]
    },
    {
     "name": "stdout",
     "output_type": "stream",
     "text": [
      "5 \t test acc : 0.3326999843120575\n",
      "====================================================================================================\n",
      "lr : [0.05]\n"
     ]
    },
    {
     "name": "stderr",
     "output_type": "stream",
     "text": [
      "  0%|          | 0/391 [01:33<?, ?batch/s, StudentACC=0.377, TeacaherACC=0.947]\n"
     ]
    },
    {
     "name": "stdout",
     "output_type": "stream",
     "text": [
      "general loss :  2.3249105285195744\n",
      "response loss :  4.593245194086333\n",
      "Teacher acc: 0.9469799995422363\n",
      "Student acc: 0.3769199848175049\n"
     ]
    },
    {
     "name": "stderr",
     "output_type": "stream",
     "text": [
      "100%|██████████| 79/79 [00:06<00:00, 13.00it/s]\n"
     ]
    },
    {
     "name": "stdout",
     "output_type": "stream",
     "text": [
      "6 \t test acc : 0.33329999446868896\n",
      "====================================================================================================\n",
      "lr : [0.05]\n"
     ]
    },
    {
     "name": "stderr",
     "output_type": "stream",
     "text": [
      "  0%|          | 0/391 [01:35<?, ?batch/s, StudentACC=0.408, TeacaherACC=0.946]\n"
     ]
    },
    {
     "name": "stdout",
     "output_type": "stream",
     "text": [
      "general loss :  2.2017509571426666\n",
      "response loss :  4.591871964047327\n",
      "Teacher acc: 0.9461599588394165\n",
      "Student acc: 0.40838000178337097\n"
     ]
    },
    {
     "name": "stderr",
     "output_type": "stream",
     "text": [
      "100%|██████████| 79/79 [00:07<00:00, 10.90it/s]\n"
     ]
    },
    {
     "name": "stdout",
     "output_type": "stream",
     "text": [
      "7 \t test acc : 0.375\n",
      "====================================================================================================\n",
      "lr : [0.05]\n"
     ]
    },
    {
     "name": "stderr",
     "output_type": "stream",
     "text": [
      "  0%|          | 0/391 [01:33<?, ?batch/s, StudentACC=0.429, TeacaherACC=0.949]\n"
     ]
    },
    {
     "name": "stdout",
     "output_type": "stream",
     "text": [
      "general loss :  2.1040317795770553\n",
      "response loss :  4.5903757124605695\n",
      "Teacher acc: 0.9485399723052979\n",
      "Student acc: 0.4290599822998047\n"
     ]
    },
    {
     "name": "stderr",
     "output_type": "stream",
     "text": [
      "100%|██████████| 79/79 [00:06<00:00, 13.13it/s]\n"
     ]
    },
    {
     "name": "stdout",
     "output_type": "stream",
     "text": [
      "8 \t test acc : 0.41669997572898865\n",
      "====================================================================================================\n",
      "lr : [0.05]\n"
     ]
    },
    {
     "name": "stderr",
     "output_type": "stream",
     "text": [
      "  0%|          | 0/391 [01:31<?, ?batch/s, StudentACC=0.449, TeacaherACC=0.948]\n"
     ]
    },
    {
     "name": "stdout",
     "output_type": "stream",
     "text": [
      "general loss :  2.0143884554543456\n",
      "response loss :  4.588940436272975\n",
      "Teacher acc: 0.9484399557113647\n",
      "Student acc: 0.44895997643470764\n"
     ]
    },
    {
     "name": "stderr",
     "output_type": "stream",
     "text": [
      "100%|██████████| 79/79 [00:05<00:00, 13.28it/s]\n"
     ]
    },
    {
     "name": "stdout",
     "output_type": "stream",
     "text": [
      "9 \t test acc : 0.41659998893737793\n",
      "====================================================================================================\n",
      "lr : [0.05]\n"
     ]
    },
    {
     "name": "stderr",
     "output_type": "stream",
     "text": [
      "  0%|          | 0/391 [01:32<?, ?batch/s, StudentACC=0.469, TeacaherACC=0.948]\n"
     ]
    },
    {
     "name": "stdout",
     "output_type": "stream",
     "text": [
      "general loss :  1.9389670257983\n",
      "response loss :  4.587471810753083\n",
      "Teacher acc: 0.9480800032615662\n",
      "Student acc: 0.46884000301361084\n"
     ]
    },
    {
     "name": "stderr",
     "output_type": "stream",
     "text": [
      "100%|██████████| 79/79 [00:06<00:00, 13.16it/s]\n"
     ]
    },
    {
     "name": "stdout",
     "output_type": "stream",
     "text": [
      "10 \t test acc : 0.4309999942779541\n",
      "====================================================================================================\n",
      "lr : [0.05]\n"
     ]
    },
    {
     "name": "stderr",
     "output_type": "stream",
     "text": [
      "  0%|          | 0/391 [01:35<?, ?batch/s, StudentACC=0.484, TeacaherACC=0.947]\n"
     ]
    },
    {
     "name": "stdout",
     "output_type": "stream",
     "text": [
      "general loss :  1.870767300086253\n",
      "response loss :  4.586204472710104\n",
      "Teacher acc: 0.9466399550437927\n",
      "Student acc: 0.4842599928379059\n"
     ]
    },
    {
     "name": "stderr",
     "output_type": "stream",
     "text": [
      "100%|██████████| 79/79 [00:05<00:00, 13.63it/s]\n"
     ]
    },
    {
     "name": "stdout",
     "output_type": "stream",
     "text": [
      "11 \t test acc : 0.44110000133514404\n",
      "====================================================================================================\n",
      "lr : [0.05]\n"
     ]
    },
    {
     "name": "stderr",
     "output_type": "stream",
     "text": [
      "  0%|          | 0/391 [01:32<?, ?batch/s, StudentACC=0.495, TeacaherACC=0.947]\n"
     ]
    },
    {
     "name": "stdout",
     "output_type": "stream",
     "text": [
      "general loss :  1.8137245473959256\n",
      "response loss :  4.5849598935802875\n",
      "Teacher acc: 0.9467999935150146\n",
      "Student acc: 0.4952999949455261\n"
     ]
    },
    {
     "name": "stderr",
     "output_type": "stream",
     "text": [
      "100%|██████████| 79/79 [00:05<00:00, 13.36it/s]\n"
     ]
    },
    {
     "name": "stdout",
     "output_type": "stream",
     "text": [
      "12 \t test acc : 0.46769997477531433\n",
      "====================================================================================================\n",
      "lr : [0.05]\n"
     ]
    },
    {
     "name": "stderr",
     "output_type": "stream",
     "text": [
      "  0%|          | 0/391 [01:34<?, ?batch/s, StudentACC=0.512, TeacaherACC=0.948]\n"
     ]
    },
    {
     "name": "stdout",
     "output_type": "stream",
     "text": [
      "general loss :  1.762682977844687\n",
      "response loss :  4.583736378213634\n",
      "Teacher acc: 0.9477399587631226\n",
      "Student acc: 0.5118600130081177\n"
     ]
    },
    {
     "name": "stderr",
     "output_type": "stream",
     "text": [
      "100%|██████████| 79/79 [00:06<00:00, 12.78it/s]\n"
     ]
    },
    {
     "name": "stdout",
     "output_type": "stream",
     "text": [
      "13 \t test acc : 0.4675999879837036\n",
      "====================================================================================================\n",
      "lr : [0.05]\n"
     ]
    },
    {
     "name": "stderr",
     "output_type": "stream",
     "text": [
      "  0%|          | 0/391 [01:35<?, ?batch/s, StudentACC=0.52, TeacaherACC=0.946] \n"
     ]
    },
    {
     "name": "stdout",
     "output_type": "stream",
     "text": [
      "general loss :  1.714829037561441\n",
      "response loss :  4.582395014555558\n",
      "Teacher acc: 0.945639967918396\n",
      "Student acc: 0.5199999809265137\n"
     ]
    },
    {
     "name": "stderr",
     "output_type": "stream",
     "text": [
      "100%|██████████| 79/79 [00:06<00:00, 13.14it/s]\n"
     ]
    },
    {
     "name": "stdout",
     "output_type": "stream",
     "text": [
      "14 \t test acc : 0.4989999830722809\n",
      "====================================================================================================\n",
      "lr : [0.05]\n"
     ]
    },
    {
     "name": "stderr",
     "output_type": "stream",
     "text": [
      "  0%|          | 0/391 [01:32<?, ?batch/s, StudentACC=0.533, TeacaherACC=0.946]\n"
     ]
    },
    {
     "name": "stdout",
     "output_type": "stream",
     "text": [
      "general loss :  1.6725943390365756\n",
      "response loss :  4.581291006044354\n",
      "Teacher acc: 0.946179986000061\n",
      "Student acc: 0.5330600142478943\n"
     ]
    },
    {
     "name": "stderr",
     "output_type": "stream",
     "text": [
      "100%|██████████| 79/79 [00:07<00:00, 11.27it/s]\n"
     ]
    },
    {
     "name": "stdout",
     "output_type": "stream",
     "text": [
      "15 \t test acc : 0.4715999960899353\n",
      "====================================================================================================\n",
      "lr : [0.05]\n"
     ]
    },
    {
     "name": "stderr",
     "output_type": "stream",
     "text": [
      "  0%|          | 0/391 [01:36<?, ?batch/s, StudentACC=0.544, TeacaherACC=0.947]\n"
     ]
    },
    {
     "name": "stdout",
     "output_type": "stream",
     "text": [
      "general loss :  1.6276291578322115\n",
      "response loss :  4.580014989809002\n",
      "Teacher acc: 0.9465599656105042\n",
      "Student acc: 0.5439199805259705\n"
     ]
    },
    {
     "name": "stderr",
     "output_type": "stream",
     "text": [
      "100%|██████████| 79/79 [00:06<00:00, 13.16it/s]\n"
     ]
    },
    {
     "name": "stdout",
     "output_type": "stream",
     "text": [
      "16 \t test acc : 0.4860999882221222\n",
      "====================================================================================================\n",
      "lr : [0.05]\n"
     ]
    },
    {
     "name": "stderr",
     "output_type": "stream",
     "text": [
      "  0%|          | 0/391 [01:42<?, ?batch/s, StudentACC=0.552, TeacaherACC=0.946]\n"
     ]
    },
    {
     "name": "stdout",
     "output_type": "stream",
     "text": [
      "general loss :  1.592504528782252\n",
      "response loss :  4.578679643323659\n",
      "Teacher acc: 0.9456999897956848\n",
      "Student acc: 0.551639974117279\n"
     ]
    },
    {
     "name": "stderr",
     "output_type": "stream",
     "text": [
      "100%|██████████| 79/79 [00:06<00:00, 12.94it/s]\n"
     ]
    },
    {
     "name": "stdout",
     "output_type": "stream",
     "text": [
      "17 \t test acc : 0.5001000165939331\n",
      "====================================================================================================\n",
      "lr : [0.05]\n"
     ]
    },
    {
     "name": "stderr",
     "output_type": "stream",
     "text": [
      "  0%|          | 0/391 [01:33<?, ?batch/s, StudentACC=0.557, TeacaherACC=0.947]\n"
     ]
    },
    {
     "name": "stdout",
     "output_type": "stream",
     "text": [
      "general loss :  1.565951438206236\n",
      "response loss :  4.577465202497399\n",
      "Teacher acc: 0.947219967842102\n",
      "Student acc: 0.5566799640655518\n"
     ]
    },
    {
     "name": "stderr",
     "output_type": "stream",
     "text": [
      "100%|██████████| 79/79 [00:05<00:00, 13.19it/s]\n"
     ]
    },
    {
     "name": "stdout",
     "output_type": "stream",
     "text": [
      "18 \t test acc : 0.5115000009536743\n",
      "====================================================================================================\n",
      "lr : [0.05]\n"
     ]
    },
    {
     "name": "stderr",
     "output_type": "stream",
     "text": [
      "  0%|          | 0/391 [01:40<?, ?batch/s, StudentACC=0.568, TeacaherACC=0.947]\n"
     ]
    },
    {
     "name": "stdout",
     "output_type": "stream",
     "text": [
      "general loss :  1.5341126281587059\n",
      "response loss :  4.576769853187034\n",
      "Teacher acc: 0.9469599723815918\n",
      "Student acc: 0.5680599808692932\n"
     ]
    },
    {
     "name": "stderr",
     "output_type": "stream",
     "text": [
      "100%|██████████| 79/79 [00:06<00:00, 13.03it/s]\n"
     ]
    },
    {
     "name": "stdout",
     "output_type": "stream",
     "text": [
      "19 \t test acc : 0.5230000019073486\n",
      "====================================================================================================\n",
      "lr : [0.05]\n"
     ]
    },
    {
     "name": "stderr",
     "output_type": "stream",
     "text": [
      "  0%|          | 0/391 [01:37<?, ?batch/s, StudentACC=0.572, TeacaherACC=0.947]\n"
     ]
    },
    {
     "name": "stdout",
     "output_type": "stream",
     "text": [
      "general loss :  1.5015904994876794\n",
      "response loss :  4.5753200194414925\n",
      "Teacher acc: 0.9465799927711487\n",
      "Student acc: 0.5716800093650818\n"
     ]
    },
    {
     "name": "stderr",
     "output_type": "stream",
     "text": [
      "100%|██████████| 79/79 [00:07<00:00, 10.44it/s]\n"
     ]
    },
    {
     "name": "stdout",
     "output_type": "stream",
     "text": [
      "20 \t test acc : 0.531499981880188\n",
      "====================================================================================================\n",
      "lr : [0.05]\n"
     ]
    },
    {
     "name": "stderr",
     "output_type": "stream",
     "text": [
      "  0%|          | 0/391 [01:41<?, ?batch/s, StudentACC=0.579, TeacaherACC=0.947]\n"
     ]
    },
    {
     "name": "stdout",
     "output_type": "stream",
     "text": [
      "general loss :  1.4760570550513694\n",
      "response loss :  4.574433730386407\n",
      "Teacher acc: 0.9471799731254578\n",
      "Student acc: 0.579039990901947\n"
     ]
    },
    {
     "name": "stderr",
     "output_type": "stream",
     "text": [
      " 65%|██████▍   | 51/79 [00:04<00:01, 20.60it/s]"
     ]
    }
   ],
   "source": [
    "student_test_accs = []\n",
    "layer_num = 4\n",
    "\n",
    "utils.set_seed()\n",
    "for epoch in range(100):\n",
    "    \n",
    "    print(f\"lr : {S_scheduler.get_last_lr()}\")\n",
    "    if S_scheduler.get_last_lr()[0] < 0.000001:\n",
    "        break\n",
    "        \n",
    "    T_correct = 0\n",
    "    S_correct = 0\n",
    "    all_data = 0\n",
    "    \n",
    "    loss_distill = []\n",
    "    loss_CE = []\n",
    "    loss_response = []\n",
    "    student.train()\n",
    "    teacher.eval()\n",
    "    with tqdm(train_loader, unit='batch') as pbar:\n",
    "        for img, label in train_loader:\n",
    "            input_data = img.to(device)\n",
    "            label = label.to(device)\n",
    "\n",
    "\n",
    "            all_data += len(input_data)\n",
    "            input_lrp = utils.get_LRP_img(input_data, label, teacher, criterion_CE, T_optimizer, mean=0.5, std = 0.01, mult = 0.4).cuda()\n",
    "\n",
    "            S_optimizer.zero_grad()\n",
    "            T_optimizer.zero_grad()\n",
    "\n",
    "            layer = random.randint(0,  layer_num)\n",
    "    #         output_s, fk = student(input_data,layer)\n",
    "    #         output_t, fk_lrp = teacher(input_lrp,layer)\n",
    "            output_s = student(input_data)\n",
    "            output_t = teacher(input_lrp)\n",
    "\n",
    "    #         channal wise pooling\n",
    "    #         fk = torch.mean(fk, dim=2)\n",
    "    #         fk_lrp = torch.mean(fk_lrp, dim=2)\n",
    "\n",
    "    #         distill_loss = mse(fk, fk_lrp)\n",
    "            distill_loss = 0\n",
    "\n",
    "            CE_loss = criterion_CE(output_s, label)\n",
    "\n",
    "            response_loss = criterion_response2(output_t, output_s)\n",
    "\n",
    "            T_correct += sum(label == torch.argmax(output_t, dim=1))\n",
    "            S_correct += sum(label == torch.argmax(output_s, dim=1))\n",
    "\n",
    "            loss_CE.append(CE_loss.item())\n",
    "    #         loss_distill.append(distill_loss.item())\n",
    "            loss_response.append(response_loss.item())\n",
    "\n",
    "            loss = (distill_loss * 3 + CE_loss + response_loss) / 2 # 82.03\n",
    "            loss.backward()\n",
    "            S_optimizer.step()\n",
    "            pbar.set_postfix(TeacaherACC = (T_correct / all_data).item(), StudentACC = (S_correct / all_data).item())\n",
    "    #     print(\"distill loss : \", sum(loss_distill) / len(loss_distill))\n",
    "    print(\"general loss : \", sum(loss_CE) / len(loss_CE))\n",
    "    print(\"response loss : \", sum(loss_response) / len(loss_response))\n",
    "\n",
    "    print(f\"Teacher acc: {T_correct / all_data}\")\n",
    "    print(f\"Student acc: {S_correct / all_data}\")\n",
    "\n",
    "    test_acc = utils.test(student, test_loader,device, epoch) # student도 변하는거 확인 완료함\n",
    "\n",
    "    if test_acc > best_acc + 0.01:\n",
    "        stack = 0\n",
    "        best_acc = test_acc\n",
    "\n",
    "    else:\n",
    "        stack+=1\n",
    "\n",
    "    if stack > 3:  \n",
    "        S_scheduler.step()\n",
    "        stack = 0\n",
    "\n",
    "    student_test_accs.append(test_acc.item())\n",
    "    print(\"=\" * 100)"
   ]
  },
  {
   "cell_type": "code",
   "execution_count": null,
   "id": "5eeef3c6",
   "metadata": {
    "ExecuteTime": {
     "start_time": "2022-10-17T06:34:17.216Z"
    }
   },
   "outputs": [],
   "source": [
    "# distill loss를 2배 키워보는것도 좋을지도"
   ]
  },
  {
   "cell_type": "code",
   "execution_count": 11,
   "id": "dbb7a762",
   "metadata": {
    "ExecuteTime": {
     "end_time": "2022-09-16T19:40:15.962529Z",
     "start_time": "2022-09-16T19:40:03.376123Z"
    }
   },
   "outputs": [
    {
     "name": "stderr",
     "output_type": "stream",
     "text": [
      "100%|██████████| 27/27 [00:06<00:00,  4.23it/s]\n"
     ]
    },
    {
     "name": "stdout",
     "output_type": "stream",
     "text": [
      "32 \t test acc : 0.7930999994277954\n"
     ]
    },
    {
     "name": "stderr",
     "output_type": "stream",
     "text": [
      "100%|██████████| 27/27 [00:06<00:00,  4.38it/s]"
     ]
    },
    {
     "name": "stdout",
     "output_type": "stream",
     "text": [
      "32 \t test acc : 0.8247999548912048\n"
     ]
    },
    {
     "name": "stderr",
     "output_type": "stream",
     "text": [
      "\n"
     ]
    },
    {
     "data": {
      "text/plain": [
       "tensor(0.8248, device='cuda:0')"
      ]
     },
     "execution_count": 11,
     "metadata": {},
     "output_type": "execute_result"
    }
   ],
   "source": [
    "utils.test(teacher, test_loader,device, epoch) # student도 변하는거 확인 완료함\n",
    "utils.test(student, test_loader,device, epoch) # student도 변하는거 확인 완료함\n"
   ]
  },
  {
   "cell_type": "code",
   "execution_count": 14,
   "id": "08941597",
   "metadata": {
    "ExecuteTime": {
     "end_time": "2022-09-16T14:25:54.018947Z",
     "start_time": "2022-09-16T14:25:53.810438Z"
    }
   },
   "outputs": [],
   "source": [
    "torch.save(student, \"saved_models/resnet/resnet{depth}_student.pth\")"
   ]
  },
  {
   "cell_type": "code",
   "execution_count": 15,
   "id": "623bc543",
   "metadata": {
    "ExecuteTime": {
     "end_time": "2022-09-16T14:25:54.066024Z",
     "start_time": "2022-09-16T14:25:54.059241Z"
    }
   },
   "outputs": [],
   "source": [
    "import json\n",
    "\n",
    "with open(f\"saved_models/resnet/resnet{depth}.json\", \"w\") as f:\n",
    "    json.dump({\"student_test_accs\" : student_test_accs}, f)"
   ]
  },
  {
   "cell_type": "code",
   "execution_count": null,
   "id": "b75e1e4a",
   "metadata": {
    "ExecuteTime": {
     "end_time": "2022-09-14T05:02:13.871438Z",
     "start_time": "2022-09-14T05:02:13.871425Z"
    }
   },
   "outputs": [],
   "source": [
    "# from Models import Conv\n",
    "\n",
    "# depth = 101\n",
    "\n",
    "# model = torch.load(f\"saved_models/vgg/vgg{depth}.pth\").module\n",
    "# teacher = Conv.resnet_feature(100, depth, model)\n",
    "# student = Conv.resnet_feature(100, depth, pretrained=\"IMAGENET1K_V1\")\n",
    "\n",
    "\n",
    "# device = \"cuda\"\n",
    "\n",
    "# teacher = teacher.to(device)\n",
    "# teacher = torch.nn.DataParallel(teacher, device_ids=[0, 1])\n",
    "\n",
    "# student = student.to(device)\n",
    "# student = torch.nn.DataParallel(student, device_ids=[0, 1])\n",
    "\n",
    "# criterion_onlylabel = lambda a,b : mse(a*b, b)\n",
    "# criterion_CE = nn.CrossEntropyLoss()\n",
    "# mse = nn.MSELoss()\n",
    "# softmax = torch.nn.Softmax(dim = 1)\n",
    "# criterion_KLD = torch.nn.KLDivLoss(reduction=\"batchmean\")\n",
    "# criterion_response = lambda a,b : criterion_KLD(torch.log_softmax(a, dim=1),torch.softmax(b, dim=1))\n",
    "\n",
    "# S_optimizer = optim.SGD(student.parameters(), lr=0.05, momentum=0.9)\n",
    "# T_optimizer = optim.SGD(teacher.parameters(), lr=0.05, momentum=0.9)\n",
    "# CE_loss = nn.CrossEntropyLoss()\n",
    "\n",
    "# S_scheduler = torch.optim.lr_scheduler.MultiStepLR(S_optimizer, milestones=[1,2,3,4,5,6,7], gamma=0.1)\n",
    "# T_scheduler = torch.optim.lr_scheduler.MultiStepLR(T_optimizer, milestones=[1,2,3,4,5,6,7], gamma=0.1)\n",
    "\n",
    "\n",
    "\n",
    "# torch.manual_seed(0)\n",
    "# torch.cuda.manual_seed(0)\n",
    "# torch.cuda.manual_seed_all(0)\n",
    "# np.random.seed(0)\n",
    "# cudnn.benchmark = False\n",
    "# cudnn.deterministic = True\n",
    "# random.seed(0)\n",
    "# best_acc = 0.0\n",
    "# stack = 0\n",
    "\n",
    "# accs_train = []\n",
    "# accs_test = []\n",
    "\n",
    "# utils.test(teacher, test_loader,device)\n",
    "# utils.test(student, test_loader,device)\n"
   ]
  }
 ],
 "metadata": {
  "kernelspec": {
   "display_name": "cuda_11_3",
   "language": "python",
   "name": "cuda_11_3"
  },
  "language_info": {
   "codemirror_mode": {
    "name": "ipython",
    "version": 3
   },
   "file_extension": ".py",
   "mimetype": "text/x-python",
   "name": "python",
   "nbconvert_exporter": "python",
   "pygments_lexer": "ipython3",
   "version": "3.8.0"
  },
  "latex_envs": {
   "LaTeX_envs_menu_present": true,
   "autoclose": false,
   "autocomplete": true,
   "bibliofile": "biblio.bib",
   "cite_by": "apalike",
   "current_citInitial": 1,
   "eqLabelWithNumbers": true,
   "eqNumInitial": 1,
   "hotkeys": {
    "equation": "Ctrl-E",
    "itemize": "Ctrl-I"
   },
   "labels_anchors": false,
   "latex_user_defs": false,
   "report_style_numbering": false,
   "user_envs_cfg": false
  },
  "toc": {
   "base_numbering": 1,
   "nav_menu": {},
   "number_sections": false,
   "sideBar": true,
   "skip_h1_title": false,
   "title_cell": "Table of Contents",
   "title_sidebar": "Contents",
   "toc_cell": false,
   "toc_position": {},
   "toc_section_display": true,
   "toc_window_display": false
  }
 },
 "nbformat": 4,
 "nbformat_minor": 5
}
