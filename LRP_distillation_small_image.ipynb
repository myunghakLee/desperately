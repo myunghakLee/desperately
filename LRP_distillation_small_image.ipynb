{
 "cells": [
  {
   "cell_type": "code",
   "execution_count": null,
   "id": "a9485447",
   "metadata": {
    "ExecuteTime": {
     "end_time": "2022-10-17T02:36:50.042639Z",
     "start_time": "2022-10-17T02:36:45.145940Z"
    }
   },
   "outputs": [],
   "source": []
  },
  {
   "cell_type": "code",
   "execution_count": 1,
   "id": "1fce4982",
   "metadata": {
    "ExecuteTime": {
     "end_time": "2022-10-18T15:00:31.148680Z",
     "start_time": "2022-10-18T15:00:31.145912Z"
    }
   },
   "outputs": [],
   "source": [
    "# import os\n",
    "\n",
    "# os.environ[\"CUDA_VISIBLE_DEVICES\"]= \"2,3\""
   ]
  },
  {
   "cell_type": "code",
   "execution_count": 2,
   "id": "31fb0a75",
   "metadata": {
    "ExecuteTime": {
     "end_time": "2022-10-18T15:00:35.196116Z",
     "start_time": "2022-10-18T15:00:31.150096Z"
    }
   },
   "outputs": [
    {
     "name": "stderr",
     "output_type": "stream",
     "text": [
      "/opt/conda/envs/cuda_11_6/lib/python3.8/site-packages/tqdm/auto.py:22: TqdmWarning: IProgress not found. Please update jupyter and ipywidgets. See https://ipywidgets.readthedocs.io/en/stable/user_install.html\n",
      "  from .autonotebook import tqdm as notebook_tqdm\n",
      "Using cache found in /root/.cache/torch/hub/pytorch_vision_main\n",
      "/root/.cache/torch/hub/pytorch_vision_main/torchvision/io/image.py:13: UserWarning: Failed to load image Python extension: \n",
      "  warn(f\"Failed to load image Python extension: {e}\")\n",
      "Using cache found in /root/.cache/torch/hub/pytorch_vision_main\n",
      "/root/.cache/torch/hub/pytorch_vision_main/torchvision/models/_utils.py:223: UserWarning: Arguments other than a weight enum or `None` for 'weights' are deprecated since 0.13 and may be removed in the future. The current behavior is equivalent to passing `weights=ResNet50_Weights.IMAGENET1K_V1`. You can also use `weights=ResNet50_Weights.DEFAULT` to get the most up-to-date weights.\n",
      "  warnings.warn(msg)\n"
     ]
    }
   ],
   "source": [
    "import torch\n",
    "model = torch.hub.load(\"pytorch/vision\", \"vit_b_16\")\n",
    "\n",
    "import torchvision\n",
    "from Models.transformer import VisionTransformer as vit\n",
    "import Models.Conv as conv\n",
    "\n",
    "from DataLoader import CIFAR100\n",
    "from tqdm import tqdm\n",
    "import torch.optim as optim\n",
    "import torch.nn as nn\n",
    "\n",
    "import utils\n",
    "\n",
    "import numpy as np\n",
    "import torch.backends.cudnn as cudnn\n",
    "import random"
   ]
  },
  {
   "cell_type": "code",
   "execution_count": 3,
   "id": "0bb6e0ac",
   "metadata": {
    "ExecuteTime": {
     "end_time": "2022-10-18T15:00:37.472131Z",
     "start_time": "2022-10-18T15:00:35.201118Z"
    }
   },
   "outputs": [
    {
     "name": "stdout",
     "output_type": "stream",
     "text": [
      "Files already downloaded and verified\n",
      "Files already downloaded and verified\n"
     ]
    }
   ],
   "source": [
    "# train_loader, test_loader = CIFAR100.get_data(58*3)\n",
    "train_loader, test_loader = CIFAR100.get_data(128, use_original=True)"
   ]
  },
  {
   "cell_type": "code",
   "execution_count": 4,
   "id": "f94696d1",
   "metadata": {
    "ExecuteTime": {
     "end_time": "2022-10-18T15:00:39.756209Z",
     "start_time": "2022-10-18T15:00:37.474597Z"
    }
   },
   "outputs": [],
   "source": [
    "import models\n",
    "teacher = torch.load(\"saved_models/small_model/resnet20/best.pth\")\n",
    "student = models.__dict__['resnet20'](num_classes=100)\n",
    "\n",
    "teacher = models.refine_model(teacher)\n",
    "student = models.refine_model(student)\n"
   ]
  },
  {
   "cell_type": "code",
   "execution_count": 5,
   "id": "35f1909d",
   "metadata": {
    "ExecuteTime": {
     "end_time": "2022-10-18T15:00:39.766463Z",
     "start_time": "2022-10-18T15:00:39.758562Z"
    }
   },
   "outputs": [],
   "source": [
    "device = \"cuda\"\n",
    "\n",
    "teacher = teacher.to(device)\n",
    "# teacher = torch.nn.DataParallel(teacher, device_ids=[0, 1])\n",
    "\n",
    "student = student.to(device)\n",
    "# student = torch.nn.DataParallel(student, device_ids=[0, 1])\n"
   ]
  },
  {
   "cell_type": "code",
   "execution_count": 6,
   "id": "fea623b9",
   "metadata": {
    "ExecuteTime": {
     "end_time": "2022-10-18T15:00:39.772894Z",
     "start_time": "2022-10-18T15:00:39.768224Z"
    }
   },
   "outputs": [],
   "source": [
    "criterion_onlylabel = lambda a,b : mse(a*b, b)\n",
    "criterion_CE = nn.CrossEntropyLoss()\n",
    "mse = nn.MSELoss()\n",
    "softmax = torch.nn.Softmax(dim = 1)\n",
    "criterion_KLD = torch.nn.KLDivLoss(reduction=\"batchmean\")\n",
    "criterion_response = lambda a,b : criterion_KLD(torch.log_softmax(a, dim=1),torch.softmax(b, dim=1))\n",
    "criterion_response2 = lambda a,b : criterion_CE(torch.softmax(a/4, dim=1),torch.softmax(b/4, dim=1))\n"
   ]
  },
  {
   "cell_type": "code",
   "execution_count": 7,
   "id": "d9a88d7b",
   "metadata": {
    "ExecuteTime": {
     "end_time": "2022-10-18T15:00:39.778601Z",
     "start_time": "2022-10-18T15:00:39.774737Z"
    }
   },
   "outputs": [],
   "source": [
    "S_optimizer = optim.SGD(student.parameters(), lr=0.05, momentum=0.9)\n",
    "T_optimizer = optim.SGD(teacher.parameters(), lr=0.05, momentum=0.9)\n",
    "CE_loss = nn.CrossEntropyLoss()"
   ]
  },
  {
   "cell_type": "code",
   "execution_count": 8,
   "id": "188a3b9a",
   "metadata": {
    "ExecuteTime": {
     "end_time": "2022-10-18T15:00:39.783917Z",
     "start_time": "2022-10-18T15:00:39.780513Z"
    }
   },
   "outputs": [],
   "source": [
    "S_scheduler = torch.optim.lr_scheduler.MultiStepLR(S_optimizer, milestones=[1,2,3,4,5,6,7], gamma=0.2)\n",
    "T_scheduler = torch.optim.lr_scheduler.MultiStepLR(T_optimizer, milestones=[1,2,3,4,5,6,7], gamma=0.2)"
   ]
  },
  {
   "cell_type": "code",
   "execution_count": 9,
   "id": "6f13fe1d",
   "metadata": {
    "ExecuteTime": {
     "end_time": "2022-10-18T15:00:39.789842Z",
     "start_time": "2022-10-18T15:00:39.787150Z"
    }
   },
   "outputs": [],
   "source": [
    "utils.set_seed()\n",
    "\n",
    "best_acc = 0.0\n",
    "stack = 0\n",
    "\n",
    "accs_train = []\n",
    "accs_test = []"
   ]
  },
  {
   "cell_type": "code",
   "execution_count": 10,
   "id": "d665fad2",
   "metadata": {
    "ExecuteTime": {
     "end_time": "2022-10-18T15:00:43.512012Z",
     "start_time": "2022-10-18T15:00:39.791756Z"
    }
   },
   "outputs": [
    {
     "name": "stdout",
     "output_type": "stream",
     "text": [
      "0 \t test acc : 0.6866999864578247\n",
      "0 \t test acc : 0.008599999360740185\n"
     ]
    },
    {
     "data": {
      "text/plain": [
       "tensor(0.0086, device='cuda:0')"
      ]
     },
     "execution_count": 10,
     "metadata": {},
     "output_type": "execute_result"
    }
   ],
   "source": [
    "utils.test(teacher, test_loader,device)\n",
    "utils.test(student, test_loader,device)\n"
   ]
  },
  {
   "cell_type": "code",
   "execution_count": 11,
   "id": "c399f769",
   "metadata": {
    "ExecuteTime": {
     "end_time": "2022-10-18T15:00:43.517569Z",
     "start_time": "2022-10-18T15:00:43.514288Z"
    }
   },
   "outputs": [],
   "source": [
    "import tqdm.notebook as tq\n",
    "from tqdm import tqdm"
   ]
  },
  {
   "cell_type": "code",
   "execution_count": 12,
   "id": "726f478e",
   "metadata": {
    "ExecuteTime": {
     "end_time": "2022-10-18T15:26:33.582781Z",
     "start_time": "2022-10-18T15:00:43.519515Z"
    }
   },
   "outputs": [
    {
     "name": "stdout",
     "output_type": "stream",
     "text": [
      "lr : [0.05]\n"
     ]
    },
    {
     "name": "stderr",
     "output_type": "stream",
     "text": [
      "100%|██████████| 391/391 [00:50<00:00,  7.70it/s, TeacaherACC=0.883, StudentACC=0.0105] "
     ]
    },
    {
     "name": "stdout",
     "output_type": "stream",
     "text": [
      "distill loss :  0.7572247463652431\n",
      "general loss :  4.605172917056267\n",
      "response loss :  4.605452580220255\n",
      "Teacher acc: 0.8832799792289734\n",
      "Student acc: 0.010459999553859234\n"
     ]
    },
    {
     "name": "stderr",
     "output_type": "stream",
     "text": [
      "\n"
     ]
    },
    {
     "name": "stdout",
     "output_type": "stream",
     "text": [
      "0 \t test acc : 0.014399999752640724\n",
      "====================================================================================================\n",
      "lr : [0.05]\n"
     ]
    },
    {
     "name": "stderr",
     "output_type": "stream",
     "text": [
      "100%|██████████| 391/391 [00:56<00:00,  6.94it/s, TeacaherACC=0.883, StudentACC=0.0131]"
     ]
    },
    {
     "name": "stdout",
     "output_type": "stream",
     "text": [
      "distill loss :  0.723709914627273\n",
      "general loss :  4.605012371716902\n",
      "response loss :  4.605432487204862\n",
      "Teacher acc: 0.883359968662262\n",
      "Student acc: 0.013059999793767929\n"
     ]
    },
    {
     "name": "stderr",
     "output_type": "stream",
     "text": [
      "\n"
     ]
    },
    {
     "name": "stdout",
     "output_type": "stream",
     "text": [
      "1 \t test acc : 0.014699999243021011\n",
      "====================================================================================================\n",
      "lr : [0.05]\n"
     ]
    },
    {
     "name": "stderr",
     "output_type": "stream",
     "text": [
      "100%|██████████| 391/391 [00:49<00:00,  7.93it/s, TeacaherACC=0.883, StudentACC=0.0148]"
     ]
    },
    {
     "name": "stdout",
     "output_type": "stream",
     "text": [
      "distill loss :  0.6195959140608549\n",
      "general loss :  4.604743205068057\n",
      "response loss :  4.605406037986736\n",
      "Teacher acc: 0.8831999897956848\n",
      "Student acc: 0.014839999377727509\n"
     ]
    },
    {
     "name": "stderr",
     "output_type": "stream",
     "text": [
      "\n"
     ]
    },
    {
     "name": "stdout",
     "output_type": "stream",
     "text": [
      "2 \t test acc : 0.015599999576807022\n",
      "====================================================================================================\n",
      "lr : [0.05]\n"
     ]
    },
    {
     "name": "stderr",
     "output_type": "stream",
     "text": [
      "100%|██████████| 391/391 [00:52<00:00,  7.45it/s, TeacaherACC=0.885, StudentACC=0.0157]"
     ]
    },
    {
     "name": "stdout",
     "output_type": "stream",
     "text": [
      "distill loss :  0.6741452562263059\n",
      "general loss :  4.6040267224811835\n",
      "response loss :  4.605363370207569\n",
      "Teacher acc: 0.8850799798965454\n",
      "Student acc: 0.01568000018596649\n"
     ]
    },
    {
     "name": "stderr",
     "output_type": "stream",
     "text": [
      "\n"
     ]
    },
    {
     "name": "stdout",
     "output_type": "stream",
     "text": [
      "3 \t test acc : 0.015199999324977398\n",
      "====================================================================================================\n",
      "lr : [0.05]\n"
     ]
    },
    {
     "name": "stderr",
     "output_type": "stream",
     "text": [
      "100%|██████████| 391/391 [00:52<00:00,  7.47it/s, TeacaherACC=0.884, StudentACC=0.0114]"
     ]
    },
    {
     "name": "stdout",
     "output_type": "stream",
     "text": [
      "distill loss :  0.6148231433450824\n",
      "general loss :  4.6012504106897225\n",
      "response loss :  4.605289103125062\n",
      "Teacher acc: 0.8836999535560608\n",
      "Student acc: 0.011380000039935112\n"
     ]
    },
    {
     "name": "stderr",
     "output_type": "stream",
     "text": [
      "\n"
     ]
    },
    {
     "name": "stdout",
     "output_type": "stream",
     "text": [
      "4 \t test acc : 0.016699999570846558\n",
      "====================================================================================================\n",
      "lr : [0.010000000000000002]\n"
     ]
    },
    {
     "name": "stderr",
     "output_type": "stream",
     "text": [
      "100%|██████████| 391/391 [00:53<00:00,  7.26it/s, TeacaherACC=0.884, StudentACC=0.0174]"
     ]
    },
    {
     "name": "stdout",
     "output_type": "stream",
     "text": [
      "distill loss :  0.5716255314146762\n",
      "general loss :  4.599062974495656\n",
      "response loss :  4.605225037430864\n",
      "Teacher acc: 0.8835999965667725\n",
      "Student acc: 0.01743999868631363\n"
     ]
    },
    {
     "name": "stderr",
     "output_type": "stream",
     "text": [
      "\n"
     ]
    },
    {
     "name": "stdout",
     "output_type": "stream",
     "text": [
      "5 \t test acc : 0.01889999955892563\n",
      "====================================================================================================\n",
      "lr : [0.010000000000000002]\n"
     ]
    },
    {
     "name": "stderr",
     "output_type": "stream",
     "text": [
      "100%|██████████| 391/391 [00:54<00:00,  7.15it/s, TeacaherACC=0.884, StudentACC=0.0189]"
     ]
    },
    {
     "name": "stdout",
     "output_type": "stream",
     "text": [
      "distill loss :  0.637429794080465\n",
      "general loss :  4.5974157350447475\n",
      "response loss :  4.6051909515010125\n",
      "Teacher acc: 0.884179949760437\n",
      "Student acc: 0.01891999877989292\n"
     ]
    },
    {
     "name": "stderr",
     "output_type": "stream",
     "text": [
      "\n"
     ]
    },
    {
     "name": "stdout",
     "output_type": "stream",
     "text": [
      "6 \t test acc : 0.01939999870955944\n",
      "====================================================================================================\n",
      "lr : [0.010000000000000002]\n"
     ]
    },
    {
     "name": "stderr",
     "output_type": "stream",
     "text": [
      "100%|██████████| 391/391 [00:53<00:00,  7.34it/s, TeacaherACC=0.883, StudentACC=0.0194]"
     ]
    },
    {
     "name": "stdout",
     "output_type": "stream",
     "text": [
      "distill loss :  0.5651561205508783\n",
      "general loss :  4.5954147019349705\n",
      "response loss :  4.605142462893825\n",
      "Teacher acc: 0.882860004901886\n",
      "Student acc: 0.019439999014139175\n"
     ]
    },
    {
     "name": "stderr",
     "output_type": "stream",
     "text": [
      "\n"
     ]
    },
    {
     "name": "stdout",
     "output_type": "stream",
     "text": [
      "7 \t test acc : 0.019299998879432678\n",
      "====================================================================================================\n",
      "lr : [0.010000000000000002]\n"
     ]
    },
    {
     "name": "stderr",
     "output_type": "stream",
     "text": [
      "100%|██████████| 391/391 [00:58<00:00,  6.73it/s, TeacaherACC=0.884, StudentACC=0.0195]"
     ]
    },
    {
     "name": "stdout",
     "output_type": "stream",
     "text": [
      "distill loss :  0.5463598748100945\n",
      "general loss :  4.594404902299652\n",
      "response loss :  4.605101482947465\n",
      "Teacher acc: 0.884119987487793\n",
      "Student acc: 0.019460000097751617\n"
     ]
    },
    {
     "name": "stderr",
     "output_type": "stream",
     "text": [
      "\n"
     ]
    },
    {
     "name": "stdout",
     "output_type": "stream",
     "text": [
      "8 \t test acc : 0.019299998879432678\n",
      "====================================================================================================\n",
      "lr : [0.0020000000000000005]\n"
     ]
    },
    {
     "name": "stderr",
     "output_type": "stream",
     "text": [
      "100%|██████████| 391/391 [00:52<00:00,  7.49it/s, TeacaherACC=0.882, StudentACC=0.0194]"
     ]
    },
    {
     "name": "stdout",
     "output_type": "stream",
     "text": [
      "distill loss :  0.4797389378343635\n",
      "general loss :  4.594093341046892\n",
      "response loss :  4.605079269165273\n",
      "Teacher acc: 0.8824799656867981\n",
      "Student acc: 0.019379999488592148\n"
     ]
    },
    {
     "name": "stderr",
     "output_type": "stream",
     "text": [
      "\n"
     ]
    },
    {
     "name": "stdout",
     "output_type": "stream",
     "text": [
      "9 \t test acc : 0.01939999870955944\n",
      "====================================================================================================\n",
      "lr : [0.0020000000000000005]\n"
     ]
    },
    {
     "name": "stderr",
     "output_type": "stream",
     "text": [
      "100%|██████████| 391/391 [00:52<00:00,  7.46it/s, TeacaherACC=0.885, StudentACC=0.0195]"
     ]
    },
    {
     "name": "stdout",
     "output_type": "stream",
     "text": [
      "distill loss :  0.5486490592834494\n",
      "general loss :  4.593910209967962\n",
      "response loss :  4.605064590873621\n",
      "Teacher acc: 0.8847000002861023\n",
      "Student acc: 0.019519999623298645\n"
     ]
    },
    {
     "name": "stderr",
     "output_type": "stream",
     "text": [
      "\n"
     ]
    },
    {
     "name": "stdout",
     "output_type": "stream",
     "text": [
      "10 \t test acc : 0.019299998879432678\n",
      "====================================================================================================\n",
      "lr : [0.0020000000000000005]\n"
     ]
    },
    {
     "name": "stderr",
     "output_type": "stream",
     "text": [
      "100%|██████████| 391/391 [00:52<00:00,  7.44it/s, TeacaherACC=0.883, StudentACC=0.0194]"
     ]
    },
    {
     "name": "stdout",
     "output_type": "stream",
     "text": [
      "distill loss :  0.5411922679910355\n",
      "general loss :  4.593797477614849\n",
      "response loss :  4.605060032261607\n",
      "Teacher acc: 0.8832199573516846\n",
      "Student acc: 0.019419999793171883\n"
     ]
    },
    {
     "name": "stderr",
     "output_type": "stream",
     "text": [
      "\n"
     ]
    },
    {
     "name": "stdout",
     "output_type": "stream",
     "text": [
      "11 \t test acc : 0.01939999870955944\n",
      "====================================================================================================\n",
      "lr : [0.0020000000000000005]\n"
     ]
    },
    {
     "name": "stderr",
     "output_type": "stream",
     "text": [
      "100%|██████████| 391/391 [00:50<00:00,  7.74it/s, TeacaherACC=0.884, StudentACC=0.0194]"
     ]
    },
    {
     "name": "stdout",
     "output_type": "stream",
     "text": [
      "distill loss :  0.6018309523553952\n",
      "general loss :  4.5937084029702575\n",
      "response loss :  4.605053172392004\n",
      "Teacher acc: 0.8838399648666382\n",
      "Student acc: 0.019439999014139175\n"
     ]
    },
    {
     "name": "stderr",
     "output_type": "stream",
     "text": [
      "\n"
     ]
    },
    {
     "name": "stdout",
     "output_type": "stream",
     "text": [
      "12 \t test acc : 0.01939999870955944\n",
      "====================================================================================================\n",
      "lr : [0.00040000000000000013]\n"
     ]
    },
    {
     "name": "stderr",
     "output_type": "stream",
     "text": [
      "100%|██████████| 391/391 [00:55<00:00,  6.99it/s, TeacaherACC=0.884, StudentACC=0.0194]"
     ]
    },
    {
     "name": "stdout",
     "output_type": "stream",
     "text": [
      "distill loss :  0.5243848656807952\n",
      "general loss :  4.593583524074701\n",
      "response loss :  4.605047884499631\n",
      "Teacher acc: 0.8842799663543701\n",
      "Student acc: 0.019439999014139175\n"
     ]
    },
    {
     "name": "stderr",
     "output_type": "stream",
     "text": [
      "\n"
     ]
    },
    {
     "name": "stdout",
     "output_type": "stream",
     "text": [
      "13 \t test acc : 0.01939999870955944\n",
      "====================================================================================================\n",
      "lr : [0.00040000000000000013]\n"
     ]
    },
    {
     "name": "stderr",
     "output_type": "stream",
     "text": [
      "100%|██████████| 391/391 [00:53<00:00,  7.32it/s, TeacaherACC=0.884, StudentACC=0.0195]"
     ]
    },
    {
     "name": "stdout",
     "output_type": "stream",
     "text": [
      "distill loss :  0.509434220407282\n",
      "general loss :  4.593740685211728\n",
      "response loss :  4.605054380948586\n",
      "Teacher acc: 0.8839799761772156\n",
      "Student acc: 0.019519999623298645\n"
     ]
    },
    {
     "name": "stderr",
     "output_type": "stream",
     "text": [
      "\n"
     ]
    },
    {
     "name": "stdout",
     "output_type": "stream",
     "text": [
      "14 \t test acc : 0.01939999870955944\n",
      "====================================================================================================\n",
      "lr : [0.00040000000000000013]\n"
     ]
    },
    {
     "name": "stderr",
     "output_type": "stream",
     "text": [
      "100%|██████████| 391/391 [00:51<00:00,  7.66it/s, TeacaherACC=0.883, StudentACC=0.0195]"
     ]
    },
    {
     "name": "stdout",
     "output_type": "stream",
     "text": [
      "distill loss :  0.5615996369958648\n",
      "general loss :  4.5937057102427765\n",
      "response loss :  4.60504604544481\n",
      "Teacher acc: 0.883139967918396\n",
      "Student acc: 0.01947999931871891\n"
     ]
    },
    {
     "name": "stderr",
     "output_type": "stream",
     "text": [
      "\n"
     ]
    },
    {
     "name": "stdout",
     "output_type": "stream",
     "text": [
      "15 \t test acc : 0.01939999870955944\n",
      "====================================================================================================\n",
      "lr : [0.00040000000000000013]\n"
     ]
    },
    {
     "name": "stderr",
     "output_type": "stream",
     "text": [
      "100%|██████████| 391/391 [00:48<00:00,  7.98it/s, TeacaherACC=0.883, StudentACC=0.0196]"
     ]
    },
    {
     "name": "stdout",
     "output_type": "stream",
     "text": [
      "distill loss :  0.526468136958192\n",
      "general loss :  4.59358263991373\n",
      "response loss :  4.605050580885709\n",
      "Teacher acc: 0.8828999996185303\n",
      "Student acc: 0.019579999148845673\n"
     ]
    },
    {
     "name": "stderr",
     "output_type": "stream",
     "text": [
      "\n"
     ]
    },
    {
     "name": "stdout",
     "output_type": "stream",
     "text": [
      "16 \t test acc : 0.01939999870955944\n",
      "====================================================================================================\n",
      "lr : [8.000000000000003e-05]\n"
     ]
    },
    {
     "name": "stderr",
     "output_type": "stream",
     "text": [
      "100%|██████████| 391/391 [00:51<00:00,  7.62it/s, TeacaherACC=0.883, StudentACC=0.0195]"
     ]
    },
    {
     "name": "stdout",
     "output_type": "stream",
     "text": [
      "distill loss :  0.6032755234364486\n",
      "general loss :  4.593576128830385\n",
      "response loss :  4.605046844238515\n",
      "Teacher acc: 0.8833199739456177\n",
      "Student acc: 0.019500000402331352\n"
     ]
    },
    {
     "name": "stderr",
     "output_type": "stream",
     "text": [
      "\n"
     ]
    },
    {
     "name": "stdout",
     "output_type": "stream",
     "text": [
      "17 \t test acc : 0.01939999870955944\n",
      "====================================================================================================\n",
      "lr : [8.000000000000003e-05]\n"
     ]
    },
    {
     "name": "stderr",
     "output_type": "stream",
     "text": [
      "100%|██████████| 391/391 [00:53<00:00,  7.34it/s, TeacaherACC=0.884, StudentACC=0.0196]"
     ]
    },
    {
     "name": "stdout",
     "output_type": "stream",
     "text": [
      "distill loss :  0.5938546707326084\n",
      "general loss :  4.593512739976654\n",
      "response loss :  4.605045378360602\n",
      "Teacher acc: 0.8837399482727051\n",
      "Student acc: 0.019600000232458115\n"
     ]
    },
    {
     "name": "stderr",
     "output_type": "stream",
     "text": [
      "\n"
     ]
    },
    {
     "name": "stdout",
     "output_type": "stream",
     "text": [
      "18 \t test acc : 0.01939999870955944\n",
      "====================================================================================================\n",
      "lr : [8.000000000000003e-05]\n"
     ]
    },
    {
     "name": "stderr",
     "output_type": "stream",
     "text": [
      "100%|██████████| 391/391 [00:53<00:00,  7.28it/s, TeacaherACC=0.883, StudentACC=0.0196]"
     ]
    },
    {
     "name": "stdout",
     "output_type": "stream",
     "text": [
      "distill loss :  0.5215033290668359\n",
      "general loss :  4.593583003334377\n",
      "response loss :  4.605045638120997\n",
      "Teacher acc: 0.8831999897956848\n",
      "Student acc: 0.01955999992787838\n"
     ]
    },
    {
     "name": "stderr",
     "output_type": "stream",
     "text": [
      "\n"
     ]
    },
    {
     "name": "stdout",
     "output_type": "stream",
     "text": [
      "19 \t test acc : 0.01939999870955944\n",
      "====================================================================================================\n",
      "lr : [8.000000000000003e-05]\n"
     ]
    },
    {
     "name": "stderr",
     "output_type": "stream",
     "text": [
      "100%|██████████| 391/391 [00:51<00:00,  7.56it/s, TeacaherACC=0.885, StudentACC=0.0194]"
     ]
    },
    {
     "name": "stdout",
     "output_type": "stream",
     "text": [
      "distill loss :  0.5835149139064647\n",
      "general loss :  4.593590461994376\n",
      "response loss :  4.605043217349236\n",
      "Teacher acc: 0.8853600025177002\n",
      "Student acc: 0.019419999793171883\n"
     ]
    },
    {
     "name": "stderr",
     "output_type": "stream",
     "text": [
      "\n"
     ]
    },
    {
     "name": "stdout",
     "output_type": "stream",
     "text": [
      "20 \t test acc : 0.01939999870955944\n",
      "====================================================================================================\n",
      "lr : [1.6000000000000006e-05]\n"
     ]
    },
    {
     "name": "stderr",
     "output_type": "stream",
     "text": [
      "100%|██████████| 391/391 [00:50<00:00,  7.79it/s, TeacaherACC=0.884, StudentACC=0.0194]"
     ]
    },
    {
     "name": "stdout",
     "output_type": "stream",
     "text": [
      "distill loss :  0.5683007079624401\n",
      "general loss :  4.593645201924512\n",
      "response loss :  4.605049382085386\n",
      "Teacher acc: 0.8836199641227722\n",
      "Student acc: 0.019439999014139175\n"
     ]
    },
    {
     "name": "stderr",
     "output_type": "stream",
     "text": [
      "\n"
     ]
    },
    {
     "name": "stdout",
     "output_type": "stream",
     "text": [
      "21 \t test acc : 0.01939999870955944\n",
      "====================================================================================================\n",
      "lr : [1.6000000000000006e-05]\n"
     ]
    },
    {
     "name": "stderr",
     "output_type": "stream",
     "text": [
      "100%|██████████| 391/391 [00:53<00:00,  7.35it/s, TeacaherACC=0.883, StudentACC=0.0193]"
     ]
    },
    {
     "name": "stdout",
     "output_type": "stream",
     "text": [
      "distill loss :  0.5544762916885593\n",
      "general loss :  4.593665329086811\n",
      "response loss :  4.605042717340962\n",
      "Teacher acc: 0.8828799724578857\n",
      "Student acc: 0.019339999184012413\n"
     ]
    },
    {
     "name": "stderr",
     "output_type": "stream",
     "text": [
      "\n"
     ]
    },
    {
     "name": "stdout",
     "output_type": "stream",
     "text": [
      "22 \t test acc : 0.01939999870955944\n",
      "====================================================================================================\n",
      "lr : [1.6000000000000006e-05]\n"
     ]
    },
    {
     "name": "stderr",
     "output_type": "stream",
     "text": [
      "100%|██████████| 391/391 [00:50<00:00,  7.71it/s, TeacaherACC=0.884, StudentACC=0.0195]"
     ]
    },
    {
     "name": "stdout",
     "output_type": "stream",
     "text": [
      "distill loss :  0.4784965154201583\n",
      "general loss :  4.593550174742403\n",
      "response loss :  4.605049005249882\n",
      "Teacher acc: 0.8839199542999268\n",
      "Student acc: 0.01947999931871891\n"
     ]
    },
    {
     "name": "stderr",
     "output_type": "stream",
     "text": [
      "\n"
     ]
    },
    {
     "name": "stdout",
     "output_type": "stream",
     "text": [
      "23 \t test acc : 0.01939999870955944\n",
      "====================================================================================================\n",
      "lr : [1.6000000000000006e-05]\n"
     ]
    },
    {
     "name": "stderr",
     "output_type": "stream",
     "text": [
      "100%|██████████| 391/391 [00:50<00:00,  7.74it/s, TeacaherACC=0.883, StudentACC=0.0194]"
     ]
    },
    {
     "name": "stdout",
     "output_type": "stream",
     "text": [
      "distill loss :  0.6583081632519089\n",
      "general loss :  4.593587927806103\n",
      "response loss :  4.605046739358731\n",
      "Teacher acc: 0.8825199604034424\n",
      "Student acc: 0.01939999870955944\n"
     ]
    },
    {
     "name": "stderr",
     "output_type": "stream",
     "text": [
      "\n"
     ]
    },
    {
     "name": "stdout",
     "output_type": "stream",
     "text": [
      "24 \t test acc : 0.01939999870955944\n",
      "====================================================================================================\n",
      "lr : [3.2000000000000015e-06]\n"
     ]
    },
    {
     "name": "stderr",
     "output_type": "stream",
     "text": [
      "100%|██████████| 391/391 [00:50<00:00,  7.71it/s, TeacaherACC=0.883, StudentACC=0.0195]"
     ]
    },
    {
     "name": "stdout",
     "output_type": "stream",
     "text": [
      "distill loss :  0.5603299182530045\n",
      "general loss :  4.593526495082299\n",
      "response loss :  4.605046616185962\n",
      "Teacher acc: 0.8834999799728394\n",
      "Student acc: 0.019539998844265938\n"
     ]
    },
    {
     "name": "stderr",
     "output_type": "stream",
     "text": [
      "\n"
     ]
    },
    {
     "name": "stdout",
     "output_type": "stream",
     "text": [
      "25 \t test acc : 0.01939999870955944\n",
      "====================================================================================================\n",
      "lr : [3.2000000000000015e-06]\n"
     ]
    },
    {
     "name": "stderr",
     "output_type": "stream",
     "text": [
      "100%|██████████| 391/391 [00:52<00:00,  7.49it/s, TeacaherACC=0.883, StudentACC=0.0196]"
     ]
    },
    {
     "name": "stdout",
     "output_type": "stream",
     "text": [
      "distill loss :  0.6198149775738454\n",
      "general loss :  4.5935915949399515\n",
      "response loss :  4.605048457679846\n",
      "Teacher acc: 0.88291996717453\n",
      "Student acc: 0.01955999992787838\n"
     ]
    },
    {
     "name": "stderr",
     "output_type": "stream",
     "text": [
      "\n"
     ]
    },
    {
     "name": "stdout",
     "output_type": "stream",
     "text": [
      "26 \t test acc : 0.01939999870955944\n",
      "====================================================================================================\n",
      "lr : [3.2000000000000015e-06]\n"
     ]
    },
    {
     "name": "stderr",
     "output_type": "stream",
     "text": [
      "100%|██████████| 391/391 [00:51<00:00,  7.57it/s, TeacaherACC=0.882, StudentACC=0.0195]"
     ]
    },
    {
     "name": "stdout",
     "output_type": "stream",
     "text": [
      "distill loss :  0.5408342089509959\n",
      "general loss :  4.593661242433826\n",
      "response loss :  4.605049657699702\n",
      "Teacher acc: 0.8822000026702881\n",
      "Student acc: 0.019500000402331352\n"
     ]
    },
    {
     "name": "stderr",
     "output_type": "stream",
     "text": [
      "\n"
     ]
    },
    {
     "name": "stdout",
     "output_type": "stream",
     "text": [
      "27 \t test acc : 0.01939999870955944\n",
      "====================================================================================================\n",
      "lr : [3.2000000000000015e-06]\n"
     ]
    },
    {
     "name": "stderr",
     "output_type": "stream",
     "text": [
      "100%|██████████| 391/391 [00:54<00:00,  7.18it/s, TeacaherACC=0.884, StudentACC=0.0195]"
     ]
    },
    {
     "name": "stdout",
     "output_type": "stream",
     "text": [
      "distill loss :  0.5651546363615195\n",
      "general loss :  4.593652519118756\n",
      "response loss :  4.605052328475601\n",
      "Teacher acc: 0.884399950504303\n",
      "Student acc: 0.019519999623298645\n"
     ]
    },
    {
     "name": "stderr",
     "output_type": "stream",
     "text": [
      "\n"
     ]
    },
    {
     "name": "stdout",
     "output_type": "stream",
     "text": [
      "28 \t test acc : 0.01939999870955944\n",
      "====================================================================================================\n",
      "lr : [6.400000000000003e-07]\n"
     ]
    }
   ],
   "source": [
    "student_test_accs = []\n",
    "layer_num = 3\n",
    "temperature = 4\n",
    "\n",
    "utils.set_seed()\n",
    "for epoch in range(400):\n",
    "    \n",
    "    print(f\"lr : {S_scheduler.get_last_lr()}\")\n",
    "    if S_scheduler.get_last_lr()[0] < 0.000001:\n",
    "        break\n",
    "        \n",
    "    T_correct = 0\n",
    "    S_correct = 0\n",
    "    all_data = 0\n",
    "    \n",
    "    loss_distill = []\n",
    "    loss_CE = []\n",
    "    loss_response = []\n",
    "    student.train()\n",
    "    teacher.eval()\n",
    "    pbar = tqdm(train_loader)\n",
    "\n",
    "    for img, label in pbar:\n",
    "        input_data = img.to(device)\n",
    "        label = label.to(device)\n",
    "\n",
    "\n",
    "        all_data += len(input_data)\n",
    "        input_lrp = utils.get_LRP_img(input_data, label, teacher, criterion_CE, T_optimizer, mean=0.5, std = 0.01, mult = 0.4).cuda()\n",
    "\n",
    "        S_optimizer.zero_grad()\n",
    "        T_optimizer.zero_grad()\n",
    "\n",
    "        layer = random.randint(0,  layer_num)\n",
    "        output_s, fk = student(input_data,layer)\n",
    "        output_t, fk_lrp = teacher(input_lrp,layer)\n",
    "\n",
    "#         channal wise pooling\n",
    "        if len(fk.shape) > 2:\n",
    "            fk = torch.mean(fk, dim=2)\n",
    "            fk_lrp = torch.mean(fk_lrp, dim=2)\n",
    "        else:\n",
    "            fk = softmax(fk/temperature)\n",
    "            fk_lrp = softmax(fk_lrp/temperature)\n",
    "\n",
    "\n",
    "        distill_loss = mse(fk, fk_lrp)\n",
    "\n",
    "        CE_loss = criterion_CE(softmax(output_s), label)\n",
    "\n",
    "        response_loss = criterion_response2(output_t, output_s)\n",
    "\n",
    "        T_correct += sum(label == torch.argmax(output_t, dim=1))\n",
    "        S_correct += sum(label == torch.argmax(output_s, dim=1))\n",
    "\n",
    "        loss_CE.append(CE_loss.item())\n",
    "        loss_distill.append(distill_loss.item())\n",
    "        loss_response.append(response_loss.item())\n",
    "\n",
    "        loss = (distill_loss * 3 + CE_loss + response_loss) / 5 \n",
    "        loss.backward()\n",
    "        S_optimizer.step()\n",
    "        pbar.set_postfix({\"TeacaherACC\" : (T_correct / all_data).item(), \"StudentACC\" : (S_correct / all_data).item()})\n",
    "        \n",
    "    print(\"distill loss : \", sum(loss_distill) / len(loss_distill))\n",
    "    print(\"general loss : \", sum(loss_CE) / len(loss_CE))\n",
    "    print(\"response loss : \", sum(loss_response) / len(loss_response))\n",
    "\n",
    "    print(f\"Teacher acc: {T_correct / all_data}\")\n",
    "    print(f\"Student acc: {S_correct / all_data}\")\n",
    "\n",
    "    test_acc = utils.test(student, test_loader,device, epoch) # student도 변하는거 확인 완료함\n",
    "\n",
    "    if test_acc > best_acc + 0.01:\n",
    "        stack = 0\n",
    "        best_acc = test_acc\n",
    "\n",
    "    else:\n",
    "        stack+=1\n",
    "\n",
    "    if stack > 3:  \n",
    "        S_scheduler.step()\n",
    "        stack = 0\n",
    "\n",
    "    student_test_accs.append(test_acc.item())\n",
    "    print(\"=\" * 100)"
   ]
  },
  {
   "cell_type": "code",
   "execution_count": 13,
   "id": "623028ea",
   "metadata": {
    "ExecuteTime": {
     "end_time": "2022-10-18T15:26:33.591452Z",
     "start_time": "2022-10-18T15:26:33.585399Z"
    }
   },
   "outputs": [
    {
     "data": {
      "text/plain": [
       "(torch.Size([80, 16, 32]), torch.Size([80, 16, 32]))"
      ]
     },
     "execution_count": 13,
     "metadata": {},
     "output_type": "execute_result"
    }
   ],
   "source": [
    "fk.shape, fk_lrp.shape"
   ]
  },
  {
   "cell_type": "code",
   "execution_count": 14,
   "id": "5eeef3c6",
   "metadata": {
    "ExecuteTime": {
     "end_time": "2022-10-18T15:26:33.596105Z",
     "start_time": "2022-10-18T15:26:33.593416Z"
    }
   },
   "outputs": [],
   "source": [
    "# distill loss를 2배 키워보는것도 좋을지도"
   ]
  },
  {
   "cell_type": "code",
   "execution_count": 15,
   "id": "dbb7a762",
   "metadata": {
    "ExecuteTime": {
     "end_time": "2022-10-18T15:26:35.480457Z",
     "start_time": "2022-10-18T15:26:33.598022Z"
    }
   },
   "outputs": [
    {
     "name": "stdout",
     "output_type": "stream",
     "text": [
      "29 \t test acc : 0.6866999864578247\n",
      "29 \t test acc : 0.01939999870955944\n"
     ]
    },
    {
     "data": {
      "text/plain": [
       "tensor(0.0194, device='cuda:0')"
      ]
     },
     "execution_count": 15,
     "metadata": {},
     "output_type": "execute_result"
    }
   ],
   "source": [
    "utils.test(teacher, test_loader,device, epoch) # student도 변하는거 확인 완료함\n",
    "utils.test(student, test_loader,device, epoch) # student도 변하는거 확인 완료함\n"
   ]
  },
  {
   "cell_type": "code",
   "execution_count": 16,
   "id": "08941597",
   "metadata": {
    "ExecuteTime": {
     "end_time": "2022-10-18T15:26:35.488037Z",
     "start_time": "2022-10-18T15:26:35.483652Z"
    }
   },
   "outputs": [],
   "source": [
    "# torch.save(student, \"saved_models/resnet/resnet{depth}_student.pth\")"
   ]
  },
  {
   "cell_type": "code",
   "execution_count": 17,
   "id": "623bc543",
   "metadata": {
    "ExecuteTime": {
     "end_time": "2022-10-18T15:26:35.492394Z",
     "start_time": "2022-10-18T15:26:35.490171Z"
    }
   },
   "outputs": [],
   "source": [
    "# import json\n",
    "\n",
    "# with open(f\"saved_models/resnet/resnet{depth}.json\", \"w\") as f:\n",
    "#     json.dump({\"student_test_accs\" : student_test_accs}, f)"
   ]
  }
 ],
 "metadata": {
  "kernelspec": {
   "display_name": "cuda_11_6",
   "language": "python",
   "name": "cuda_11_6"
  },
  "language_info": {
   "codemirror_mode": {
    "name": "ipython",
    "version": 3
   },
   "file_extension": ".py",
   "mimetype": "text/x-python",
   "name": "python",
   "nbconvert_exporter": "python",
   "pygments_lexer": "ipython3",
   "version": "3.8.13"
  },
  "latex_envs": {
   "LaTeX_envs_menu_present": true,
   "autoclose": false,
   "autocomplete": true,
   "bibliofile": "biblio.bib",
   "cite_by": "apalike",
   "current_citInitial": 1,
   "eqLabelWithNumbers": true,
   "eqNumInitial": 1,
   "hotkeys": {
    "equation": "Ctrl-E",
    "itemize": "Ctrl-I"
   },
   "labels_anchors": false,
   "latex_user_defs": false,
   "report_style_numbering": false,
   "user_envs_cfg": false
  },
  "toc": {
   "base_numbering": 1,
   "nav_menu": {},
   "number_sections": false,
   "sideBar": true,
   "skip_h1_title": false,
   "title_cell": "Table of Contents",
   "title_sidebar": "Contents",
   "toc_cell": false,
   "toc_position": {},
   "toc_section_display": true,
   "toc_window_display": false
  }
 },
 "nbformat": 4,
 "nbformat_minor": 5
}
