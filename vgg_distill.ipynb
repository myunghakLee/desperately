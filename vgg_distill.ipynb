{
 "cells": [
  {
   "cell_type": "code",
   "execution_count": 1,
   "id": "6cfff69b",
   "metadata": {
    "ExecuteTime": {
     "end_time": "2022-09-18T13:22:40.493450Z",
     "start_time": "2022-09-18T13:22:35.122083Z"
    }
   },
   "outputs": [
    {
     "name": "stderr",
     "output_type": "stream",
     "text": [
      "Using cache found in /home/M2021080/.cache/torch/hub/pytorch_vision_main\n",
      "/home/M2021080/.cache/torch/hub/pytorch_vision_main/torchvision/io/image.py:13: UserWarning: Failed to load image Python extension: \n",
      "  warn(f\"Failed to load image Python extension: {e}\")\n",
      "Using cache found in /home/M2021080/.cache/torch/hub/pytorch_vision_main\n",
      "/home/M2021080/.cache/torch/hub/pytorch_vision_main/torchvision/models/_utils.py:223: UserWarning: Arguments other than a weight enum or `None` for 'weights' are deprecated since 0.13 and will be removed in 0.15. The current behavior is equivalent to passing `weights=ResNet50_Weights.IMAGENET1K_V1`. You can also use `weights=ResNet50_Weights.DEFAULT` to get the most up-to-date weights.\n",
      "  warnings.warn(msg)\n"
     ]
    }
   ],
   "source": [
    "import torch\n",
    "model = torch.hub.load(\"pytorch/vision\", \"vit_b_16\")\n",
    "\n",
    "import torchvision\n",
    "from Models.transformer import VisionTransformer as vit\n",
    "import Models.Conv as conv\n",
    "\n",
    "from DataLoader import CIFAR100\n",
    "from tqdm import tqdm\n",
    "import torch.optim as optim\n",
    "import torch.nn as nn\n",
    "\n",
    "import utils\n",
    "\n",
    "import numpy as np\n",
    "import torch.backends.cudnn as cudnn\n",
    "import random"
   ]
  },
  {
   "cell_type": "code",
   "execution_count": 2,
   "id": "120851d3",
   "metadata": {
    "ExecuteTime": {
     "end_time": "2022-09-18T13:22:42.033440Z",
     "start_time": "2022-09-18T13:22:40.496697Z"
    }
   },
   "outputs": [
    {
     "name": "stdout",
     "output_type": "stream",
     "text": [
      "Files already downloaded and verified\n",
      "Files already downloaded and verified\n"
     ]
    }
   ],
   "source": [
    "train_loader, test_loader = CIFAR100.get_data(32*3)"
   ]
  },
  {
   "cell_type": "code",
   "execution_count": 3,
   "id": "86802674",
   "metadata": {
    "ExecuteTime": {
     "end_time": "2022-09-18T13:22:42.039353Z",
     "start_time": "2022-09-18T13:22:42.036029Z"
    },
    "scrolled": true
   },
   "outputs": [],
   "source": [
    "depths = [11, 13, 16, 19]\n",
    "\n",
    "criterion_onlylabel = lambda a,b : mse(a*b, b)\n",
    "criterion_CE = nn.CrossEntropyLoss()\n",
    "mse = nn.MSELoss()\n",
    "softmax = torch.nn.Softmax(dim = 1)\n",
    "criterion_KLD = torch.nn.KLDivLoss(reduction=\"batchmean\")\n",
    "criterion_response = lambda a,b : criterion_KLD(torch.log_softmax(a, dim=1),torch.softmax(b, dim=1))\n",
    "CE_loss = nn.CrossEntropyLoss()\n"
   ]
  },
  {
   "cell_type": "code",
   "execution_count": null,
   "id": "8cd206cb",
   "metadata": {
    "ExecuteTime": {
     "start_time": "2022-09-18T13:22:35.845Z"
    }
   },
   "outputs": [
    {
     "name": "stdout",
     "output_type": "stream",
     "text": [
      "DEPTH : 11!!!!!!!!!!!!!!!!!!!!!!!!!!!!!!!!!!!!!!!!!!!!!!!!!!!!!!!!!!!!!!!!!!!!!!!!!!!!!!!!!!!!!!!!!!!!!!!!!!!!!!!!!!!!!!!!!!!!!!!!!!!!!!!!!!!!!!!!!!!!!!!!!!!!!!!!!!!!!!!!!!!!!!!!!!!!!!!!!!!!!!!!!!!!!!!!!!!!!!!!\n"
     ]
    },
    {
     "name": "stderr",
     "output_type": "stream",
     "text": [
      "Using cache found in /home/M2021080/.cache/torch/hub/pytorch_vision_main\n",
      "Using cache found in /home/M2021080/.cache/torch/hub/pytorch_vision_main\n",
      "100%|██████████| 105/105 [00:17<00:00,  5.89it/s]\n"
     ]
    },
    {
     "name": "stdout",
     "output_type": "stream",
     "text": [
      "0 \t test acc : 0.7490999698638916\n"
     ]
    },
    {
     "name": "stderr",
     "output_type": "stream",
     "text": [
      "100%|██████████| 105/105 [00:17<00:00,  6.08it/s]\n"
     ]
    },
    {
     "name": "stdout",
     "output_type": "stream",
     "text": [
      "0 \t test acc : 0.014099999330937862\n",
      "lr : [0.01]\n"
     ]
    },
    {
     "name": "stderr",
     "output_type": "stream",
     "text": [
      "100%|██████████| 521/521 [10:16<00:00,  1.18s/it]\n"
     ]
    },
    {
     "name": "stdout",
     "output_type": "stream",
     "text": [
      "distill loss :  0.16016956287030257\n",
      "general loss :  2.5865045573111916\n",
      "Teacher acc: 0.9621399641036987\n",
      "Student acc: 0.35255998373031616\n"
     ]
    },
    {
     "name": "stderr",
     "output_type": "stream",
     "text": [
      "100%|██████████| 105/105 [00:17<00:00,  6.10it/s]\n"
     ]
    },
    {
     "name": "stdout",
     "output_type": "stream",
     "text": [
      "0 \t test acc : 0.6004999876022339\n",
      "====================================================================================================\n",
      "lr : [0.01]\n"
     ]
    },
    {
     "name": "stderr",
     "output_type": "stream",
     "text": [
      "100%|██████████| 521/521 [10:16<00:00,  1.18s/it]\n"
     ]
    },
    {
     "name": "stdout",
     "output_type": "stream",
     "text": [
      "distill loss :  0.1185673466706058\n",
      "general loss :  1.940304742207225\n",
      "Teacher acc: 0.9617199897766113\n",
      "Student acc: 0.48597997426986694\n"
     ]
    },
    {
     "name": "stderr",
     "output_type": "stream",
     "text": [
      "100%|██████████| 105/105 [00:17<00:00,  6.09it/s]\n"
     ]
    },
    {
     "name": "stdout",
     "output_type": "stream",
     "text": [
      "1 \t test acc : 0.6660000085830688\n",
      "====================================================================================================\n",
      "lr : [0.01]\n"
     ]
    },
    {
     "name": "stderr",
     "output_type": "stream",
     "text": [
      " 70%|███████   | 366/521 [07:13<03:07,  1.21s/it]"
     ]
    }
   ],
   "source": [
    "for depth in depths:\n",
    "    \n",
    "    print(f\"DEPTH : {depth}\" + \"!\" * 200)\n",
    "    torch.cuda.empty_cache()\n",
    "    \n",
    "    teacher = torch.hub.load(\"pytorch/vision\", f'vgg{depth}_bn')\n",
    "    teacher.classifier[-1] = nn.Linear(teacher.classifier[-1].in_features, 100)\n",
    "    teacher.load_state_dict(torch.load(f\"saved_models/vgg/vgg{depth}.pth\").module.state_dict())\n",
    "    teacher = conv.vgg_feature(100, depth, teacher)\n",
    "\n",
    "    student = conv.vgg_feature(100, depth, pretrained = \"IMAGENET1K_V1\")\n",
    "\n",
    "\n",
    "    device = \"cuda\"\n",
    "\n",
    "    teacher = teacher.to(device)\n",
    "    # teacher = torch.nn.DataParallel(teacher, device_ids=[0, 1, 2])\n",
    "\n",
    "    student = student.to(device)\n",
    "    # student = torch.nn.DataParallel(student, device_ids=[0, 1, 2])\n",
    "\n",
    "\n",
    "    S_optimizer = optim.SGD(student.parameters(), lr=0.01, momentum=0.9)\n",
    "    T_optimizer = optim.SGD(teacher.parameters(), lr=0.01, momentum=0.9)\n",
    "\n",
    "    S_scheduler = torch.optim.lr_scheduler.MultiStepLR(S_optimizer, milestones=[1,2,3,4,5,6,7], gamma=0.1)\n",
    "    T_scheduler = torch.optim.lr_scheduler.MultiStepLR(T_optimizer, milestones=[1,2,3,4,5,6,7], gamma=0.1)\n",
    "\n",
    "    utils.set_seed()\n",
    "    best_acc = 0.0\n",
    "    stack = 0\n",
    "\n",
    "    accs_train = []\n",
    "    accs_test = []\n",
    "\n",
    "    utils.test(teacher, test_loader,device) # student도 변하는거 확인 완료함\n",
    "    utils.test(student, test_loader,device) # student도 변하는거 확인 완료함\n",
    "\n",
    "    length = student.length + 1\n",
    "\n",
    "    torch.cuda.empty_cache()\n",
    "\n",
    "    student_test_accs = []\n",
    "\n",
    "    for epoch in range(100):\n",
    "\n",
    "        print(f\"lr : {S_scheduler.get_last_lr()}\")\n",
    "\n",
    "        if S_scheduler.get_last_lr()[0] < 0.000001:\n",
    "            break\n",
    "\n",
    "        T_correct = 0\n",
    "        S_correct = 0\n",
    "        all_data = 0\n",
    "\n",
    "        loss_distill = []\n",
    "        loss_CE = []\n",
    "    #     loss_response = []\n",
    "        student.train()\n",
    "        teacher.eval()\n",
    "        for img, label in tqdm(train_loader):\n",
    "            input_data = img.to(device)\n",
    "            label = label.to(device)\n",
    "\n",
    "\n",
    "            all_data += len(input_data)\n",
    "            input_lrp = utils.get_LRP_img(input_data, label, teacher, criterion_CE, T_optimizer, mean=1.5, std = 0.1, mult=0.4).cuda()\n",
    "\n",
    "            S_optimizer.zero_grad()\n",
    "            T_optimizer.zero_grad()\n",
    "\n",
    "            layer = random.randint(0,  length)\n",
    "            input_data, fk = student(input_data,layer)\n",
    "            input_lrp, fk_lrp = teacher(input_lrp,layer)\n",
    "\n",
    "            if layer < student.length:\n",
    "                fk = torch.mean(fk, dim=1)\n",
    "                fk_lrp = torch.mean(fk_lrp, dim=1)\n",
    "\n",
    "            distill_loss = mse(fk, fk_lrp)\n",
    "    #         distill_loss = (mse(torch.mean(fk, dim=2), torch.mean(fk_lrp, dim=2)) + mse(torch.mean(fk, dim=1), torch.mean(fk_lrp, dim=1))) / 2\n",
    "\n",
    "            CE_loss = criterion_CE(input_data, label)\n",
    "\n",
    "            response_loss = criterion_response(input_data, input_lrp)\n",
    "\n",
    "\n",
    "            T_correct += sum(label == torch.argmax(input_lrp, dim=1))\n",
    "            S_correct += sum(label == torch.argmax(input_data, dim=1))\n",
    "\n",
    "            loss_CE.append(CE_loss.item())\n",
    "            loss_distill.append(distill_loss.item())\n",
    "    #         loss_response.append(response_loss.item())\n",
    "\n",
    "            loss = (distill_loss * 2 + CE_loss) / 2\n",
    "            loss.backward()\n",
    "            S_optimizer.step()\n",
    "\n",
    "        print(\"distill loss : \", sum(loss_distill) / len(loss_distill))\n",
    "        print(\"general loss : \", sum(loss_CE) / len(loss_CE))\n",
    "    #     print(\"response loss : \", sum(loss_response) / len(loss_response))\n",
    "\n",
    "        print(f\"Teacher acc: {T_correct / all_data}\")\n",
    "        print(f\"Student acc: {S_correct / all_data}\")\n",
    "\n",
    "        test_acc = utils.test(student, test_loader,device, epoch) # student도 변하는거 확인 완료함\n",
    "\n",
    "        if test_acc > best_acc + 0.01:\n",
    "            stack = 0\n",
    "            best_acc = test_acc\n",
    "\n",
    "        else:\n",
    "            stack+=1\n",
    "\n",
    "        if stack > 3:\n",
    "            S_scheduler.step()\n",
    "            stack = 0\n",
    "\n",
    "        student_test_accs.append(test_acc.item())\n",
    "        print(\"=\" * 100)\n",
    "\n",
    "\n",
    "    saved_folder = \"saved_models/vgg/\"\n",
    "    torch.save(student, f\"{saved_folder}/vgg{depth}_student.pth\")\n",
    "\n",
    "    with open(f\"{saved_folder}/vgg{depth}_student.json\", \"w\") as f:\n",
    "        json.dump({\"student_test_accs\" : student_test_accs}, f)\n",
    "        \n",
    "    del teacher\n",
    "    del student"
   ]
  }
 ],
 "metadata": {
  "kernelspec": {
   "display_name": "cuda_11_3",
   "language": "python",
   "name": "cuda_11_3"
  },
  "language_info": {
   "codemirror_mode": {
    "name": "ipython",
    "version": 3
   },
   "file_extension": ".py",
   "mimetype": "text/x-python",
   "name": "python",
   "nbconvert_exporter": "python",
   "pygments_lexer": "ipython3",
   "version": "3.8.12"
  },
  "latex_envs": {
   "LaTeX_envs_menu_present": true,
   "autoclose": false,
   "autocomplete": true,
   "bibliofile": "biblio.bib",
   "cite_by": "apalike",
   "current_citInitial": 1,
   "eqLabelWithNumbers": true,
   "eqNumInitial": 1,
   "hotkeys": {
    "equation": "Ctrl-E",
    "itemize": "Ctrl-I"
   },
   "labels_anchors": false,
   "latex_user_defs": false,
   "report_style_numbering": false,
   "user_envs_cfg": false
  },
  "toc": {
   "base_numbering": 1,
   "nav_menu": {},
   "number_sections": false,
   "sideBar": true,
   "skip_h1_title": false,
   "title_cell": "Table of Contents",
   "title_sidebar": "Contents",
   "toc_cell": false,
   "toc_position": {},
   "toc_section_display": true,
   "toc_window_display": false
  }
 },
 "nbformat": 4,
 "nbformat_minor": 5
}
